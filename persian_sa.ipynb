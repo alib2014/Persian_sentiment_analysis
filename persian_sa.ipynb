{
 "cells": [
  {
   "cell_type": "code",
   "execution_count": 429,
   "metadata": {
    "jupyter": {
     "is_executing": true
    }
   },
   "outputs": [],
   "source": [
    "import pandas as pd\n",
    "import numpy as np \n",
    "import matplotlib.pyplot as plt\n",
    "import seaborn as sns"
   ]
  },
  {
   "cell_type": "code",
   "execution_count": 430,
   "metadata": {},
   "outputs": [
    {
     "data": {
      "text/html": [
       "<div>\n",
       "<style scoped>\n",
       "    .dataframe tbody tr th:only-of-type {\n",
       "        vertical-align: middle;\n",
       "    }\n",
       "\n",
       "    .dataframe tbody tr th {\n",
       "        vertical-align: top;\n",
       "    }\n",
       "\n",
       "    .dataframe thead th {\n",
       "        text-align: right;\n",
       "    }\n",
       "</style>\n",
       "<table border=\"1\" class=\"dataframe\">\n",
       "  <thead>\n",
       "    <tr style=\"text-align: right;\">\n",
       "      <th></th>\n",
       "      <th>Sentence</th>\n",
       "      <th>Emotion</th>\n",
       "    </tr>\n",
       "  </thead>\n",
       "  <tbody>\n",
       "    <tr>\n",
       "      <th>0</th>\n",
       "      <td>کی گفته مرد گریه نمیکنه!؟!؟ سیلم امشب سیل #اصفهان</td>\n",
       "      <td>SAD</td>\n",
       "    </tr>\n",
       "    <tr>\n",
       "      <th>1</th>\n",
       "      <td>عکسی که چند روز پیش گذاشته بودم این فیلم الانش...</td>\n",
       "      <td>OTHER</td>\n",
       "    </tr>\n",
       "    <tr>\n",
       "      <th>2</th>\n",
       "      <td>تنهاییم شبیه تنهاییه ظهرای بچگیم شده وقتی که ه...</td>\n",
       "      <td>SAD</td>\n",
       "    </tr>\n",
       "    <tr>\n",
       "      <th>3</th>\n",
       "      <td>خوبه تمام قسمت‌های گوشی رو محافظت می‌کنه</td>\n",
       "      <td>HAPPY</td>\n",
       "    </tr>\n",
       "    <tr>\n",
       "      <th>4</th>\n",
       "      <td>این خاک مال مردمان است نه حاکمان #ایران #مهسا_...</td>\n",
       "      <td>ANGRY</td>\n",
       "    </tr>\n",
       "  </tbody>\n",
       "</table>\n",
       "</div>"
      ],
      "text/plain": [
       "                                            Sentence Emotion\n",
       "0  کی گفته مرد گریه نمیکنه!؟!؟ سیلم امشب سیل #اصفهان     SAD\n",
       "1  عکسی که چند روز پیش گذاشته بودم این فیلم الانش...   OTHER\n",
       "2  تنهاییم شبیه تنهاییه ظهرای بچگیم شده وقتی که ه...     SAD\n",
       "3           خوبه تمام قسمت‌های گوشی رو محافظت می‌کنه   HAPPY\n",
       "4  این خاک مال مردمان است نه حاکمان #ایران #مهسا_...   ANGRY"
      ]
     },
     "execution_count": 430,
     "metadata": {},
     "output_type": "execute_result"
    }
   ],
   "source": [
    "data = pd.read_excel('train_data.xlsx')\n",
    "data.head()"
   ]
  },
  {
   "cell_type": "code",
   "execution_count": 431,
   "metadata": {},
   "outputs": [],
   "source": [
    "def column_name_set(data):\n",
    "    num_cols = data.shape[1]\n",
    "\n",
    "    if num_cols == 2:\n",
    "        data.columns = ['Sentence', 'Emotion']\n",
    "    else:\n",
    "        data.columns = ['Sentence']\n",
    "        data['Emotion'] = None\n",
    "\n",
    "    return data"
   ]
  },
  {
   "cell_type": "code",
   "execution_count": 432,
   "metadata": {},
   "outputs": [
    {
     "data": {
      "text/html": [
       "<div>\n",
       "<style scoped>\n",
       "    .dataframe tbody tr th:only-of-type {\n",
       "        vertical-align: middle;\n",
       "    }\n",
       "\n",
       "    .dataframe tbody tr th {\n",
       "        vertical-align: top;\n",
       "    }\n",
       "\n",
       "    .dataframe thead th {\n",
       "        text-align: right;\n",
       "    }\n",
       "</style>\n",
       "<table border=\"1\" class=\"dataframe\">\n",
       "  <thead>\n",
       "    <tr style=\"text-align: right;\">\n",
       "      <th></th>\n",
       "      <th>Sentence</th>\n",
       "      <th>Emotion</th>\n",
       "    </tr>\n",
       "  </thead>\n",
       "  <tbody>\n",
       "    <tr>\n",
       "      <th>0</th>\n",
       "      <td>کی گفته مرد گریه نمیکنه!؟!؟ سیلم امشب سیل #اصفهان</td>\n",
       "      <td>SAD</td>\n",
       "    </tr>\n",
       "    <tr>\n",
       "      <th>1</th>\n",
       "      <td>عکسی که چند روز پیش گذاشته بودم این فیلم الانش...</td>\n",
       "      <td>OTHER</td>\n",
       "    </tr>\n",
       "    <tr>\n",
       "      <th>2</th>\n",
       "      <td>تنهاییم شبیه تنهاییه ظهرای بچگیم شده وقتی که ه...</td>\n",
       "      <td>SAD</td>\n",
       "    </tr>\n",
       "    <tr>\n",
       "      <th>3</th>\n",
       "      <td>خوبه تمام قسمت‌های گوشی رو محافظت می‌کنه</td>\n",
       "      <td>HAPPY</td>\n",
       "    </tr>\n",
       "    <tr>\n",
       "      <th>4</th>\n",
       "      <td>این خاک مال مردمان است نه حاکمان #ایران #مهسا_...</td>\n",
       "      <td>ANGRY</td>\n",
       "    </tr>\n",
       "  </tbody>\n",
       "</table>\n",
       "</div>"
      ],
      "text/plain": [
       "                                            Sentence Emotion\n",
       "0  کی گفته مرد گریه نمیکنه!؟!؟ سیلم امشب سیل #اصفهان     SAD\n",
       "1  عکسی که چند روز پیش گذاشته بودم این فیلم الانش...   OTHER\n",
       "2  تنهاییم شبیه تنهاییه ظهرای بچگیم شده وقتی که ه...     SAD\n",
       "3           خوبه تمام قسمت‌های گوشی رو محافظت می‌کنه   HAPPY\n",
       "4  این خاک مال مردمان است نه حاکمان #ایران #مهسا_...   ANGRY"
      ]
     },
     "execution_count": 432,
     "metadata": {},
     "output_type": "execute_result"
    }
   ],
   "source": [
    "data = column_name_set(data)\n",
    "data.head()"
   ]
  },
  {
   "cell_type": "code",
   "execution_count": 433,
   "metadata": {},
   "outputs": [
    {
     "data": {
      "text/html": [
       "<div>\n",
       "<style scoped>\n",
       "    .dataframe tbody tr th:only-of-type {\n",
       "        vertical-align: middle;\n",
       "    }\n",
       "\n",
       "    .dataframe tbody tr th {\n",
       "        vertical-align: top;\n",
       "    }\n",
       "\n",
       "    .dataframe thead th {\n",
       "        text-align: right;\n",
       "    }\n",
       "</style>\n",
       "<table border=\"1\" class=\"dataframe\">\n",
       "  <thead>\n",
       "    <tr style=\"text-align: right;\">\n",
       "      <th></th>\n",
       "      <th>Sentence</th>\n",
       "      <th>Emotion</th>\n",
       "    </tr>\n",
       "  </thead>\n",
       "  <tbody>\n",
       "    <tr>\n",
       "      <th>count</th>\n",
       "      <td>4924</td>\n",
       "      <td>4924</td>\n",
       "    </tr>\n",
       "    <tr>\n",
       "      <th>unique</th>\n",
       "      <td>4924</td>\n",
       "      <td>5</td>\n",
       "    </tr>\n",
       "    <tr>\n",
       "      <th>top</th>\n",
       "      <td>کی گفته مرد گریه نمیکنه!؟!؟ سیلم امشب سیل #اصفهان</td>\n",
       "      <td>HAPPY</td>\n",
       "    </tr>\n",
       "    <tr>\n",
       "      <th>freq</th>\n",
       "      <td>1</td>\n",
       "      <td>1462</td>\n",
       "    </tr>\n",
       "  </tbody>\n",
       "</table>\n",
       "</div>"
      ],
      "text/plain": [
       "                                                 Sentence Emotion\n",
       "count                                                4924    4924\n",
       "unique                                               4924       5\n",
       "top     کی گفته مرد گریه نمیکنه!؟!؟ سیلم امشب سیل #اصفهان   HAPPY\n",
       "freq                                                    1    1462"
      ]
     },
     "execution_count": 433,
     "metadata": {},
     "output_type": "execute_result"
    }
   ],
   "source": [
    "data.describe()"
   ]
  },
  {
   "cell_type": "code",
   "execution_count": 434,
   "metadata": {},
   "outputs": [
    {
     "name": "stdout",
     "output_type": "stream",
     "text": [
      "<class 'pandas.core.frame.DataFrame'>\n",
      "RangeIndex: 4924 entries, 0 to 4923\n",
      "Data columns (total 2 columns):\n",
      " #   Column    Non-Null Count  Dtype \n",
      "---  ------    --------------  ----- \n",
      " 0   Sentence  4924 non-null   object\n",
      " 1   Emotion   4924 non-null   object\n",
      "dtypes: object(2)\n",
      "memory usage: 77.1+ KB\n"
     ]
    }
   ],
   "source": [
    "data.info()"
   ]
  },
  {
   "cell_type": "code",
   "execution_count": 435,
   "metadata": {},
   "outputs": [
    {
     "data": {
      "text/plain": [
       "Sentence    0\n",
       "Emotion     0\n",
       "dtype: int64"
      ]
     },
     "execution_count": 435,
     "metadata": {},
     "output_type": "execute_result"
    }
   ],
   "source": [
    "data.isnull().sum()"
   ]
  },
  {
   "cell_type": "code",
   "execution_count": 436,
   "metadata": {},
   "outputs": [
    {
     "name": "stderr",
     "output_type": "stream",
     "text": [
      "C:\\Users\\hi\\AppData\\Local\\Temp\\ipykernel_8964\\1880826210.py:2: FutureWarning: \n",
      "\n",
      "Passing `palette` without assigning `hue` is deprecated and will be removed in v0.14.0. Assign the `x` variable to `hue` and set `legend=False` for the same effect.\n",
      "\n",
      "  sns.countplot(data=data, x='Emotion', palette='plasma')\n"
     ]
    },
    {
     "data": {
      "text/plain": [
       "<Axes: xlabel='Emotion', ylabel='count'>"
      ]
     },
     "execution_count": 436,
     "metadata": {},
     "output_type": "execute_result"
    },
    {
     "data": {
      "image/png": "[encoded data removed]",
      "text/plain": [
       "<Figure size 864x432 with 1 Axes>"
      ]
     },
     "metadata": {
      "needs_background": "light"
     },
     "output_type": "display_data"
    }
   ],
   "source": [
    "plt.figure(figsize=(12, 6))\n",
    "sns.countplot(data=data, x='Emotion', palette='plasma')"
   ]
  },
  {
   "cell_type": "code",
   "execution_count": 437,
   "metadata": {},
   "outputs": [
    {
     "data": {
      "text/plain": [
       "0"
      ]
     },
     "execution_count": 437,
     "metadata": {},
     "output_type": "execute_result"
    }
   ],
   "source": [
    "data.duplicated().sum()"
   ]
  },
  {
   "cell_type": "markdown",
   "metadata": {},
   "source": [
    "#### The provided data set contains a collection of Persian sentences and the corresponding emotions associated with each sentence. The dataset has two columns: one for the sentence and the other for the emotion of that sentence. Initially, the column names were not provided, so the first step was to set appropriate names for the columns. This was done to ensure clarity and ease of reference when working with the data. After setting the column names, the next step was to check the data for any null values or duplicate rows. Fortunately, the analysis revealed that there were no null values or duplicate rows in the dataset. Finally, to gain a better understanding of the data, a count plot of the target values (emotions) was generated. The result of this analysis showed that the majority of the sentences in the dataset evoke a sense of happiness, while the sentences conveying a sense of fear are the least common."
   ]
  },
  {
   "cell_type": "markdown",
   "metadata": {},
   "source": [
    "# Preproccessing"
   ]
  },
  {
   "cell_type": "code",
   "execution_count": 438,
   "metadata": {},
   "outputs": [],
   "source": [
    "import hazm "
   ]
  },
  {
   "cell_type": "code",
   "execution_count": 439,
   "metadata": {},
   "outputs": [
    {
     "name": "stdout",
     "output_type": "stream",
     "text": [
      "210\n",
      "{'✌', '٪', 'ت', 'س', '[', 'M', ':', 'ع', 'ؤ', '۷', 'ز', '_', '♥', 'Z', 'y', '3', 'l', 'ل', 'ة', 'ّ', 'x', '|', '⛓', 'د', 'a', 's', '…', 'ي', 'ᴛ', '%', 'K', 'm', 'پ', 'L', 'ا', '٦', 'B', 't', ',', '⭐', '؟', '*', 'ᴇ', 'j', 'I', 'أ', 'ـ', 'ْ', '&', '٬', 'ئ', 'ٔ', '/', 'C', 'خ', 'J', 'ن', 'ر', '(', '-', '7', 'p', '✅', 'ۀ', 'ص', 'Y', '❤', '\\u2067', 'ح', 'b', 'S', 'q', 'h', 'R', 'i', 'E', 'ټ', '۴', 'f', '☹', 'F', '\\u200c', '☘', 'ی', '✍', '♀', 'ɴ', '؛', '⭕', 'ط', '۰', '۶', 'ᴏ', 'گ', '‐', '¹', 'w', ' ', '٣', 'آ', 'H', '=', '١', '0', '6', 'ُ', '⚘', '\\u200d', '“', 'D', '☺', 'T', ';', 'ك', 'W', '⚽', '’', '²', '،', 'و', '»', '٠', 'U', '\\u2066', 'd', 'k', '‘', 'Q', 'e', 'N', 'چ', 'ھ', 'c', 'ے', '!', '۱', '✋', 'ک', 'ʏ', '☄', 'n', '۸', 'O', 'z', '٫', ']', '}', '2', 'ى', '☠', 'ژ', 'r', 'u', '۵', '❄', '⁉', '+', '°', 'ظ', 'غ', 'v', 'ث', '«', 'ء', 'A', 'ج', 'ە', '٢', 'G', '✨', 'g', '♂', 'ه', '8', 'م', 'ف', '۹', 'ِ', ')', '•', '#', '1', '۔', 'V', 'ق', '️', '.', 'َ', '⊰', '?', 'ض', 'ً', 'ذ', '^', '۲', '”', '4', '9', '⃟', '۳', 'ہ', '~', '\\u2069', 'ش', 'o', '\\n', '5', 'P', 'ب', '☝'}\n"
     ]
    }
   ],
   "source": [
    "uniqueChars = set(''.join(data['Sentence']))\n",
    "print(len(uniqueChars))\n",
    "print(uniqueChars)"
   ]
  },
  {
   "cell_type": "code",
   "execution_count": 440,
   "metadata": {},
   "outputs": [],
   "source": [
    "def normalize_yeh(text):\n",
    "    yeh_characters = ['ی', 'ي', 'ے', 'ئ', 'ى']\n",
    "    for char in yeh_characters:\n",
    "        text = text.replace(char, 'ی')\n",
    "    return text"
   ]
  },
  {
   "cell_type": "code",
   "execution_count": 441,
   "metadata": {},
   "outputs": [],
   "source": [
    "def number_convertor(text):\n",
    "    persian_digits = '۰۱۲۳۴۵۶۷۸۹٦'\n",
    "    english_digits = '01234567896'\n",
    "    translation_table = str.maketrans(persian_digits, english_digits)\n",
    "    return text.translate(translation_table)"
   ]
  },
  {
   "cell_type": "code",
   "execution_count": 442,
   "metadata": {},
   "outputs": [
    {
     "name": "stdout",
     "output_type": "stream",
     "text": [
      "199\n",
      "{'✌', '٪', 'ت', 'س', '[', 'M', ':', 'ع', 'ؤ', 'ز', '_', '♥', 'Z', 'y', '3', 'l', 'ل', 'ة', 'ّ', 'x', '|', '⛓', 'د', 'a', 's', '…', 'ي', 'ᴛ', '%', 'K', 'm', 'پ', 'L', 'ا', 'B', 't', ',', '⭐', '؟', '*', 'ᴇ', 'j', 'I', 'أ', 'ـ', 'ْ', '&', '٬', 'ئ', 'ٔ', '/', 'C', 'خ', 'J', 'ن', 'ر', '(', '-', '7', 'p', '✅', 'ۀ', 'ص', 'Y', '❤', '\\u2067', 'ح', 'b', 'S', 'q', 'h', 'R', 'i', 'E', 'ټ', 'f', '☹', 'F', '\\u200c', '☘', 'ی', '✍', '♀', 'ɴ', '؛', '⭕', 'ط', 'ᴏ', 'گ', '‐', '¹', 'w', ' ', '٣', 'آ', 'H', '=', '١', '0', '6', 'ُ', '⚘', '\\u200d', '“', 'D', '☺', 'T', ';', 'ك', 'W', '⚽', '’', '²', '،', 'و', '»', '٠', 'U', '\\u2066', 'd', 'k', '‘', 'Q', 'e', 'N', 'چ', 'ھ', 'c', 'ے', '!', '✋', 'ک', 'ʏ', '☄', 'n', 'O', 'z', '٫', ']', '}', '2', 'ى', '☠', 'ژ', 'r', 'u', '⁉', '❄', '°', '+', 'ظ', 'غ', 'v', 'ث', '«', 'ء', 'A', 'ج', 'ە', '٢', 'G', '✨', 'g', '♂', 'ه', '8', 'م', 'ف', 'ِ', ')', '•', '#', '1', '۔', 'V', 'ق', '️', '.', 'َ', '⊰', '?', 'ض', 'ً', 'ذ', '^', '”', '4', '9', '⃟', '~', 'ہ', '\\u2069', 'ش', 'o', '\\n', '5', 'P', 'ب', '☝'}\n"
     ]
    }
   ],
   "source": [
    "data['Sentence'] = data['Sentence'].apply(number_convertor)\n",
    "uniqueChars = set(''.join(data['Sentence']))\n",
    "print(len(uniqueChars))\n",
    "print(uniqueChars)"
   ]
  },
  {
   "cell_type": "code",
   "execution_count": 443,
   "metadata": {},
   "outputs": [
    {
     "name": "stdout",
     "output_type": "stream",
     "text": [
      "195\n",
      "{'✌', '٪', 'ت', 'س', '[', 'M', ':', 'ع', 'ؤ', 'ز', '_', '♥', 'Z', 'y', '3', 'l', 'ل', 'ة', 'ّ', 'x', '|', '⛓', 'د', 'a', 's', '…', 'ᴛ', '%', 'K', 'm', 'پ', 'L', 'ا', 'B', 't', ',', '⭐', '؟', '*', 'ᴇ', 'j', 'I', 'أ', 'ـ', 'ْ', '&', '٬', 'ٔ', '/', 'C', 'خ', 'J', 'ن', 'ر', '(', '-', '7', 'p', '✅', 'ۀ', 'ص', 'Y', '❤', '\\u2067', 'ح', 'b', 'S', 'q', 'h', 'R', 'i', 'E', 'ټ', 'f', '☹', 'F', '\\u200c', '☘', 'ی', '✍', '♀', 'ɴ', '؛', '⭕', 'ط', 'ᴏ', 'گ', '‐', '¹', 'w', ' ', '٣', 'آ', 'H', '=', '١', '0', '6', 'ُ', '⚘', '\\u200d', '“', 'D', '☺', 'T', ';', 'ك', 'W', '⚽', '’', '²', '،', 'و', '»', '٠', 'U', '\\u2066', 'd', 'k', '‘', 'Q', 'e', 'N', 'چ', 'ھ', 'c', '!', '✋', 'ک', 'ʏ', '☄', 'n', 'O', 'z', '٫', ']', '}', '2', '☠', 'ژ', 'r', 'u', '⁉', '❄', '°', '+', 'ظ', 'غ', 'v', 'ث', '«', 'ء', 'A', 'ج', 'ە', '٢', 'G', '✨', 'g', '♂', 'ه', '8', 'م', 'ف', 'ِ', ')', '•', '#', '1', '۔', 'V', 'ق', '️', '.', 'َ', '⊰', '?', 'ض', 'ً', 'ذ', '^', '”', '4', '9', '⃟', '~', 'ہ', '\\u2069', 'ش', 'o', '\\n', '5', 'P', 'ب', '☝'}\n"
     ]
    }
   ],
   "source": [
    "data['Sentence'] = data['Sentence'].apply(normalize_yeh)\n",
    "uniqueChars = set(''.join(data['Sentence']))\n",
    "print(len(uniqueChars))\n",
    "print(uniqueChars)"
   ]
  },
  {
   "cell_type": "code",
   "execution_count": 444,
   "metadata": {},
   "outputs": [],
   "source": [
    "def text_normalizer(data):\n",
    "    normalizer = hazm.Normalizer()\n",
    "    data['Sentence'] = data['Sentence'].apply(normalizer.normalize)\n",
    "    return data"
   ]
  },
  {
   "cell_type": "code",
   "execution_count": 445,
   "metadata": {},
   "outputs": [
    {
     "data": {
      "text/html": [
       "<div>\n",
       "<style scoped>\n",
       "    .dataframe tbody tr th:only-of-type {\n",
       "        vertical-align: middle;\n",
       "    }\n",
       "\n",
       "    .dataframe tbody tr th {\n",
       "        vertical-align: top;\n",
       "    }\n",
       "\n",
       "    .dataframe thead th {\n",
       "        text-align: right;\n",
       "    }\n",
       "</style>\n",
       "<table border=\"1\" class=\"dataframe\">\n",
       "  <thead>\n",
       "    <tr style=\"text-align: right;\">\n",
       "      <th></th>\n",
       "      <th>Sentence</th>\n",
       "      <th>Emotion</th>\n",
       "    </tr>\n",
       "  </thead>\n",
       "  <tbody>\n",
       "    <tr>\n",
       "      <th>0</th>\n",
       "      <td>کی گفته مرد گریه نمیکنه!؟!؟ سیلم امشب سیل #اصفهان</td>\n",
       "      <td>SAD</td>\n",
       "    </tr>\n",
       "    <tr>\n",
       "      <th>1</th>\n",
       "      <td>عکسی که چند روز پیش گذاشته بودم این فیلم الانش...</td>\n",
       "      <td>OTHER</td>\n",
       "    </tr>\n",
       "    <tr>\n",
       "      <th>2</th>\n",
       "      <td>تنهاییم شبیه تنهاییه ظهرای بچگیم شده وقتی‌که ه...</td>\n",
       "      <td>SAD</td>\n",
       "    </tr>\n",
       "    <tr>\n",
       "      <th>3</th>\n",
       "      <td>خوبه تمام قسمت‌های گوشی رو محافظت می‌کنه</td>\n",
       "      <td>HAPPY</td>\n",
       "    </tr>\n",
       "    <tr>\n",
       "      <th>4</th>\n",
       "      <td>این خاک‌مال مردمان است نه حاکمان #ایران #مهسا_...</td>\n",
       "      <td>ANGRY</td>\n",
       "    </tr>\n",
       "  </tbody>\n",
       "</table>\n",
       "</div>"
      ],
      "text/plain": [
       "                                            Sentence Emotion\n",
       "0  کی گفته مرد گریه نمیکنه!؟!؟ سیلم امشب سیل #اصفهان     SAD\n",
       "1  عکسی که چند روز پیش گذاشته بودم این فیلم الانش...   OTHER\n",
       "2  تنهاییم شبیه تنهاییه ظهرای بچگیم شده وقتی‌که ه...     SAD\n",
       "3           خوبه تمام قسمت‌های گوشی رو محافظت می‌کنه   HAPPY\n",
       "4  این خاک‌مال مردمان است نه حاکمان #ایران #مهسا_...   ANGRY"
      ]
     },
     "execution_count": 445,
     "metadata": {},
     "output_type": "execute_result"
    }
   ],
   "source": [
    "data = text_normalizer(data)\n",
    "data.head()"
   ]
  },
  {
   "cell_type": "code",
   "execution_count": 446,
   "metadata": {},
   "outputs": [],
   "source": [
    "def word_tokenizer(data):\n",
    "    data['Sentence'] = data['Sentence'].apply(hazm.word_tokenize)\n",
    "    return data"
   ]
  },
  {
   "cell_type": "code",
   "execution_count": 447,
   "metadata": {},
   "outputs": [
    {
     "data": {
      "text/html": [
       "<div>\n",
       "<style scoped>\n",
       "    .dataframe tbody tr th:only-of-type {\n",
       "        vertical-align: middle;\n",
       "    }\n",
       "\n",
       "    .dataframe tbody tr th {\n",
       "        vertical-align: top;\n",
       "    }\n",
       "\n",
       "    .dataframe thead th {\n",
       "        text-align: right;\n",
       "    }\n",
       "</style>\n",
       "<table border=\"1\" class=\"dataframe\">\n",
       "  <thead>\n",
       "    <tr style=\"text-align: right;\">\n",
       "      <th></th>\n",
       "      <th>Sentence</th>\n",
       "      <th>Emotion</th>\n",
       "    </tr>\n",
       "  </thead>\n",
       "  <tbody>\n",
       "    <tr>\n",
       "      <th>0</th>\n",
       "      <td>[کی, گفته, مرد, گریه, نمیکنه, !؟!؟, سیلم, امشب...</td>\n",
       "      <td>SAD</td>\n",
       "    </tr>\n",
       "    <tr>\n",
       "      <th>1</th>\n",
       "      <td>[عکسی, که, چند, روز, پیش, گذاشته_بودم, این, فی...</td>\n",
       "      <td>OTHER</td>\n",
       "    </tr>\n",
       "    <tr>\n",
       "      <th>2</th>\n",
       "      <td>[تنهاییم, شبیه, تنهاییه, ظهرای, بچگیم, شده, وق...</td>\n",
       "      <td>SAD</td>\n",
       "    </tr>\n",
       "    <tr>\n",
       "      <th>3</th>\n",
       "      <td>[خوبه, تمام, قسمت‌های, گوشی, رو, محافظت, می‌کنه]</td>\n",
       "      <td>HAPPY</td>\n",
       "    </tr>\n",
       "    <tr>\n",
       "      <th>4</th>\n",
       "      <td>[این, خاک‌مال, مردمان, است, نه, حاکمان, #ایران...</td>\n",
       "      <td>ANGRY</td>\n",
       "    </tr>\n",
       "  </tbody>\n",
       "</table>\n",
       "</div>"
      ],
      "text/plain": [
       "                                            Sentence Emotion\n",
       "0  [کی, گفته, مرد, گریه, نمیکنه, !؟!؟, سیلم, امشب...     SAD\n",
       "1  [عکسی, که, چند, روز, پیش, گذاشته_بودم, این, فی...   OTHER\n",
       "2  [تنهاییم, شبیه, تنهاییه, ظهرای, بچگیم, شده, وق...     SAD\n",
       "3   [خوبه, تمام, قسمت‌های, گوشی, رو, محافظت, می‌کنه]   HAPPY\n",
       "4  [این, خاک‌مال, مردمان, است, نه, حاکمان, #ایران...   ANGRY"
      ]
     },
     "execution_count": 447,
     "metadata": {},
     "output_type": "execute_result"
    }
   ],
   "source": [
    "data = word_tokenizer(data)\n",
    "data.head()"
   ]
  },
  {
   "cell_type": "code",
   "execution_count": 448,
   "metadata": {},
   "outputs": [],
   "source": [
    "def text_lemmatizer(data):\n",
    "    lemmatizer = hazm.Lemmatizer()\n",
    "    data['Sentence'] = data['Sentence'].apply(lambda x: ' '.join([lemmatizer.lemmatize(word) for word in x]))\n",
    "    return data"
   ]
  },
  {
   "cell_type": "code",
   "execution_count": 449,
   "metadata": {},
   "outputs": [
    {
     "data": {
      "text/html": [
       "<div>\n",
       "<style scoped>\n",
       "    .dataframe tbody tr th:only-of-type {\n",
       "        vertical-align: middle;\n",
       "    }\n",
       "\n",
       "    .dataframe tbody tr th {\n",
       "        vertical-align: top;\n",
       "    }\n",
       "\n",
       "    .dataframe thead th {\n",
       "        text-align: right;\n",
       "    }\n",
       "</style>\n",
       "<table border=\"1\" class=\"dataframe\">\n",
       "  <thead>\n",
       "    <tr style=\"text-align: right;\">\n",
       "      <th></th>\n",
       "      <th>Sentence</th>\n",
       "      <th>Emotion</th>\n",
       "    </tr>\n",
       "  </thead>\n",
       "  <tbody>\n",
       "    <tr>\n",
       "      <th>0</th>\n",
       "      <td>کی گفته مرد گریه نمیکنه !؟!؟ سیل امشب سیل #اصفهان</td>\n",
       "      <td>SAD</td>\n",
       "    </tr>\n",
       "    <tr>\n",
       "      <th>1</th>\n",
       "      <td>عکس که چند روز پیش گذاشت#گذار این فیلم الانشه ...</td>\n",
       "      <td>OTHER</td>\n",
       "    </tr>\n",
       "    <tr>\n",
       "      <th>2</th>\n",
       "      <td>تن شبیه تنهاییه ظهرای بچگیم شده وقتی‌که همه می...</td>\n",
       "      <td>SAD</td>\n",
       "    </tr>\n",
       "    <tr>\n",
       "      <th>3</th>\n",
       "      <td>خوبه تمام قسمت گوشید#گوش رو محافظت می‌کنه</td>\n",
       "      <td>HAPPY</td>\n",
       "    </tr>\n",
       "    <tr>\n",
       "      <th>4</th>\n",
       "      <td>این خاک‌مال مردمان است نه حاکمان #ایران #مهسا_...</td>\n",
       "      <td>ANGRY</td>\n",
       "    </tr>\n",
       "  </tbody>\n",
       "</table>\n",
       "</div>"
      ],
      "text/plain": [
       "                                            Sentence Emotion\n",
       "0  کی گفته مرد گریه نمیکنه !؟!؟ سیل امشب سیل #اصفهان     SAD\n",
       "1  عکس که چند روز پیش گذاشت#گذار این فیلم الانشه ...   OTHER\n",
       "2  تن شبیه تنهاییه ظهرای بچگیم شده وقتی‌که همه می...     SAD\n",
       "3          خوبه تمام قسمت گوشید#گوش رو محافظت می‌کنه   HAPPY\n",
       "4  این خاک‌مال مردمان است نه حاکمان #ایران #مهسا_...   ANGRY"
      ]
     },
     "execution_count": 449,
     "metadata": {},
     "output_type": "execute_result"
    }
   ],
   "source": [
    "data = text_lemmatizer(data)\n",
    "data.head()"
   ]
  },
  {
   "cell_type": "code",
   "execution_count": 450,
   "metadata": {},
   "outputs": [],
   "source": [
    "import re\n",
    "\n",
    "def num_omitter(data):\n",
    "    data['Sentence'] = data['Sentence'].apply(lambda x: re.sub(r'\\d+', '', x))\n",
    "    return data"
   ]
  },
  {
   "cell_type": "code",
   "execution_count": 451,
   "metadata": {},
   "outputs": [
    {
     "data": {
      "text/html": [
       "<div>\n",
       "<style scoped>\n",
       "    .dataframe tbody tr th:only-of-type {\n",
       "        vertical-align: middle;\n",
       "    }\n",
       "\n",
       "    .dataframe tbody tr th {\n",
       "        vertical-align: top;\n",
       "    }\n",
       "\n",
       "    .dataframe thead th {\n",
       "        text-align: right;\n",
       "    }\n",
       "</style>\n",
       "<table border=\"1\" class=\"dataframe\">\n",
       "  <thead>\n",
       "    <tr style=\"text-align: right;\">\n",
       "      <th></th>\n",
       "      <th>Sentence</th>\n",
       "      <th>Emotion</th>\n",
       "    </tr>\n",
       "  </thead>\n",
       "  <tbody>\n",
       "    <tr>\n",
       "      <th>0</th>\n",
       "      <td>کی گفته مرد گریه نمیکنه !؟!؟ سیل امشب سیل #اصفهان</td>\n",
       "      <td>SAD</td>\n",
       "    </tr>\n",
       "    <tr>\n",
       "      <th>1</th>\n",
       "      <td>عکس که چند روز پیش گذاشت#گذار این فیلم الانشه ...</td>\n",
       "      <td>OTHER</td>\n",
       "    </tr>\n",
       "    <tr>\n",
       "      <th>2</th>\n",
       "      <td>تن شبیه تنهاییه ظهرای بچگیم شده وقتی‌که همه می...</td>\n",
       "      <td>SAD</td>\n",
       "    </tr>\n",
       "    <tr>\n",
       "      <th>3</th>\n",
       "      <td>خوبه تمام قسمت گوشید#گوش رو محافظت می‌کنه</td>\n",
       "      <td>HAPPY</td>\n",
       "    </tr>\n",
       "    <tr>\n",
       "      <th>4</th>\n",
       "      <td>این خاک‌مال مردمان است نه حاکمان #ایران #مهسا_...</td>\n",
       "      <td>ANGRY</td>\n",
       "    </tr>\n",
       "  </tbody>\n",
       "</table>\n",
       "</div>"
      ],
      "text/plain": [
       "                                            Sentence Emotion\n",
       "0  کی گفته مرد گریه نمیکنه !؟!؟ سیل امشب سیل #اصفهان     SAD\n",
       "1  عکس که چند روز پیش گذاشت#گذار این فیلم الانشه ...   OTHER\n",
       "2  تن شبیه تنهاییه ظهرای بچگیم شده وقتی‌که همه می...     SAD\n",
       "3          خوبه تمام قسمت گوشید#گوش رو محافظت می‌کنه   HAPPY\n",
       "4  این خاک‌مال مردمان است نه حاکمان #ایران #مهسا_...   ANGRY"
      ]
     },
     "execution_count": 451,
     "metadata": {},
     "output_type": "execute_result"
    }
   ],
   "source": [
    "data = num_omitter(data)\n",
    "data.head()"
   ]
  },
  {
   "cell_type": "code",
   "execution_count": 452,
   "metadata": {},
   "outputs": [
    {
     "name": "stdout",
     "output_type": "stream",
     "text": [
      "163\n",
      "{'✌', '٪', 'ت', 'س', '[', 'M', ':', 'ع', 'ؤ', 'ز', '_', '♥', 'Z', 'y', 'l', 'ل', 'ة', 'x', '|', '⛓', 'د', 'a', 's', '…', 'ᴛ', 'K', 'm', 'پ', 'L', 'ا', 'B', 't', ',', '⭐', '؟', '*', 'ᴇ', 'j', 'I', 'أ', '&', '٬', '/', 'C', 'خ', '\"', 'J', 'ن', 'ر', '(', '-', 'p', '✅', 'ص', 'Y', '❤', '\\u2067', 'ح', 'b', 'S', 'q', 'h', 'R', 'i', 'E', 'f', '☹', 'F', '\\u200c', '☘', 'ی', '✍', '♀', 'ɴ', '؛', '⭕', 'ط', 'ᴏ', 'گ', '‐', '¹', 'w', ' ', 'آ', 'H', '=', '⚘', '\\u200d', 'D', '☺', 'T', ';', 'W', '⚽', '’', '²', '،', 'و', '»', 'U', '\\u2066', 'd', 'k', '‘', 'Q', 'e', 'N', 'چ', 'c', '!', '✋', 'ک', 'ʏ', '☄', 'n', 'O', 'z', '٫', ']', '}', '☠', 'ژ', 'r', 'u', '⁉', '❄', '°', '+', 'ظ', 'غ', 'v', 'ث', '«', 'ء', 'A', 'ج', 'G', '✨', 'g', '♂', 'ه', 'م', 'ف', ')', '•', '#', 'V', 'ق', '️', '.', '⊰', '?', 'ض', 'ذ', '^', '⃟', '~', '\\u2069', 'ش', 'o', 'P', 'ب', '☝'}\n"
     ]
    }
   ],
   "source": [
    "uniqueChars = set(''.join(data['Sentence']))\n",
    "print(len(uniqueChars))\n",
    "print(uniqueChars)"
   ]
  },
  {
   "cell_type": "markdown",
   "metadata": {},
   "source": [
    "#### In this part, we have performed some preprocessing on the data using the Hazm library, which is designed to process Persian text and data. First, we discovered that there are five different types of the letter \"yeh\" in our text, so we converted all of them to a specific, standardized form. This helps ensure consistency in the representation of the text. Next, we noticed that the text contained both Persian and English digits. Since digits do not have a significant effect on sentiment analysis, we decided to remove them. To do this, we first converted all digits to their English equivalents, which made it easier to remove them later. The next step in the preprocessing was to normalize the text using the Hazm library. Normalizing text in the context of natural language processing (NLP) refers to the process of transforming text into a standardized format or representation. This typically involves tasks such as converting all text to lowercase, removing stop words (common words that do not carry significant meaning), and other similar operations. After normalizing the text, we used a word tokenizer to separate the words into individual tokens. This is an important step for many NLP tasks, as it allows us to work with the text at the word level. The next step was lemmatization, which uses linguistic knowledge to convert words to their base or dictionary form. This helps to reduce the dimensionality of the text and can improve the performance of various NLP models. Finally, as the last step, we omitted all the digits from the text, as they were not deemed relevant for the sentiment analysis task."
   ]
  },
  {
   "cell_type": "markdown",
   "metadata": {},
   "source": [
    "# Data Splitting"
   ]
  },
  {
   "cell_type": "code",
   "execution_count": 453,
   "metadata": {},
   "outputs": [],
   "source": [
    "from sklearn.model_selection import train_test_split\n",
    "\n",
    "def splitter(data):\n",
    "    train_data, test_data = train_test_split(data, random_state=42, test_size=0.2)\n",
    "\n",
    "    return train_data, test_data"
   ]
  },
  {
   "cell_type": "code",
   "execution_count": 454,
   "metadata": {},
   "outputs": [],
   "source": [
    "train_data, test_data = splitter(data)"
   ]
  },
  {
   "cell_type": "code",
   "execution_count": 455,
   "metadata": {},
   "outputs": [
    {
     "name": "stderr",
     "output_type": "stream",
     "text": [
      "C:\\Users\\hi\\AppData\\Local\\Temp\\ipykernel_8964\\1392288644.py:2: FutureWarning: \n",
      "\n",
      "Passing `palette` without assigning `hue` is deprecated and will be removed in v0.14.0. Assign the `x` variable to `hue` and set `legend=False` for the same effect.\n",
      "\n",
      "  sns.countplot(data=train_data, x='Emotion', palette='plasma')\n"
     ]
    },
    {
     "data": {
      "text/plain": [
       "<Axes: xlabel='Emotion', ylabel='count'>"
      ]
     },
     "execution_count": 455,
     "metadata": {},
     "output_type": "execute_result"
    },
    {
     "data": {
      "image/png": "[encoded data removed]",
      "text/plain": [
       "<Figure size 864x432 with 1 Axes>"
      ]
     },
     "metadata": {
      "needs_background": "light"
     },
     "output_type": "display_data"
    }
   ],
   "source": [
    "plt.figure(figsize=(12, 6))\n",
    "sns.countplot(data=train_data, x='Emotion', palette='plasma')"
   ]
  },
  {
   "cell_type": "code",
   "execution_count": 456,
   "metadata": {},
   "outputs": [
    {
     "name": "stdout",
     "output_type": "stream",
     "text": [
      "(3939, 2)\n",
      "(985, 2)\n"
     ]
    }
   ],
   "source": [
    "print(train_data.shape)\n",
    "print(test_data.shape)"
   ]
  },
  {
   "cell_type": "code",
   "execution_count": 457,
   "metadata": {},
   "outputs": [],
   "source": [
    "def target_split(train_data, test_data):\n",
    "    train_x = pd.DataFrame(train_data['Sentence'], columns=['Sentence'], index=train_data.index)\n",
    "    train_y = train_data['Emotion']\n",
    "\n",
    "    test_x = pd.DataFrame(test_data['Sentence'], columns=['Sentence'], index=test_data.index)\n",
    "    test_y = test_data['Emotion']\n",
    "\n",
    "    return train_x, train_y, test_x, test_y"
   ]
  },
  {
   "cell_type": "code",
   "execution_count": 458,
   "metadata": {},
   "outputs": [],
   "source": [
    "train_x, train_y, test_x, test_y = target_split(train_data, test_data)"
   ]
  },
  {
   "cell_type": "markdown",
   "metadata": {},
   "source": [
    "# Feature engineering"
   ]
  },
  {
   "cell_type": "code",
   "execution_count": 459,
   "metadata": {},
   "outputs": [],
   "source": [
    "from sklearn.feature_extraction.text import TfidfVectorizer\n",
    "\n",
    "def text_vectorizer(train_x, test_x):\n",
    "\n",
    "    vectorizer = TfidfVectorizer()\n",
    "    vector = vectorizer.fit_transform(train_x['Sentence'])\n",
    "    vectorized_x_train = pd.DataFrame(vector.toarray(), columns=vectorizer.get_feature_names_out(), index=train_x.index)\n",
    "\n",
    "    vector2 = vectorizer.transform(test_x['Sentence'])\n",
    "    vectorized_x_test = pd.DataFrame(vector2.toarray(), columns=vectorizer.get_feature_names_out(), index=test_x.index)\n",
    "\n",
    "    return vectorized_x_train, vectorized_x_test"
   ]
  },
  {
   "cell_type": "code",
   "execution_count": 460,
   "metadata": {},
   "outputs": [],
   "source": [
    "vectorized_x_train, vectorized_x_test = text_vectorizer(train_x, test_x)"
   ]
  },
  {
   "cell_type": "code",
   "execution_count": 461,
   "metadata": {},
   "outputs": [
    {
     "data": {
      "text/html": [
       "<div>\n",
       "<style scoped>\n",
       "    .dataframe tbody tr th:only-of-type {\n",
       "        vertical-align: middle;\n",
       "    }\n",
       "\n",
       "    .dataframe tbody tr th {\n",
       "        vertical-align: top;\n",
       "    }\n",
       "\n",
       "    .dataframe thead th {\n",
       "        text-align: right;\n",
       "    }\n",
       "</style>\n",
       "<table border=\"1\" class=\"dataframe\">\n",
       "  <thead>\n",
       "    <tr style=\"text-align: right;\">\n",
       "      <th></th>\n",
       "      <th>__</th>\n",
       "      <th>_اسنپ</th>\n",
       "      <th>_ای</th>\n",
       "      <th>_جام</th>\n",
       "      <th>_دی</th>\n",
       "      <th>_و_</th>\n",
       "      <th>_پول</th>\n",
       "      <th>_ژانویه</th>\n",
       "      <th>and</th>\n",
       "      <th>baekhyun_hla</th>\n",
       "      <th>...</th>\n",
       "      <th>یکی</th>\n",
       "      <th>یکیشون</th>\n",
       "      <th>یگانه</th>\n",
       "      <th>یی</th>\n",
       "      <th>ییتیمینه</th>\n",
       "      <th>ییره</th>\n",
       "      <th>ییشینگی</th>\n",
       "      <th>ییمیز</th>\n",
       "      <th>یینی</th>\n",
       "      <th>ᴇxᴏᴇɴᴛʏ</th>\n",
       "    </tr>\n",
       "  </thead>\n",
       "  <tbody>\n",
       "    <tr>\n",
       "      <th>1808</th>\n",
       "      <td>0.0</td>\n",
       "      <td>0.0</td>\n",
       "      <td>0.0</td>\n",
       "      <td>0.0</td>\n",
       "      <td>0.0</td>\n",
       "      <td>0.0</td>\n",
       "      <td>0.0</td>\n",
       "      <td>0.0</td>\n",
       "      <td>0.0</td>\n",
       "      <td>0.0</td>\n",
       "      <td>...</td>\n",
       "      <td>0.000000</td>\n",
       "      <td>0.0</td>\n",
       "      <td>0.0</td>\n",
       "      <td>0.0</td>\n",
       "      <td>0.0</td>\n",
       "      <td>0.0</td>\n",
       "      <td>0.0</td>\n",
       "      <td>0.0</td>\n",
       "      <td>0.0</td>\n",
       "      <td>0.0</td>\n",
       "    </tr>\n",
       "    <tr>\n",
       "      <th>184</th>\n",
       "      <td>0.0</td>\n",
       "      <td>0.0</td>\n",
       "      <td>0.0</td>\n",
       "      <td>0.0</td>\n",
       "      <td>0.0</td>\n",
       "      <td>0.0</td>\n",
       "      <td>0.0</td>\n",
       "      <td>0.0</td>\n",
       "      <td>0.0</td>\n",
       "      <td>0.0</td>\n",
       "      <td>...</td>\n",
       "      <td>0.257019</td>\n",
       "      <td>0.0</td>\n",
       "      <td>0.0</td>\n",
       "      <td>0.0</td>\n",
       "      <td>0.0</td>\n",
       "      <td>0.0</td>\n",
       "      <td>0.0</td>\n",
       "      <td>0.0</td>\n",
       "      <td>0.0</td>\n",
       "      <td>0.0</td>\n",
       "    </tr>\n",
       "    <tr>\n",
       "      <th>205</th>\n",
       "      <td>0.0</td>\n",
       "      <td>0.0</td>\n",
       "      <td>0.0</td>\n",
       "      <td>0.0</td>\n",
       "      <td>0.0</td>\n",
       "      <td>0.0</td>\n",
       "      <td>0.0</td>\n",
       "      <td>0.0</td>\n",
       "      <td>0.0</td>\n",
       "      <td>0.0</td>\n",
       "      <td>...</td>\n",
       "      <td>0.000000</td>\n",
       "      <td>0.0</td>\n",
       "      <td>0.0</td>\n",
       "      <td>0.0</td>\n",
       "      <td>0.0</td>\n",
       "      <td>0.0</td>\n",
       "      <td>0.0</td>\n",
       "      <td>0.0</td>\n",
       "      <td>0.0</td>\n",
       "      <td>0.0</td>\n",
       "    </tr>\n",
       "    <tr>\n",
       "      <th>4700</th>\n",
       "      <td>0.0</td>\n",
       "      <td>0.0</td>\n",
       "      <td>0.0</td>\n",
       "      <td>0.0</td>\n",
       "      <td>0.0</td>\n",
       "      <td>0.0</td>\n",
       "      <td>0.0</td>\n",
       "      <td>0.0</td>\n",
       "      <td>0.0</td>\n",
       "      <td>0.0</td>\n",
       "      <td>...</td>\n",
       "      <td>0.000000</td>\n",
       "      <td>0.0</td>\n",
       "      <td>0.0</td>\n",
       "      <td>0.0</td>\n",
       "      <td>0.0</td>\n",
       "      <td>0.0</td>\n",
       "      <td>0.0</td>\n",
       "      <td>0.0</td>\n",
       "      <td>0.0</td>\n",
       "      <td>0.0</td>\n",
       "    </tr>\n",
       "    <tr>\n",
       "      <th>410</th>\n",
       "      <td>0.0</td>\n",
       "      <td>0.0</td>\n",
       "      <td>0.0</td>\n",
       "      <td>0.0</td>\n",
       "      <td>0.0</td>\n",
       "      <td>0.0</td>\n",
       "      <td>0.0</td>\n",
       "      <td>0.0</td>\n",
       "      <td>0.0</td>\n",
       "      <td>0.0</td>\n",
       "      <td>...</td>\n",
       "      <td>0.000000</td>\n",
       "      <td>0.0</td>\n",
       "      <td>0.0</td>\n",
       "      <td>0.0</td>\n",
       "      <td>0.0</td>\n",
       "      <td>0.0</td>\n",
       "      <td>0.0</td>\n",
       "      <td>0.0</td>\n",
       "      <td>0.0</td>\n",
       "      <td>0.0</td>\n",
       "    </tr>\n",
       "  </tbody>\n",
       "</table>\n",
       "<p>5 rows × 7565 columns</p>\n",
       "</div>"
      ],
      "text/plain": [
       "       __  _اسنپ  _ای  _جام  _دی  _و_  _پول  _ژانویه  and  baekhyun_hla  ...  \\\n",
       "1808  0.0    0.0  0.0   0.0  0.0  0.0   0.0      0.0  0.0           0.0  ...   \n",
       "184   0.0    0.0  0.0   0.0  0.0  0.0   0.0      0.0  0.0           0.0  ...   \n",
       "205   0.0    0.0  0.0   0.0  0.0  0.0   0.0      0.0  0.0           0.0  ...   \n",
       "4700  0.0    0.0  0.0   0.0  0.0  0.0   0.0      0.0  0.0           0.0  ...   \n",
       "410   0.0    0.0  0.0   0.0  0.0  0.0   0.0      0.0  0.0           0.0  ...   \n",
       "\n",
       "           یکی  یکیشون  یگانه   یی  ییتیمینه  ییره  ییشینگی  ییمیز  یینی  \\\n",
       "1808  0.000000     0.0    0.0  0.0       0.0   0.0      0.0    0.0   0.0   \n",
       "184   0.257019     0.0    0.0  0.0       0.0   0.0      0.0    0.0   0.0   \n",
       "205   0.000000     0.0    0.0  0.0       0.0   0.0      0.0    0.0   0.0   \n",
       "4700  0.000000     0.0    0.0  0.0       0.0   0.0      0.0    0.0   0.0   \n",
       "410   0.000000     0.0    0.0  0.0       0.0   0.0      0.0    0.0   0.0   \n",
       "\n",
       "      ᴇxᴏᴇɴᴛʏ  \n",
       "1808      0.0  \n",
       "184       0.0  \n",
       "205       0.0  \n",
       "4700      0.0  \n",
       "410       0.0  \n",
       "\n",
       "[5 rows x 7565 columns]"
      ]
     },
     "execution_count": 461,
     "metadata": {},
     "output_type": "execute_result"
    }
   ],
   "source": [
    "vectorized_x_train.head()"
   ]
  },
  {
   "cell_type": "code",
   "execution_count": 462,
   "metadata": {},
   "outputs": [
    {
     "data": {
      "text/plain": [
       "(3939, 7565)"
      ]
     },
     "execution_count": 462,
     "metadata": {},
     "output_type": "execute_result"
    }
   ],
   "source": [
    "vectorized_x_train.shape"
   ]
  },
  {
   "cell_type": "code",
   "execution_count": 463,
   "metadata": {},
   "outputs": [
    {
     "data": {
      "text/plain": [
       "(985, 7565)"
      ]
     },
     "execution_count": 463,
     "metadata": {},
     "output_type": "execute_result"
    }
   ],
   "source": [
    "vectorized_x_test.shape"
   ]
  },
  {
   "cell_type": "markdown",
   "metadata": {},
   "source": [
    "#### As it is clear, it is impossible to train a machine learning model on data that consists solely of text and words. This is because models require numerical inputs that they can interpret and process, rather than raw text data. Therefore, we need to convert the textual data into numerical representations that the model can understand.\n",
    "#### One common technique for this is called TF-IDF (Term Frequency-Inverse Document Frequency). TF-IDF is a method that assigns a numerical value to each word in a text corpus, based on the word's frequency within a document and across the entire corpus.\n",
    "\n",
    "$$ \\text{TF} = \\frac{\\text{Number\\: of\\, times\\: a\\: word\\: \"X\"\\: appeares\\: in\\: a\\: Document}}{\\text{Number\\: of\\: words\\: present\\: in\\: a\\: Document}} $$\n",
    "$$ \\text{IDF} = \\log(\\frac{\\text{Number\\: of\\, Document\\: presents\\: in\\: a\\: Corpus}}{\\text{Number\\: of\\: Documents\\: Where\\: word\\: \"X\"\\: has\\: appeared}}) $$\n",
    "$$ \\text{TF-IDF} = \\text{TF} \\times \\text{IDF} $$"
   ]
  },
  {
   "cell_type": "markdown",
   "metadata": {},
   "source": [
    "# Model Training"
   ]
  },
  {
   "cell_type": "code",
   "execution_count": 464,
   "metadata": {},
   "outputs": [],
   "source": [
    "from sklearn.metrics import f1_score, accuracy_score, roc_curve, ConfusionMatrixDisplay, confusion_matrix, auc \n",
    "from sklearn.model_selection import GridSearchCV, StratifiedKFold\n",
    "\n",
    "def model_train_test_evaluating(x_train, y_train, x_test, y_test, model, param_grid):\n",
    "    grid_search = GridSearchCV(model, param_grid=param_grid, cv=5, scoring='f1_macro')\n",
    "    grid_search.fit(x_train, y_train)\n",
    "    classifier = grid_search.best_estimator_\n",
    "\n",
    "    y_train_pred = classifier.predict(x_train)\n",
    "    y_test_pred = classifier.predict(x_test)\n",
    "\n",
    "    train_accuracy = accuracy_score(y_train, y_train_pred)\n",
    "    f1_train = f1_score(y_train, y_train_pred, average='macro')\n",
    "    if not y_test.isnull().all():\n",
    "        test_accuracy = accuracy_score(y_test, y_test_pred)\n",
    "        f1_test = f1_score(y_test, y_test_pred, average='macro') \n",
    "\n",
    "    print('Cross validation scores:')\n",
    "    print(f\"Best parameters: {grid_search.best_params_}\")\n",
    "    print(f\"Best score: {grid_search.best_score_:.4f}\")\n",
    "    \n",
    "    print('train_data report:')\n",
    "    print('Acuuracy: ', end='')\n",
    "    print(train_accuracy)\n",
    "    print('F1_score: ', end='')\n",
    "    print(f1_train)\n",
    "\n",
    "    cm = confusion_matrix(y_train, y_train_pred)\n",
    "    # Plot the confusion matrix\n",
    "    plt.figure(figsize=(8, 6))\n",
    "    disp = ConfusionMatrixDisplay(confusion_matrix=cm)\n",
    "    disp.plot()\n",
    "    plt.title('Confusion Matrix')\n",
    "    plt.xlabel('Predicted Labels')\n",
    "    plt.ylabel('True Labels')\n",
    "    plt.show()\n",
    "\n",
    "    if not y_test.isnull().all():\n",
    "        print('test_data report:')\n",
    "        print('Acuuracy: ', end='')\n",
    "        print(test_accuracy)\n",
    "        print('F1_score: ', end='')\n",
    "        print(f1_test)\n",
    "\n",
    "        cm = confusion_matrix(y_test, y_test_pred)\n",
    "        # Plot the confusion matrix\n",
    "        plt.figure(figsize=(8, 6))\n",
    "        disp = ConfusionMatrixDisplay(confusion_matrix=cm)\n",
    "        disp.plot()\n",
    "        plt.title('Confusion Matrix')\n",
    "        plt.xlabel('Predicted Labels')\n",
    "        plt.ylabel('True Labels')\n",
    "        plt.show()\n",
    "\n",
    "    return y_test_pred"
   ]
  },
  {
   "cell_type": "code",
   "execution_count": 465,
   "metadata": {},
   "outputs": [],
   "source": [
    "from sklearn.preprocessing import LabelEncoder\n",
    "\n",
    "def pipline(train, test, model, param_grid):\n",
    "    # Preproccessing\n",
    "\n",
    "    # column name setting \n",
    "    train = column_name_set(train)\n",
    "    test = column_name_set(test)\n",
    "\n",
    "    # changing ی in the text\n",
    "    train['Sentence'] = train['Sentence'].apply(normalize_yeh)\n",
    "    test['Sentence'] = test['Sentence'].apply(normalize_yeh)\n",
    "    # convert number to English\n",
    "    train['Sentence'] = train['Sentence'].apply(number_convertor)\n",
    "    test['Sentence'] = test['Sentence'].apply(number_convertor)\n",
    "\n",
    "    # normalize and tokenize the text\n",
    "    train = text_normalizer(train)\n",
    "    train = word_tokenizer(train)\n",
    "    test = text_normalizer(test)\n",
    "    test = word_tokenizer(test)\n",
    "\n",
    "    # lemmatizing the text\n",
    "    train = text_lemmatizer(train)\n",
    "    test = text_lemmatizer(test)\n",
    "\n",
    "    # omitting digits\n",
    "    test = num_omitter(test)\n",
    "    test = num_omitter(test)\n",
    "\n",
    "    # target splitting\n",
    "    train_x, train_y, test_x, test_y = target_split(train, test)\n",
    "\n",
    "    # text vectorizing \n",
    "    vectorized_x_train, vectorized_x_test = text_vectorizer(train_x, test_x)\n",
    "\n",
    "    #encoding target\n",
    "    label_encoder = LabelEncoder()\n",
    "    train_y_encoded = label_encoder.fit_transform(train_y)\n",
    "    if not test_y.isnull().all():\n",
    "        test_y_encoded = pd.Series(label_encoder.transform(test_y))\n",
    "    else:\n",
    "        test_y_encoded = pd.Series(test_y)\n",
    "\n",
    "    # Model training\n",
    "    y_pred = model_train_test_evaluating(vectorized_x_train, train_y_encoded, vectorized_x_test, test_y_encoded, model, param_grid)\n",
    "    y_pred = label_encoder.inverse_transform(y_pred)\n",
    "\n",
    "    return y_pred"
   ]
  },
  {
   "cell_type": "code",
   "execution_count": 466,
   "metadata": {},
   "outputs": [],
   "source": [
    "data = pd.read_excel('train_data.xlsx')"
   ]
  },
  {
   "cell_type": "code",
   "execution_count": 467,
   "metadata": {},
   "outputs": [
    {
     "name": "stdout",
     "output_type": "stream",
     "text": [
      "Cross validation scores:\n",
      "Best parameters: {'max_depth': 30, 'min_samples_leaf': 10}\n",
      "Best score: 0.4468\n",
      "train_data report:\n",
      "Acuuracy: 0.5755267834475756\n",
      "F1_score: 0.5505541072240024\n"
     ]
    },
    {
     "data": {
      "text/plain": [
       "<Figure size 576x432 with 0 Axes>"
      ]
     },
     "metadata": {},
     "output_type": "display_data"
    },
    {
     "data": {
      "image/png": "[encoded data removed]",
      "text/plain": [
       "<Figure size 432x288 with 2 Axes>"
      ]
     },
     "metadata": {
      "needs_background": "light"
     },
     "output_type": "display_data"
    },
    {
     "name": "stdout",
     "output_type": "stream",
     "text": [
      "test_data report:\n",
      "Acuuracy: 0.48223350253807107\n",
      "F1_score: 0.4577247093527676\n"
     ]
    },
    {
     "data": {
      "text/plain": [
       "<Figure size 576x432 with 0 Axes>"
      ]
     },
     "metadata": {},
     "output_type": "display_data"
    },
    {
     "data": {
      "image/png": "[encoded data removed]",
      "text/plain": [
       "<Figure size 432x288 with 2 Axes>"
      ]
     },
     "metadata": {
      "needs_background": "light"
     },
     "output_type": "display_data"
    }
   ],
   "source": [
    "from sklearn import tree\n",
    "\n",
    "# Data splitting\n",
    "data1 = data.copy()\n",
    "train_data, test_data = splitter(data1)\n",
    "\n",
    "param_grid=[\n",
    "    {'max_depth': [10, 20, 30], 'min_samples_leaf': [10, 20, 30]}\n",
    "]\n",
    "\n",
    "dt_classifier = tree.DecisionTreeClassifier(random_state=42, criterion='gini')\n",
    "y_pred = pipline(train_data, test_data, dt_classifier, param_grid)"
   ]
  },
  {
   "cell_type": "code",
   "execution_count": 468,
   "metadata": {},
   "outputs": [
    {
     "name": "stdout",
     "output_type": "stream",
     "text": [
      "Cross validation scores:\n",
      "Best parameters: {'max_depth': 30, 'n_estimators': 30}\n",
      "Best score: 0.4648\n",
      "train_data report:\n",
      "Acuuracy: 0.7641533384107642\n",
      "F1_score: 0.7307647096124547\n"
     ]
    },
    {
     "data": {
      "text/plain": [
       "<Figure size 576x432 with 0 Axes>"
      ]
     },
     "metadata": {},
     "output_type": "display_data"
    },
    {
     "data": {
      "image/png": "[encoded data removed]",
      "text/plain": [
       "<Figure size 432x288 with 2 Axes>"
      ]
     },
     "metadata": {
      "needs_background": "light"
     },
     "output_type": "display_data"
    },
    {
     "name": "stdout",
     "output_type": "stream",
     "text": [
      "test_data report:\n",
      "Acuuracy: 0.5614213197969543\n",
      "F1_score: 0.48816339666625963\n"
     ]
    },
    {
     "data": {
      "text/plain": [
       "<Figure size 576x432 with 0 Axes>"
      ]
     },
     "metadata": {},
     "output_type": "display_data"
    },
    {
     "data": {
      "image/png": "[encoded data removed]",
      "text/plain": [
       "<Figure size 432x288 with 2 Axes>"
      ]
     },
     "metadata": {
      "needs_background": "light"
     },
     "output_type": "display_data"
    }
   ],
   "source": [
    "from sklearn.ensemble import RandomForestClassifier\n",
    "\n",
    "# Data splitting\n",
    "data2 = data.copy()\n",
    "train_data, test_data = splitter(data2)\n",
    "\n",
    "param_grid=[\n",
    "    {'max_depth': [10, 20, 30], 'n_estimators': [30, 40, 50]}\n",
    "]\n",
    "\n",
    "rf_classifier = RandomForestClassifier(random_state=42, criterion='gini')\n",
    "y_pred = pipline(train_data, test_data, rf_classifier, param_grid)"
   ]
  },
  {
   "cell_type": "code",
   "execution_count": 469,
   "metadata": {},
   "outputs": [
    {
     "name": "stdout",
     "output_type": "stream",
     "text": [
      "Cross validation scores:\n",
      "Best parameters: {'learning_rate': 0.3, 'max_depth': 10}\n",
      "Best score: 0.5535\n",
      "train_data report:\n",
      "Acuuracy: 0.9601421680629602\n",
      "F1_score: 0.9625271817745855\n"
     ]
    },
    {
     "data": {
      "text/plain": [
       "<Figure size 576x432 with 0 Axes>"
      ]
     },
     "metadata": {},
     "output_type": "display_data"
    },
    {
     "data": {
      "image/png": "[encoded data removed]",
      "text/plain": [
       "<Figure size 432x288 with 2 Axes>"
      ]
     },
     "metadata": {
      "needs_background": "light"
     },
     "output_type": "display_data"
    },
    {
     "name": "stdout",
     "output_type": "stream",
     "text": [
      "test_data report:\n",
      "Acuuracy: 0.5969543147208122\n",
      "F1_score: 0.5571183144075429\n"
     ]
    },
    {
     "data": {
      "text/plain": [
       "<Figure size 576x432 with 0 Axes>"
      ]
     },
     "metadata": {},
     "output_type": "display_data"
    },
    {
     "data": {
      "image/png": "[encoded data removed]",
      "text/plain": [
       "<Figure size 432x288 with 2 Axes>"
      ]
     },
     "metadata": {
      "needs_background": "light"
     },
     "output_type": "display_data"
    }
   ],
   "source": [
    "from xgboost import XGBClassifier\n",
    "\n",
    "# Data splitting\n",
    "data3 = data.copy()\n",
    "train_data, test_data = splitter(data3)\n",
    "\n",
    "param_grid=[\n",
    "    {'max_depth': [5, 10, 15], 'learning_rate': [0.1, 0.2, 0.3]}\n",
    "]\n",
    "\n",
    "xgboost = XGBClassifier(random_state=42)\n",
    "y_pred = pipline(train_data, test_data, xgboost, param_grid)"
   ]
  },
  {
   "cell_type": "code",
   "execution_count": 470,
   "metadata": {},
   "outputs": [
    {
     "name": "stderr",
     "output_type": "stream",
     "text": [
      "c:\\Users\\hi\\AppData\\Local\\Programs\\Python\\Python310\\lib\\site-packages\\sklearn\\linear_model\\_sag.py:350: ConvergenceWarning: The max_iter was reached which means the coef_ did not converge\n",
      "  warnings.warn(\n",
      "c:\\Users\\hi\\AppData\\Local\\Programs\\Python\\Python310\\lib\\site-packages\\sklearn\\linear_model\\_sag.py:350: ConvergenceWarning: The max_iter was reached which means the coef_ did not converge\n",
      "  warnings.warn(\n",
      "c:\\Users\\hi\\AppData\\Local\\Programs\\Python\\Python310\\lib\\site-packages\\sklearn\\linear_model\\_sag.py:350: ConvergenceWarning: The max_iter was reached which means the coef_ did not converge\n",
      "  warnings.warn(\n",
      "c:\\Users\\hi\\AppData\\Local\\Programs\\Python\\Python310\\lib\\site-packages\\sklearn\\linear_model\\_sag.py:350: ConvergenceWarning: The max_iter was reached which means the coef_ did not converge\n",
      "  warnings.warn(\n",
      "c:\\Users\\hi\\AppData\\Local\\Programs\\Python\\Python310\\lib\\site-packages\\sklearn\\linear_model\\_sag.py:350: ConvergenceWarning: The max_iter was reached which means the coef_ did not converge\n",
      "  warnings.warn(\n"
     ]
    },
    {
     "name": "stdout",
     "output_type": "stream",
     "text": [
      "Cross validation scores:\n",
      "Best parameters: {'penalty': 'l2'}\n",
      "Best score: 0.5724\n",
      "train_data report:\n",
      "Acuuracy: 0.8629093678598629\n",
      "F1_score: 0.8359541363048872\n"
     ]
    },
    {
     "data": {
      "text/plain": [
       "<Figure size 576x432 with 0 Axes>"
      ]
     },
     "metadata": {},
     "output_type": "display_data"
    },
    {
     "data": {
      "image/png": "[encoded data removed]",
      "text/plain": [
       "<Figure size 432x288 with 2 Axes>"
      ]
     },
     "metadata": {
      "needs_background": "light"
     },
     "output_type": "display_data"
    },
    {
     "name": "stdout",
     "output_type": "stream",
     "text": [
      "test_data report:\n",
      "Acuuracy: 0.616243654822335\n",
      "F1_score: 0.5714037974127609\n"
     ]
    },
    {
     "data": {
      "text/plain": [
       "<Figure size 576x432 with 0 Axes>"
      ]
     },
     "metadata": {},
     "output_type": "display_data"
    },
    {
     "data": {
      "image/png": "[encoded data removed]",
      "text/plain": [
       "<Figure size 432x288 with 2 Axes>"
      ]
     },
     "metadata": {
      "needs_background": "light"
     },
     "output_type": "display_data"
    }
   ],
   "source": [
    "from sklearn.linear_model import LogisticRegression\n",
    "\n",
    "# Data splitting\n",
    "data4 = data.copy()\n",
    "train_data, test_data = splitter(data4)\n",
    "\n",
    "param_grid=[\n",
    "    {'penalty': ['l1', 'l2']}\n",
    "]\n",
    "\n",
    "logistic_regression = LogisticRegression(random_state=42, solver='saga')\n",
    "y_pred = pipline(train_data, test_data, logistic_regression, param_grid)"
   ]
  },
  {
   "cell_type": "code",
   "execution_count": 471,
   "metadata": {},
   "outputs": [
    {
     "name": "stdout",
     "output_type": "stream",
     "text": [
      "Cross validation scores:\n",
      "Best parameters: {'kernel': 'linear'}\n",
      "Best score: 0.5440\n",
      "train_data report:\n",
      "Acuuracy: 0.783955318608784\n",
      "F1_score: 0.7572826489570051\n"
     ]
    },
    {
     "data": {
      "text/plain": [
       "<Figure size 576x432 with 0 Axes>"
      ]
     },
     "metadata": {},
     "output_type": "display_data"
    },
    {
     "data": {
      "image/png": "[encoded data removed]",
      "text/plain": [
       "<Figure size 432x288 with 2 Axes>"
      ]
     },
     "metadata": {
      "needs_background": "light"
     },
     "output_type": "display_data"
    },
    {
     "name": "stdout",
     "output_type": "stream",
     "text": [
      "test_data report:\n",
      "Acuuracy: 0.6263959390862944\n",
      "F1_score: 0.5874995990245898\n"
     ]
    },
    {
     "data": {
      "text/plain": [
       "<Figure size 576x432 with 0 Axes>"
      ]
     },
     "metadata": {},
     "output_type": "display_data"
    },
    {
     "data": {
      "image/png": "[encoded data removed]",
      "text/plain": [
       "<Figure size 432x288 with 2 Axes>"
      ]
     },
     "metadata": {
      "needs_background": "light"
     },
     "output_type": "display_data"
    }
   ],
   "source": [
    "from sklearn.svm import SVC\n",
    "\n",
    "# Data splitting\n",
    "data5 = data.copy()\n",
    "train_data, test_data = splitter(data5)\n",
    "\n",
    "param_grid=[\n",
    "    {'kernel': ['linear','poly', 'rbf']}\n",
    "]\n",
    "\n",
    "svm = SVC(C=0.5)\n",
    "y_pred = pipline(train_data, test_data, svm, param_grid)"
   ]
  },
  {
   "cell_type": "markdown",
   "metadata": {},
   "source": [
    "#### Finally, in this section, we focused on training models with our dataset and evaluating their performance through 5-fold cross-validation. To achieve this, we constructed a function pipeline that streamlines the training and evaluation process by taking in training and testing datasets, a machine learning model, and a set of parameters. Within this pipeline, we ensured that all the previously mentioned data preprocessing steps were systematically applied. The core functionality of the pipeline involves performing a grid search for hyperparameter tuning. Grid search systematically works through multiple combinations of parameter values, cross-validating each combination to determine which provides the best performance. We implemented this using 5-fold cross-validation, meaning that the training data is split into five subsets. The model is trained on four subsets and validated on the fifth. This process is repeated five times, each time with a different subset as the validation set. By doing so, the model’s performance is assessed comprehensively, which minimizes the risk of overfitting and ensures that the model generalizes well to unseen data.Through this meticulous approach, the pipeline identifies the best parameters by finding the combination that consistently provides the highest performance across all folds. Once these optimal parameters are determined, the best model parameters are selected, and the final model is trained on the entire training dataset. Its performance is then evaluated on the test dataset.\n",
    "\n",
    "#### The models which we trained include some tree-based models such as DecisionTreeClassifier, RandomForestClassifier, and XGBoost. We also trained Support Vector Machines (SVM) and Logistic Regression. It is obvious that the non-tree based models, such as SVM and Logistic Regression, have performed significantly better than the tree-based models. Among the tree-based models, the ensemble learning models, like RandomForest and XGBoost, have had better results compared to the single DecisionTreeClassifier model. Ensemble methods, such as Random Forest and XGBoost, combine multiple decision trees to create a more robust and accurate model, which helps to overcome the limitations of individual decision trees and improves the overall performance. The superior performance of the non-tree based models, such as SVM and Logistic Regression, suggests that the underlying data and problem at hand may be better suited for these types of algorithms compared to the tree-based models."
   ]
  },
  {
   "cell_type": "code",
   "execution_count": 472,
   "metadata": {},
   "outputs": [],
   "source": [
    "tr_data = pd.read_excel('train_data.xlsx')\n",
    "ts_data = pd.read_csv('3rdHW_test.csv')"
   ]
  },
  {
   "cell_type": "code",
   "execution_count": 473,
   "metadata": {},
   "outputs": [
    {
     "name": "stdout",
     "output_type": "stream",
     "text": [
      "<class 'pandas.core.frame.DataFrame'>\n",
      "RangeIndex: 548 entries, 0 to 547\n",
      "Data columns (total 1 columns):\n",
      " #   Column    Non-Null Count  Dtype \n",
      "---  ------    --------------  ----- \n",
      " 0   Sentence  548 non-null    object\n",
      "dtypes: object(1)\n",
      "memory usage: 4.4+ KB\n"
     ]
    }
   ],
   "source": [
    "ts_data.info()"
   ]
  },
  {
   "cell_type": "code",
   "execution_count": 474,
   "metadata": {},
   "outputs": [
    {
     "name": "stdout",
     "output_type": "stream",
     "text": [
      "Cross validation scores:\n",
      "Best parameters: {'kernel': 'linear'}\n",
      "Best score: 0.5550\n",
      "train_data report:\n",
      "Acuuracy: 0.7889926888708367\n",
      "F1_score: 0.7596031507842171\n"
     ]
    },
    {
     "data": {
      "text/plain": [
       "<Figure size 576x432 with 0 Axes>"
      ]
     },
     "metadata": {},
     "output_type": "display_data"
    },
    {
     "data": {
      "image/png": "[encoded data removed]",
      "text/plain": [
       "<Figure size 432x288 with 2 Axes>"
      ]
     },
     "metadata": {
      "needs_background": "light"
     },
     "output_type": "display_data"
    }
   ],
   "source": [
    "param_grid=[\n",
    "    {'kernel': ['linear','poly', 'rbf']}\n",
    "]\n",
    "\n",
    "svm = SVC(C=0.5)\n",
    "y_pred = pipline(tr_data, ts_data, svm, param_grid)"
   ]
  },
  {
   "cell_type": "code",
   "execution_count": 481,
   "metadata": {},
   "outputs": [],
   "source": [
    "ts_data['Emotion'] = y_pred\n",
    "final_data = ts_data.copy()"
   ]
  },
  {
   "cell_type": "code",
   "execution_count": 484,
   "metadata": {},
   "outputs": [
    {
     "data": {
      "text/html": [
       "<div>\n",
       "<style scoped>\n",
       "    .dataframe tbody tr th:only-of-type {\n",
       "        vertical-align: middle;\n",
       "    }\n",
       "\n",
       "    .dataframe tbody tr th {\n",
       "        vertical-align: top;\n",
       "    }\n",
       "\n",
       "    .dataframe thead th {\n",
       "        text-align: right;\n",
       "    }\n",
       "</style>\n",
       "<table border=\"1\" class=\"dataframe\">\n",
       "  <thead>\n",
       "    <tr style=\"text-align: right;\">\n",
       "      <th></th>\n",
       "      <th>Sentence</th>\n",
       "      <th>Emotion</th>\n",
       "    </tr>\n",
       "  </thead>\n",
       "  <tbody>\n",
       "    <tr>\n",
       "      <th>0</th>\n",
       "      <td>صعب روزید#روز ، بوالعجب کاشت#کار ، پریشان عالمی</td>\n",
       "      <td>OTHER</td>\n",
       "    </tr>\n",
       "    <tr>\n",
       "      <th>1</th>\n",
       "      <td>بسیار نرم و لطیف بوده و کیفیت بالایی داره .</td>\n",
       "      <td>HAPPY</td>\n",
       "    </tr>\n",
       "    <tr>\n",
       "      <th>2</th>\n",
       "      <td>اصلا رنگ با چیزی که تو عکس بود#است خیلی فرق داشت</td>\n",
       "      <td>ANGRY</td>\n",
       "    </tr>\n",
       "    <tr>\n",
       "      <th>3</th>\n",
       "      <td>خیلی زیبا و ب اندازه و با دقت طراحی‌شده</td>\n",
       "      <td>HAPPY</td>\n",
       "    </tr>\n",
       "    <tr>\n",
       "      <th>4</th>\n",
       "      <td>سبزی‌پلو با ماهی مال عید نوروزه ، امشب سوشی خو...</td>\n",
       "      <td>OTHER</td>\n",
       "    </tr>\n",
       "    <tr>\n",
       "      <th>...</th>\n",
       "      <td>...</td>\n",
       "      <td>...</td>\n",
       "    </tr>\n",
       "    <tr>\n",
       "      <th>543</th>\n",
       "      <td>سرخط خبرهای  عصر ، پنجشنبه  جدی</td>\n",
       "      <td>OTHER</td>\n",
       "    </tr>\n",
       "    <tr>\n",
       "      <th>544</th>\n",
       "      <td>بوی عالی ماندگاری خوب خیلی خو امدش مرسی دیج</td>\n",
       "      <td>HAPPY</td>\n",
       "    </tr>\n",
       "    <tr>\n",
       "      <th>545</th>\n",
       "      <td>گاز که داشت#دار اینترنت هم روش ? #وطن</td>\n",
       "      <td>ANGRY</td>\n",
       "    </tr>\n",
       "    <tr>\n",
       "      <th>546</th>\n",
       "      <td>من چندتاشو برا مغازه گرفت#گیر باطریاشون کلا خر...</td>\n",
       "      <td>HAPPY</td>\n",
       "    </tr>\n",
       "    <tr>\n",
       "      <th>547</th>\n",
       "      <td>خیلی بی‌کیفیت حتی بچه هم با بازی نمیکنن</td>\n",
       "      <td>ANGRY</td>\n",
       "    </tr>\n",
       "  </tbody>\n",
       "</table>\n",
       "<p>548 rows × 2 columns</p>\n",
       "</div>"
      ],
      "text/plain": [
       "                                              Sentence Emotion\n",
       "0      صعب روزید#روز ، بوالعجب کاشت#کار ، پریشان عالمی   OTHER\n",
       "1          بسیار نرم و لطیف بوده و کیفیت بالایی داره .   HAPPY\n",
       "2     اصلا رنگ با چیزی که تو عکس بود#است خیلی فرق داشت   ANGRY\n",
       "3              خیلی زیبا و ب اندازه و با دقت طراحی‌شده   HAPPY\n",
       "4    سبزی‌پلو با ماهی مال عید نوروزه ، امشب سوشی خو...   OTHER\n",
       "..                                                 ...     ...\n",
       "543                   سرخط خبرهای  عصر ، پنجشنبه  جدی    OTHER\n",
       "544        بوی عالی ماندگاری خوب خیلی خو امدش مرسی دیج   HAPPY\n",
       "545              گاز که داشت#دار اینترنت هم روش ? #وطن   ANGRY\n",
       "546  من چندتاشو برا مغازه گرفت#گیر باطریاشون کلا خر...   HAPPY\n",
       "547            خیلی بی‌کیفیت حتی بچه هم با بازی نمیکنن   ANGRY\n",
       "\n",
       "[548 rows x 2 columns]"
      ]
     },
     "execution_count": 484,
     "metadata": {},
     "output_type": "execute_result"
    }
   ],
   "source": [
    "final_data"
   ]
  },
  {
   "cell_type": "code",
   "execution_count": 485,
   "metadata": {},
   "outputs": [],
   "source": [
    "final_data.to_csv('final_data.csv', index=False)"
   ]
  },
  {
   "cell_type": "code",
   "execution_count": null,
   "metadata": {},
   "outputs": [],
   "source": []
  }
 ],
 "metadata": {
  "kernelspec": {
   "display_name": "Python 3",
   "language": "python",
   "name": "python3"
  },
  "language_info": {
   "codemirror_mode": {
    "name": "ipython",
    "version": 3
   },
   "file_extension": ".py",
   "mimetype": "text/x-python",
   "name": "python",
   "nbconvert_exporter": "python",
   "pygments_lexer": "ipython3",
   "version": "3.10.4"
  }
 },
 "nbformat": 4,
 "nbformat_minor": 2
}
