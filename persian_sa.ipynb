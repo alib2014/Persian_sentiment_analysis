{
 "cells": [
  {
   "cell_type": "code",
   "execution_count": 268,
   "metadata": {
    "jupyter": {
     "is_executing": true
    }
   },
   "outputs": [],
   "source": [
    "import pandas as pd\n",
    "import numpy as np \n",
    "import matplotlib.pyplot as plt\n",
    "import seaborn as sns"
   ]
  },
  {
   "cell_type": "code",
   "execution_count": 269,
   "metadata": {},
   "outputs": [
    {
     "data": {
      "text/html": [
       "<div>\n",
       "<style scoped>\n",
       "    .dataframe tbody tr th:only-of-type {\n",
       "        vertical-align: middle;\n",
       "    }\n",
       "\n",
       "    .dataframe tbody tr th {\n",
       "        vertical-align: top;\n",
       "    }\n",
       "\n",
       "    .dataframe thead th {\n",
       "        text-align: right;\n",
       "    }\n",
       "</style>\n",
       "<table border=\"1\" class=\"dataframe\">\n",
       "  <thead>\n",
       "    <tr style=\"text-align: right;\">\n",
       "      <th></th>\n",
       "      <th>کی گفته مرد گریه نمیکنه!؟!؟ سیلم امشب سیل #اصفهان</th>\n",
       "      <th>SAD</th>\n",
       "    </tr>\n",
       "  </thead>\n",
       "  <tbody>\n",
       "    <tr>\n",
       "      <th>0</th>\n",
       "      <td>عکسی که چند روز پیش گذاشته بودم این فیلم الانش...</td>\n",
       "      <td>OTHER</td>\n",
       "    </tr>\n",
       "    <tr>\n",
       "      <th>1</th>\n",
       "      <td>تنهاییم شبیه تنهاییه ظهرای بچگیم شده وقتی که ه...</td>\n",
       "      <td>SAD</td>\n",
       "    </tr>\n",
       "    <tr>\n",
       "      <th>2</th>\n",
       "      <td>خوبه تمام قسمت‌های گوشی رو محافظت می‌کنه</td>\n",
       "      <td>HAPPY</td>\n",
       "    </tr>\n",
       "    <tr>\n",
       "      <th>3</th>\n",
       "      <td>این خاک مال مردمان است نه حاکمان #ایران #مهسا_...</td>\n",
       "      <td>ANGRY</td>\n",
       "    </tr>\n",
       "    <tr>\n",
       "      <th>4</th>\n",
       "      <td>اگه تو بغلت بودم حالم خیلی بهتر میشد</td>\n",
       "      <td>SAD</td>\n",
       "    </tr>\n",
       "  </tbody>\n",
       "</table>\n",
       "</div>"
      ],
      "text/plain": [
       "   کی گفته مرد گریه نمیکنه!؟!؟ سیلم امشب سیل #اصفهان    SAD\n",
       "0  عکسی که چند روز پیش گذاشته بودم این فیلم الانش...  OTHER\n",
       "1  تنهاییم شبیه تنهاییه ظهرای بچگیم شده وقتی که ه...    SAD\n",
       "2           خوبه تمام قسمت‌های گوشی رو محافظت می‌کنه  HAPPY\n",
       "3  این خاک مال مردمان است نه حاکمان #ایران #مهسا_...  ANGRY\n",
       "4               اگه تو بغلت بودم حالم خیلی بهتر میشد    SAD"
      ]
     },
     "execution_count": 269,
     "metadata": {},
     "output_type": "execute_result"
    }
   ],
   "source": [
    "data = pd.read_excel('train_data.xlsx')\n",
    "data.head()"
   ]
  },
  {
   "cell_type": "code",
   "execution_count": 270,
   "metadata": {},
   "outputs": [
    {
     "data": {
      "text/html": [
       "<div>\n",
       "<style scoped>\n",
       "    .dataframe tbody tr th:only-of-type {\n",
       "        vertical-align: middle;\n",
       "    }\n",
       "\n",
       "    .dataframe tbody tr th {\n",
       "        vertical-align: top;\n",
       "    }\n",
       "\n",
       "    .dataframe thead th {\n",
       "        text-align: right;\n",
       "    }\n",
       "</style>\n",
       "<table border=\"1\" class=\"dataframe\">\n",
       "  <thead>\n",
       "    <tr style=\"text-align: right;\">\n",
       "      <th></th>\n",
       "      <th>Sentence</th>\n",
       "      <th>Emotion</th>\n",
       "    </tr>\n",
       "  </thead>\n",
       "  <tbody>\n",
       "    <tr>\n",
       "      <th>0</th>\n",
       "      <td>عکسی که چند روز پیش گذاشته بودم این فیلم الانش...</td>\n",
       "      <td>OTHER</td>\n",
       "    </tr>\n",
       "    <tr>\n",
       "      <th>1</th>\n",
       "      <td>تنهاییم شبیه تنهاییه ظهرای بچگیم شده وقتی که ه...</td>\n",
       "      <td>SAD</td>\n",
       "    </tr>\n",
       "    <tr>\n",
       "      <th>2</th>\n",
       "      <td>خوبه تمام قسمت‌های گوشی رو محافظت می‌کنه</td>\n",
       "      <td>HAPPY</td>\n",
       "    </tr>\n",
       "    <tr>\n",
       "      <th>3</th>\n",
       "      <td>این خاک مال مردمان است نه حاکمان #ایران #مهسا_...</td>\n",
       "      <td>ANGRY</td>\n",
       "    </tr>\n",
       "    <tr>\n",
       "      <th>4</th>\n",
       "      <td>اگه تو بغلت بودم حالم خیلی بهتر میشد</td>\n",
       "      <td>SAD</td>\n",
       "    </tr>\n",
       "  </tbody>\n",
       "</table>\n",
       "</div>"
      ],
      "text/plain": [
       "                                            Sentence Emotion\n",
       "0  عکسی که چند روز پیش گذاشته بودم این فیلم الانش...   OTHER\n",
       "1  تنهاییم شبیه تنهاییه ظهرای بچگیم شده وقتی که ه...     SAD\n",
       "2           خوبه تمام قسمت‌های گوشی رو محافظت می‌کنه   HAPPY\n",
       "3  این خاک مال مردمان است نه حاکمان #ایران #مهسا_...   ANGRY\n",
       "4               اگه تو بغلت بودم حالم خیلی بهتر میشد     SAD"
      ]
     },
     "execution_count": 270,
     "metadata": {},
     "output_type": "execute_result"
    }
   ],
   "source": [
    "def column_name_set(data):\n",
    "    data.columns = ['Sentence', 'Emotion']\n",
    "    return data\n",
    "\n",
    "data = column_name_set(data)\n",
    "data.head()"
   ]
  },
  {
   "cell_type": "code",
   "execution_count": 271,
   "metadata": {},
   "outputs": [
    {
     "data": {
      "text/html": [
       "<div>\n",
       "<style scoped>\n",
       "    .dataframe tbody tr th:only-of-type {\n",
       "        vertical-align: middle;\n",
       "    }\n",
       "\n",
       "    .dataframe tbody tr th {\n",
       "        vertical-align: top;\n",
       "    }\n",
       "\n",
       "    .dataframe thead th {\n",
       "        text-align: right;\n",
       "    }\n",
       "</style>\n",
       "<table border=\"1\" class=\"dataframe\">\n",
       "  <thead>\n",
       "    <tr style=\"text-align: right;\">\n",
       "      <th></th>\n",
       "      <th>Sentence</th>\n",
       "      <th>Emotion</th>\n",
       "    </tr>\n",
       "  </thead>\n",
       "  <tbody>\n",
       "    <tr>\n",
       "      <th>count</th>\n",
       "      <td>4923</td>\n",
       "      <td>4923</td>\n",
       "    </tr>\n",
       "    <tr>\n",
       "      <th>unique</th>\n",
       "      <td>4923</td>\n",
       "      <td>5</td>\n",
       "    </tr>\n",
       "    <tr>\n",
       "      <th>top</th>\n",
       "      <td>عکسی که چند روز پیش گذاشته بودم این فیلم الانش...</td>\n",
       "      <td>HAPPY</td>\n",
       "    </tr>\n",
       "    <tr>\n",
       "      <th>freq</th>\n",
       "      <td>1</td>\n",
       "      <td>1462</td>\n",
       "    </tr>\n",
       "  </tbody>\n",
       "</table>\n",
       "</div>"
      ],
      "text/plain": [
       "                                                 Sentence Emotion\n",
       "count                                                4923    4923\n",
       "unique                                               4923       5\n",
       "top     عکسی که چند روز پیش گذاشته بودم این فیلم الانش...   HAPPY\n",
       "freq                                                    1    1462"
      ]
     },
     "execution_count": 271,
     "metadata": {},
     "output_type": "execute_result"
    }
   ],
   "source": [
    "data.describe()"
   ]
  },
  {
   "cell_type": "code",
   "execution_count": 272,
   "metadata": {},
   "outputs": [
    {
     "name": "stdout",
     "output_type": "stream",
     "text": [
      "<class 'pandas.core.frame.DataFrame'>\n",
      "RangeIndex: 4923 entries, 0 to 4922\n",
      "Data columns (total 2 columns):\n",
      " #   Column    Non-Null Count  Dtype \n",
      "---  ------    --------------  ----- \n",
      " 0   Sentence  4923 non-null   object\n",
      " 1   Emotion   4923 non-null   object\n",
      "dtypes: object(2)\n",
      "memory usage: 77.0+ KB\n"
     ]
    }
   ],
   "source": [
    "data.info()"
   ]
  },
  {
   "cell_type": "code",
   "execution_count": 273,
   "metadata": {},
   "outputs": [
    {
     "data": {
      "text/plain": [
       "Sentence    0\n",
       "Emotion     0\n",
       "dtype: int64"
      ]
     },
     "execution_count": 273,
     "metadata": {},
     "output_type": "execute_result"
    }
   ],
   "source": [
    "data.isnull().sum()"
   ]
  },
  {
   "cell_type": "code",
   "execution_count": 274,
   "metadata": {},
   "outputs": [
    {
     "name": "stderr",
     "output_type": "stream",
     "text": [
      "C:\\Users\\hi\\AppData\\Local\\Temp\\ipykernel_20468\\1880826210.py:2: FutureWarning: \n",
      "\n",
      "Passing `palette` without assigning `hue` is deprecated and will be removed in v0.14.0. Assign the `x` variable to `hue` and set `legend=False` for the same effect.\n",
      "\n",
      "  sns.countplot(data=data, x='Emotion', palette='plasma')\n"
     ]
    },
    {
     "data": {
      "text/plain": [
       "<Axes: xlabel='Emotion', ylabel='count'>"
      ]
     },
     "execution_count": 274,
     "metadata": {},
     "output_type": "execute_result"
    },
    {
     "data": {
      "image/png": "[encoded data removed]",
      "text/plain": [
       "<Figure size 864x432 with 1 Axes>"
      ]
     },
     "metadata": {
      "needs_background": "light"
     },
     "output_type": "display_data"
    }
   ],
   "source": [
    "plt.figure(figsize=(12, 6))\n",
    "sns.countplot(data=data, x='Emotion', palette='plasma')"
   ]
  },
  {
   "cell_type": "code",
   "execution_count": 275,
   "metadata": {},
   "outputs": [
    {
     "data": {
      "text/plain": [
       "0"
      ]
     },
     "execution_count": 275,
     "metadata": {},
     "output_type": "execute_result"
    }
   ],
   "source": [
    "data.duplicated().sum()"
   ]
  },
  {
   "cell_type": "markdown",
   "metadata": {},
   "source": [
    "#### The provided data set contains a collection of Persian sentences and the corresponding emotions associated with each sentence. The dataset has two columns: one for the sentence and the other for the emotion of that sentence. Initially, the column names were not provided, so the first step was to set appropriate names for the columns. This was done to ensure clarity and ease of reference when working with the data. After setting the column names, the next step was to check the data for any null values or duplicate rows. Fortunately, the analysis revealed that there were no null values or duplicate rows in the dataset. Finally, to gain a better understanding of the data, a count plot of the target values (emotions) was generated. The result of this analysis showed that the majority of the sentences in the dataset evoke a sense of happiness, while the sentences conveying a sense of fear are the least common."
   ]
  },
  {
   "cell_type": "markdown",
   "metadata": {},
   "source": [
    "# Preproccessing"
   ]
  },
  {
   "cell_type": "code",
   "execution_count": 276,
   "metadata": {},
   "outputs": [],
   "source": [
    "import hazm \n",
    "import nltk"
   ]
  },
  {
   "cell_type": "code",
   "execution_count": 277,
   "metadata": {},
   "outputs": [
    {
     "name": "stdout",
     "output_type": "stream",
     "text": [
      "210\n",
      "{'n', '۷', 'س', '0', 't', 'g', 'K', '⃟', 'ض', 'ة', '☠', 'ا', 'ہ', 'ے', 'ۀ', '‐', '⛓', 'f', 'ی', '#', '[', '۵', '؟', 'y', '”', 'p', 'ق', 'ئ', '،', '3', 'ى', '۹', 'S', 'أ', '+', 'ن', 'ذ', 'ُ', 'k', 'H', 'ظ', 'j', '٦', '‘', 'ه', '}', 'ط', 'م', '♂', 'ص', 'ᴇ', '٪', 'V', '⁉', '❤', 'N', 'e', 'P', 'ک', 'h', 'Z', '۳', ' ', 'آ', '\\n', 's', '5', 'l', '٫', '6', 'ً', 'ْ', 'ە', 'M', 'ع', 'و', 'ّ', 'ت', '«', '٠', '\\u2067', '\\u2066', 'W', '8', '⚽', '۱', '؛', '❄', 'T', '4', 'R', 'ؤ', '7', '☝', '۰', '%', '_', '^', '۶', 'ي', '/', 'a', 'ٔ', '۲', 'ᴏ', '️', '»', '?', 'A', 'b', '9', '⭕', 'ɴ', 'B', 'm', '♀', 'ث', '⊰', 'خ', '.', '|', 'Q', '-', '“', 'َ', 'd', 'ھ', 'پ', '\\u2069', 'U', '¹', '⚘', '’', '۸', 'D', 'i', '\\u200d', '☺', '²', 'چ', '۴', '•', ':', 'J', '&', 'ح', '♥', ')', '1', 'ـ', 'ټ', '٣', '٢', '✅', '۔', ']', 'ژ', 'r', 'ك', '*', 'w', '…', '2', 'ج', 'ء', 'ز', '✨', 'L', 'z', 'c', 'C', '١', 'ᴛ', 'ʏ', '!', 'ف', '☄', 'ِ', 'o', '✍', 'ر', '✋', 'گ', 'E', 'ب', 'u', 'Y', '☹', ',', 'q', 'غ', '☘', ';', 'I', '✌', 'G', 'ش', 'x', 'v', '~', '\\u200c', '(', 'د', '⭐', 'ل', '٬', 'F', 'O', '=', '°'}\n"
     ]
    }
   ],
   "source": [
    "uniqueChars = set(''.join(data['Sentence']))\n",
    "print(len(uniqueChars))\n",
    "print(uniqueChars)"
   ]
  },
  {
   "cell_type": "code",
   "execution_count": 278,
   "metadata": {},
   "outputs": [],
   "source": [
    "def normalize_yeh(text):\n",
    "    yeh_characters = ['ی', 'ي', 'ے', 'ئ', 'ى']\n",
    "    for char in yeh_characters:\n",
    "        text = text.replace(char, 'ی')\n",
    "    return text\n",
    "\n",
    "def number_convertor(text):\n",
    "    persian_digits = '۰۱۲۳۴۵۶۷۸۹٦'\n",
    "    english_digits = '01234567896'\n",
    "    translation_table = str.maketrans(persian_digits, english_digits)\n",
    "    return text.translate(translation_table)"
   ]
  },
  {
   "cell_type": "code",
   "execution_count": 279,
   "metadata": {},
   "outputs": [
    {
     "name": "stdout",
     "output_type": "stream",
     "text": [
      "199\n",
      "{'n', '⃟', 'س', '0', 't', 'g', 'K', 'ۀ', 'ض', 'ة', '☠', 'ا', 'ہ', 'ے', '‐', '⛓', 'f', 'ی', '#', '[', '؟', 'y', '”', 'p', 'ق', 'ئ', '،', '3', 'ى', 'S', 'أ', '+', 'ن', 'ذ', 'ُ', 'k', 'H', 'ظ', 'j', '‘', 'ه', '}', 'ط', 'م', '♂', 'ص', 'ᴇ', '٪', 'V', '⁉', '❤', 'N', 'e', 'P', 'h', 'ک', 'Z', ' ', 'آ', '\\n', 's', '5', 'l', '٫', '6', 'ً', 'ْ', 'ە', 'M', 'ع', 'و', 'ّ', 'ت', '«', '٠', '\\u2067', '\\u2066', 'W', '8', '⚽', '؛', '❄', 'T', '4', 'R', 'ؤ', '7', '☝', '%', '_', '^', 'ٔ', 'ي', '/', 'a', 'ᴏ', '️', '»', '?', 'A', 'b', '9', '⭕', 'ɴ', 'B', 'm', '♀', 'ث', '⊰', 'خ', '.', '|', 'Q', '-', '“', 'َ', 'd', 'ھ', 'پ', '\\u2069', 'U', '¹', '⚘', '’', 'D', 'i', '\\u200d', '☺', '²', 'چ', '•', ':', 'J', '&', 'ح', '♥', ')', '1', 'ـ', 'ټ', '٣', '٢', '✅', '۔', ']', 'ژ', 'r', 'ك', '*', 'w', '…', '2', 'ج', 'ء', 'ز', '✨', 'L', 'z', 'c', 'C', '١', 'ᴛ', 'ʏ', '!', 'ف', '☄', 'ِ', 'o', '✍', 'ر', '✋', 'گ', 'E', 'ب', 'u', 'Y', '☹', ',', 'q', 'غ', '☘', ';', 'I', '✌', 'G', 'ش', 'x', 'v', '~', '\\u200c', '(', 'د', '⭐', 'ل', '٬', 'F', 'O', '=', '°'}\n",
      "195\n",
      "{'n', '⃟', 'س', '0', 't', 'g', 'K', 'ۀ', 'ض', 'ة', '☠', 'ا', 'ہ', '‐', '⛓', 'f', 'ی', '#', '[', '؟', 'y', '”', 'p', 'ق', '3', '،', 'S', 'أ', '+', 'ن', 'ذ', 'ُ', 'k', 'H', 'ظ', 'j', '‘', 'ه', '}', 'ط', 'م', '♂', 'ص', 'ᴇ', '٪', 'V', '⁉', '❤', 'N', 'e', 'P', 'h', 'ک', 'Z', ' ', 'آ', '\\n', 's', '5', 'l', '٫', '6', 'ً', 'ْ', 'ە', 'M', 'ع', 'و', 'ّ', 'ت', '«', '٠', '\\u2067', '\\u2066', 'W', '8', '⚽', '؛', '❄', 'T', '4', 'R', 'ؤ', '7', '☝', '%', '_', '^', 'ٔ', '/', 'a', 'ᴏ', '️', '»', '?', 'A', 'b', '9', '⭕', 'ɴ', 'B', 'm', '♀', 'ث', '⊰', 'خ', '.', '|', 'Q', '-', '“', 'َ', 'd', 'ھ', 'پ', '\\u2069', 'U', '¹', '⚘', '’', 'D', 'i', '\\u200d', '☺', '²', 'چ', '•', ':', 'J', '&', 'ح', '♥', ')', '1', 'ـ', 'ټ', '٣', '٢', '✅', '۔', ']', 'ژ', 'r', 'ك', '*', 'w', '…', '2', 'ج', 'ء', 'ز', '✨', 'L', 'z', 'c', 'C', '١', 'ᴛ', 'ʏ', '!', 'ف', '☄', 'ِ', 'o', '✍', 'ر', '✋', 'گ', 'E', 'ب', 'u', 'Y', '☹', ',', 'q', 'غ', '☘', ';', 'I', '✌', 'G', 'ش', 'x', 'v', '~', '\\u200c', '(', 'د', '⭐', 'ل', '٬', 'F', 'O', '=', '°'}\n"
     ]
    }
   ],
   "source": [
    "data['Sentence'] = data['Sentence'].apply(number_convertor)\n",
    "uniqueChars = set(''.join(data['Sentence']))\n",
    "print(len(uniqueChars))\n",
    "print(uniqueChars)\n",
    "\n",
    "data['Sentence'] = data['Sentence'].apply(normalize_yeh)\n",
    "uniqueChars = set(''.join(data['Sentence']))\n",
    "print(len(uniqueChars))\n",
    "print(uniqueChars)"
   ]
  },
  {
   "cell_type": "code",
   "execution_count": 280,
   "metadata": {},
   "outputs": [
    {
     "data": {
      "text/html": [
       "<div>\n",
       "<style scoped>\n",
       "    .dataframe tbody tr th:only-of-type {\n",
       "        vertical-align: middle;\n",
       "    }\n",
       "\n",
       "    .dataframe tbody tr th {\n",
       "        vertical-align: top;\n",
       "    }\n",
       "\n",
       "    .dataframe thead th {\n",
       "        text-align: right;\n",
       "    }\n",
       "</style>\n",
       "<table border=\"1\" class=\"dataframe\">\n",
       "  <thead>\n",
       "    <tr style=\"text-align: right;\">\n",
       "      <th></th>\n",
       "      <th>Sentence</th>\n",
       "      <th>Emotion</th>\n",
       "    </tr>\n",
       "  </thead>\n",
       "  <tbody>\n",
       "    <tr>\n",
       "      <th>0</th>\n",
       "      <td>عکسی که چند روز پیش گذاشته بودم این فیلم الانش...</td>\n",
       "      <td>OTHER</td>\n",
       "    </tr>\n",
       "    <tr>\n",
       "      <th>1</th>\n",
       "      <td>تنهاییم شبیه تنهاییه ظهرای بچگیم شده وقتی‌که ه...</td>\n",
       "      <td>SAD</td>\n",
       "    </tr>\n",
       "    <tr>\n",
       "      <th>2</th>\n",
       "      <td>خوبه تمام قسمت‌های گوشی رو محافظت می‌کنه</td>\n",
       "      <td>HAPPY</td>\n",
       "    </tr>\n",
       "    <tr>\n",
       "      <th>3</th>\n",
       "      <td>این خاک‌مال مردمان است نه حاکمان #ایران #مهسا_...</td>\n",
       "      <td>ANGRY</td>\n",
       "    </tr>\n",
       "    <tr>\n",
       "      <th>4</th>\n",
       "      <td>اگه تو بغلت بودم حالم خیلی بهتر می‌شد</td>\n",
       "      <td>SAD</td>\n",
       "    </tr>\n",
       "  </tbody>\n",
       "</table>\n",
       "</div>"
      ],
      "text/plain": [
       "                                            Sentence Emotion\n",
       "0  عکسی که چند روز پیش گذاشته بودم این فیلم الانش...   OTHER\n",
       "1  تنهاییم شبیه تنهاییه ظهرای بچگیم شده وقتی‌که ه...     SAD\n",
       "2           خوبه تمام قسمت‌های گوشی رو محافظت می‌کنه   HAPPY\n",
       "3  این خاک‌مال مردمان است نه حاکمان #ایران #مهسا_...   ANGRY\n",
       "4              اگه تو بغلت بودم حالم خیلی بهتر می‌شد     SAD"
      ]
     },
     "execution_count": 280,
     "metadata": {},
     "output_type": "execute_result"
    }
   ],
   "source": [
    "def text_normalizer(data):\n",
    "    normalizer = hazm.Normalizer()\n",
    "    data['Sentence'] = data['Sentence'].apply(normalizer.normalize)\n",
    "    return data\n",
    "\n",
    "data = text_normalizer(data)\n",
    "data.head()"
   ]
  },
  {
   "cell_type": "code",
   "execution_count": 281,
   "metadata": {},
   "outputs": [
    {
     "data": {
      "text/html": [
       "<div>\n",
       "<style scoped>\n",
       "    .dataframe tbody tr th:only-of-type {\n",
       "        vertical-align: middle;\n",
       "    }\n",
       "\n",
       "    .dataframe tbody tr th {\n",
       "        vertical-align: top;\n",
       "    }\n",
       "\n",
       "    .dataframe thead th {\n",
       "        text-align: right;\n",
       "    }\n",
       "</style>\n",
       "<table border=\"1\" class=\"dataframe\">\n",
       "  <thead>\n",
       "    <tr style=\"text-align: right;\">\n",
       "      <th></th>\n",
       "      <th>Sentence</th>\n",
       "      <th>Emotion</th>\n",
       "    </tr>\n",
       "  </thead>\n",
       "  <tbody>\n",
       "    <tr>\n",
       "      <th>0</th>\n",
       "      <td>[عکسی, که, چند, روز, پیش, گذاشته_بودم, این, فی...</td>\n",
       "      <td>OTHER</td>\n",
       "    </tr>\n",
       "    <tr>\n",
       "      <th>1</th>\n",
       "      <td>[تنهاییم, شبیه, تنهاییه, ظهرای, بچگیم, شده, وق...</td>\n",
       "      <td>SAD</td>\n",
       "    </tr>\n",
       "    <tr>\n",
       "      <th>2</th>\n",
       "      <td>[خوبه, تمام, قسمت‌های, گوشی, رو, محافظت, می‌کنه]</td>\n",
       "      <td>HAPPY</td>\n",
       "    </tr>\n",
       "    <tr>\n",
       "      <th>3</th>\n",
       "      <td>[این, خاک‌مال, مردمان, است, نه, حاکمان, #ایران...</td>\n",
       "      <td>ANGRY</td>\n",
       "    </tr>\n",
       "    <tr>\n",
       "      <th>4</th>\n",
       "      <td>[اگه, تو, بغلت, بودم, حالم, خیلی, بهتر, می‌شد]</td>\n",
       "      <td>SAD</td>\n",
       "    </tr>\n",
       "  </tbody>\n",
       "</table>\n",
       "</div>"
      ],
      "text/plain": [
       "                                            Sentence Emotion\n",
       "0  [عکسی, که, چند, روز, پیش, گذاشته_بودم, این, فی...   OTHER\n",
       "1  [تنهاییم, شبیه, تنهاییه, ظهرای, بچگیم, شده, وق...     SAD\n",
       "2   [خوبه, تمام, قسمت‌های, گوشی, رو, محافظت, می‌کنه]   HAPPY\n",
       "3  [این, خاک‌مال, مردمان, است, نه, حاکمان, #ایران...   ANGRY\n",
       "4     [اگه, تو, بغلت, بودم, حالم, خیلی, بهتر, می‌شد]     SAD"
      ]
     },
     "execution_count": 281,
     "metadata": {},
     "output_type": "execute_result"
    }
   ],
   "source": [
    "def word_tokenizer(data):\n",
    "    data['Sentence'] = data['Sentence'].apply(hazm.word_tokenize)\n",
    "    return data\n",
    "\n",
    "data = word_tokenizer(data)\n",
    "data.head()"
   ]
  },
  {
   "cell_type": "code",
   "execution_count": 282,
   "metadata": {},
   "outputs": [
    {
     "data": {
      "text/html": [
       "<div>\n",
       "<style scoped>\n",
       "    .dataframe tbody tr th:only-of-type {\n",
       "        vertical-align: middle;\n",
       "    }\n",
       "\n",
       "    .dataframe tbody tr th {\n",
       "        vertical-align: top;\n",
       "    }\n",
       "\n",
       "    .dataframe thead th {\n",
       "        text-align: right;\n",
       "    }\n",
       "</style>\n",
       "<table border=\"1\" class=\"dataframe\">\n",
       "  <thead>\n",
       "    <tr style=\"text-align: right;\">\n",
       "      <th></th>\n",
       "      <th>Sentence</th>\n",
       "      <th>Emotion</th>\n",
       "    </tr>\n",
       "  </thead>\n",
       "  <tbody>\n",
       "    <tr>\n",
       "      <th>0</th>\n",
       "      <td>عکس که چند روز پیش گذاشت#گذار این فیلم الانشه ...</td>\n",
       "      <td>OTHER</td>\n",
       "    </tr>\n",
       "    <tr>\n",
       "      <th>1</th>\n",
       "      <td>تن شبیه تنهاییه ظهرای بچگیم شده وقتی‌که همه می...</td>\n",
       "      <td>SAD</td>\n",
       "    </tr>\n",
       "    <tr>\n",
       "      <th>2</th>\n",
       "      <td>خوبه تمام قسمت گوشید#گوش رو محافظت می‌کنه</td>\n",
       "      <td>HAPPY</td>\n",
       "    </tr>\n",
       "    <tr>\n",
       "      <th>3</th>\n",
       "      <td>این خاک‌مال مردمان است نه حاکمان #ایران #مهسا_...</td>\n",
       "      <td>ANGRY</td>\n",
       "    </tr>\n",
       "    <tr>\n",
       "      <th>4</th>\n",
       "      <td>اگه تو بغل بود#است حالم خیلی بهتر شد#شو</td>\n",
       "      <td>SAD</td>\n",
       "    </tr>\n",
       "  </tbody>\n",
       "</table>\n",
       "</div>"
      ],
      "text/plain": [
       "                                            Sentence Emotion\n",
       "0  عکس که چند روز پیش گذاشت#گذار این فیلم الانشه ...   OTHER\n",
       "1  تن شبیه تنهاییه ظهرای بچگیم شده وقتی‌که همه می...     SAD\n",
       "2          خوبه تمام قسمت گوشید#گوش رو محافظت می‌کنه   HAPPY\n",
       "3  این خاک‌مال مردمان است نه حاکمان #ایران #مهسا_...   ANGRY\n",
       "4            اگه تو بغل بود#است حالم خیلی بهتر شد#شو     SAD"
      ]
     },
     "execution_count": 282,
     "metadata": {},
     "output_type": "execute_result"
    }
   ],
   "source": [
    "def text_lemmatizer(data):\n",
    "    lemmatizer = hazm.Lemmatizer()\n",
    "    data['Sentence'] = data['Sentence'].apply(lambda x: ' '.join([lemmatizer.lemmatize(word) for word in x]))\n",
    "    return data\n",
    "\n",
    "data = text_lemmatizer(data)\n",
    "data.head()"
   ]
  },
  {
   "cell_type": "code",
   "execution_count": 283,
   "metadata": {},
   "outputs": [
    {
     "data": {
      "text/html": [
       "<div>\n",
       "<style scoped>\n",
       "    .dataframe tbody tr th:only-of-type {\n",
       "        vertical-align: middle;\n",
       "    }\n",
       "\n",
       "    .dataframe tbody tr th {\n",
       "        vertical-align: top;\n",
       "    }\n",
       "\n",
       "    .dataframe thead th {\n",
       "        text-align: right;\n",
       "    }\n",
       "</style>\n",
       "<table border=\"1\" class=\"dataframe\">\n",
       "  <thead>\n",
       "    <tr style=\"text-align: right;\">\n",
       "      <th></th>\n",
       "      <th>Sentence</th>\n",
       "      <th>Emotion</th>\n",
       "    </tr>\n",
       "  </thead>\n",
       "  <tbody>\n",
       "    <tr>\n",
       "      <th>0</th>\n",
       "      <td>عکس که چند روز پیش گذاشت#گذار این فیلم الانشه ...</td>\n",
       "      <td>OTHER</td>\n",
       "    </tr>\n",
       "    <tr>\n",
       "      <th>1</th>\n",
       "      <td>تن شبیه تنهاییه ظهرای بچگیم شده وقتی‌که همه می...</td>\n",
       "      <td>SAD</td>\n",
       "    </tr>\n",
       "    <tr>\n",
       "      <th>2</th>\n",
       "      <td>خوبه تمام قسمت گوشید#گوش رو محافظت می‌کنه</td>\n",
       "      <td>HAPPY</td>\n",
       "    </tr>\n",
       "    <tr>\n",
       "      <th>3</th>\n",
       "      <td>این خاک‌مال مردمان است نه حاکمان #ایران #مهسا_...</td>\n",
       "      <td>ANGRY</td>\n",
       "    </tr>\n",
       "    <tr>\n",
       "      <th>4</th>\n",
       "      <td>اگه تو بغل بود#است حالم خیلی بهتر شد#شو</td>\n",
       "      <td>SAD</td>\n",
       "    </tr>\n",
       "  </tbody>\n",
       "</table>\n",
       "</div>"
      ],
      "text/plain": [
       "                                            Sentence Emotion\n",
       "0  عکس که چند روز پیش گذاشت#گذار این فیلم الانشه ...   OTHER\n",
       "1  تن شبیه تنهاییه ظهرای بچگیم شده وقتی‌که همه می...     SAD\n",
       "2          خوبه تمام قسمت گوشید#گوش رو محافظت می‌کنه   HAPPY\n",
       "3  این خاک‌مال مردمان است نه حاکمان #ایران #مهسا_...   ANGRY\n",
       "4            اگه تو بغل بود#است حالم خیلی بهتر شد#شو     SAD"
      ]
     },
     "execution_count": 283,
     "metadata": {},
     "output_type": "execute_result"
    }
   ],
   "source": [
    "import re\n",
    "\n",
    "def num_omitter(data):\n",
    "    data['Sentence'] = data['Sentence'].apply(lambda x: re.sub(r'\\d+', '', x))\n",
    "    return data\n",
    "\n",
    "data = num_omitter(data)\n",
    "data.head()"
   ]
  },
  {
   "cell_type": "code",
   "execution_count": 284,
   "metadata": {},
   "outputs": [
    {
     "name": "stdout",
     "output_type": "stream",
     "text": [
      "163\n",
      "{'n', '⃟', 'س', 't', 'g', 'K', 'ض', 'ة', '☠', 'ا', '‐', '⛓', 'f', 'ی', '#', '[', '؟', 'y', 'p', 'ق', '،', 'S', 'أ', '+', 'ن', 'ذ', 'k', 'j', 'H', 'ظ', '‘', 'ه', '}', 'ط', 'م', '♂', 'ص', 'ᴇ', '٪', 'V', '⁉', '❤', 'N', 'e', 'P', 'h', 'ک', 'Z', ' ', 'آ', 's', 'l', '٫', 'M', 'ع', 'و', 'ت', '«', '\\u2067', '\\u2066', 'W', '⚽', '؛', '❄', 'T', 'R', 'ؤ', '☝', '_', '^', '/', 'a', 'ᴏ', '️', '»', '?', 'A', 'b', '⭕', 'ɴ', 'B', 'm', '♀', 'ث', '⊰', 'خ', '.', '|', 'Q', '-', 'd', '\\u2069', 'پ', 'U', '¹', '⚘', '’', 'D', 'i', '\\u200d', '☺', '²', 'چ', '•', ':', 'J', '&', 'ح', '♥', ')', '✅', ']', 'ژ', 'r', '*', 'w', '…', 'ء', 'ج', '\"', 'ز', '✨', 'L', 'z', 'c', 'C', 'ᴛ', 'ʏ', '!', 'ف', '☄', 'o', '✍', 'ر', '✋', 'گ', 'E', 'ب', 'u', 'Y', '☹', ',', 'q', 'غ', '☘', ';', 'I', '✌', 'G', 'ش', 'x', 'v', '~', '\\u200c', '(', 'د', '⭐', 'ل', '٬', 'F', 'O', '=', '°'}\n"
     ]
    }
   ],
   "source": [
    "uniqueChars = set(''.join(data['Sentence']))\n",
    "print(len(uniqueChars))\n",
    "print(uniqueChars)"
   ]
  },
  {
   "cell_type": "markdown",
   "metadata": {},
   "source": [
    "# Data Splitting"
   ]
  },
  {
   "cell_type": "code",
   "execution_count": 285,
   "metadata": {},
   "outputs": [],
   "source": [
    "from sklearn.model_selection import train_test_split\n",
    "\n",
    "train_data, test_data = train_test_split(data, random_state=42, test_size=0.2)"
   ]
  },
  {
   "cell_type": "code",
   "execution_count": 286,
   "metadata": {},
   "outputs": [
    {
     "name": "stderr",
     "output_type": "stream",
     "text": [
      "C:\\Users\\hi\\AppData\\Local\\Temp\\ipykernel_20468\\1392288644.py:2: FutureWarning: \n",
      "\n",
      "Passing `palette` without assigning `hue` is deprecated and will be removed in v0.14.0. Assign the `x` variable to `hue` and set `legend=False` for the same effect.\n",
      "\n",
      "  sns.countplot(data=train_data, x='Emotion', palette='plasma')\n"
     ]
    },
    {
     "data": {
      "text/plain": [
       "<Axes: xlabel='Emotion', ylabel='count'>"
      ]
     },
     "execution_count": 286,
     "metadata": {},
     "output_type": "execute_result"
    },
    {
     "data": {
      "image/png": "[encoded data removed]",
      "text/plain": [
       "<Figure size 864x432 with 1 Axes>"
      ]
     },
     "metadata": {
      "needs_background": "light"
     },
     "output_type": "display_data"
    }
   ],
   "source": [
    "plt.figure(figsize=(12, 6))\n",
    "sns.countplot(data=train_data, x='Emotion', palette='plasma')"
   ]
  },
  {
   "cell_type": "code",
   "execution_count": 287,
   "metadata": {},
   "outputs": [
    {
     "name": "stdout",
     "output_type": "stream",
     "text": [
      "(3938, 2)\n",
      "(985, 2)\n"
     ]
    }
   ],
   "source": [
    "print(train_data.shape)\n",
    "print(test_data.shape)"
   ]
  },
  {
   "cell_type": "code",
   "execution_count": 288,
   "metadata": {},
   "outputs": [],
   "source": [
    "train_x = pd.DataFrame(train_data['Sentence'], columns=['Sentence'], index=train_data.index)\n",
    "train_y = train_data['Emotion']\n",
    "\n",
    "test_x = pd.DataFrame(test_data['Sentence'], columns=['Sentence'], index=test_data.index)\n",
    "test_y = test_data['Emotion']"
   ]
  },
  {
   "cell_type": "code",
   "execution_count": 289,
   "metadata": {},
   "outputs": [],
   "source": [
    "from sklearn.model_selection import train_test_split\n",
    "\n",
    "def splitter(data):\n",
    "    train_data, test_data = train_test_split(data, random_state=42, test_size=0.2)\n",
    "\n",
    "    return train_data, test_data"
   ]
  },
  {
   "cell_type": "code",
   "execution_count": 290,
   "metadata": {},
   "outputs": [],
   "source": [
    "def target_split(train_data, test_data):\n",
    "    train_x = pd.DataFrame(train_data['Sentence'], columns=['Sentence'], index=train_data.index)\n",
    "    train_y = train_data['Emotion']\n",
    "\n",
    "    test_x = pd.DataFrame(test_data['Sentence'], columns=['Sentence'], index=test_data.index)\n",
    "    test_y = test_data['Emotion']\n",
    "\n",
    "    return train_x, train_y, test_x, test_y"
   ]
  },
  {
   "cell_type": "markdown",
   "metadata": {},
   "source": [
    "# Feature engineering"
   ]
  },
  {
   "cell_type": "code",
   "execution_count": 291,
   "metadata": {},
   "outputs": [],
   "source": [
    "from sklearn.feature_extraction.text import TfidfVectorizer\n",
    "\n",
    "def text_vectorizer(train_x, test_x):\n",
    "\n",
    "    vectorizer = TfidfVectorizer()\n",
    "    vector = vectorizer.fit_transform(train_x['Sentence'])\n",
    "    vectorized_x_train = pd.DataFrame(vector.toarray(), columns=vectorizer.get_feature_names_out(), index=train_data.index)\n",
    "\n",
    "    vector2 = vectorizer.transform(test_x['Sentence'])\n",
    "    vectorized_x_test = pd.DataFrame(vector2.toarray(), columns=vectorizer.get_feature_names_out(), index=test_data.index)\n",
    "\n",
    "    return vectorized_x_train, vectorized_x_test\n",
    "\n",
    "vectorized_x_train, vectorized_x_test = text_vectorizer(train_x, test_x)"
   ]
  },
  {
   "cell_type": "code",
   "execution_count": 292,
   "metadata": {},
   "outputs": [
    {
     "data": {
      "text/html": [
       "<div>\n",
       "<style scoped>\n",
       "    .dataframe tbody tr th:only-of-type {\n",
       "        vertical-align: middle;\n",
       "    }\n",
       "\n",
       "    .dataframe tbody tr th {\n",
       "        vertical-align: top;\n",
       "    }\n",
       "\n",
       "    .dataframe thead th {\n",
       "        text-align: right;\n",
       "    }\n",
       "</style>\n",
       "<table border=\"1\" class=\"dataframe\">\n",
       "  <thead>\n",
       "    <tr style=\"text-align: right;\">\n",
       "      <th></th>\n",
       "      <th>__</th>\n",
       "      <th>_اسنپ</th>\n",
       "      <th>_امینی</th>\n",
       "      <th>_ای</th>\n",
       "      <th>_جام</th>\n",
       "      <th>_دی</th>\n",
       "      <th>_زلزله</th>\n",
       "      <th>_و_</th>\n",
       "      <th>_پول</th>\n",
       "      <th>_ژانویه</th>\n",
       "      <th>...</th>\n",
       "      <th>یکمی</th>\n",
       "      <th>یکپارچگی</th>\n",
       "      <th>یکپارچگیه</th>\n",
       "      <th>یکی</th>\n",
       "      <th>یکیشون</th>\n",
       "      <th>یگانه</th>\n",
       "      <th>یی</th>\n",
       "      <th>ییره</th>\n",
       "      <th>ییشینگی</th>\n",
       "      <th>ییمیز</th>\n",
       "    </tr>\n",
       "  </thead>\n",
       "  <tbody>\n",
       "    <tr>\n",
       "      <th>184</th>\n",
       "      <td>0.0</td>\n",
       "      <td>0.0</td>\n",
       "      <td>0.0</td>\n",
       "      <td>0.0</td>\n",
       "      <td>0.0</td>\n",
       "      <td>0.0</td>\n",
       "      <td>0.0</td>\n",
       "      <td>0.0</td>\n",
       "      <td>0.0</td>\n",
       "      <td>0.0</td>\n",
       "      <td>...</td>\n",
       "      <td>0.0</td>\n",
       "      <td>0.0</td>\n",
       "      <td>0.0</td>\n",
       "      <td>0.0</td>\n",
       "      <td>0.0</td>\n",
       "      <td>0.0</td>\n",
       "      <td>0.0</td>\n",
       "      <td>0.0</td>\n",
       "      <td>0.0</td>\n",
       "      <td>0.0</td>\n",
       "    </tr>\n",
       "    <tr>\n",
       "      <th>205</th>\n",
       "      <td>0.0</td>\n",
       "      <td>0.0</td>\n",
       "      <td>0.0</td>\n",
       "      <td>0.0</td>\n",
       "      <td>0.0</td>\n",
       "      <td>0.0</td>\n",
       "      <td>0.0</td>\n",
       "      <td>0.0</td>\n",
       "      <td>0.0</td>\n",
       "      <td>0.0</td>\n",
       "      <td>...</td>\n",
       "      <td>0.0</td>\n",
       "      <td>0.0</td>\n",
       "      <td>0.0</td>\n",
       "      <td>0.0</td>\n",
       "      <td>0.0</td>\n",
       "      <td>0.0</td>\n",
       "      <td>0.0</td>\n",
       "      <td>0.0</td>\n",
       "      <td>0.0</td>\n",
       "      <td>0.0</td>\n",
       "    </tr>\n",
       "    <tr>\n",
       "      <th>4011</th>\n",
       "      <td>0.0</td>\n",
       "      <td>0.0</td>\n",
       "      <td>0.0</td>\n",
       "      <td>0.0</td>\n",
       "      <td>0.0</td>\n",
       "      <td>0.0</td>\n",
       "      <td>0.0</td>\n",
       "      <td>0.0</td>\n",
       "      <td>0.0</td>\n",
       "      <td>0.0</td>\n",
       "      <td>...</td>\n",
       "      <td>0.0</td>\n",
       "      <td>0.0</td>\n",
       "      <td>0.0</td>\n",
       "      <td>0.0</td>\n",
       "      <td>0.0</td>\n",
       "      <td>0.0</td>\n",
       "      <td>0.0</td>\n",
       "      <td>0.0</td>\n",
       "      <td>0.0</td>\n",
       "      <td>0.0</td>\n",
       "    </tr>\n",
       "    <tr>\n",
       "      <th>410</th>\n",
       "      <td>0.0</td>\n",
       "      <td>0.0</td>\n",
       "      <td>0.0</td>\n",
       "      <td>0.0</td>\n",
       "      <td>0.0</td>\n",
       "      <td>0.0</td>\n",
       "      <td>0.0</td>\n",
       "      <td>0.0</td>\n",
       "      <td>0.0</td>\n",
       "      <td>0.0</td>\n",
       "      <td>...</td>\n",
       "      <td>0.0</td>\n",
       "      <td>0.0</td>\n",
       "      <td>0.0</td>\n",
       "      <td>0.0</td>\n",
       "      <td>0.0</td>\n",
       "      <td>0.0</td>\n",
       "      <td>0.0</td>\n",
       "      <td>0.0</td>\n",
       "      <td>0.0</td>\n",
       "      <td>0.0</td>\n",
       "    </tr>\n",
       "    <tr>\n",
       "      <th>1049</th>\n",
       "      <td>0.0</td>\n",
       "      <td>0.0</td>\n",
       "      <td>0.0</td>\n",
       "      <td>0.0</td>\n",
       "      <td>0.0</td>\n",
       "      <td>0.0</td>\n",
       "      <td>0.0</td>\n",
       "      <td>0.0</td>\n",
       "      <td>0.0</td>\n",
       "      <td>0.0</td>\n",
       "      <td>...</td>\n",
       "      <td>0.0</td>\n",
       "      <td>0.0</td>\n",
       "      <td>0.0</td>\n",
       "      <td>0.0</td>\n",
       "      <td>0.0</td>\n",
       "      <td>0.0</td>\n",
       "      <td>0.0</td>\n",
       "      <td>0.0</td>\n",
       "      <td>0.0</td>\n",
       "      <td>0.0</td>\n",
       "    </tr>\n",
       "  </tbody>\n",
       "</table>\n",
       "<p>5 rows × 7592 columns</p>\n",
       "</div>"
      ],
      "text/plain": [
       "       __  _اسنپ  _امینی  _ای  _جام  _دی  _زلزله  _و_  _پول  _ژانویه  ...  \\\n",
       "184   0.0    0.0     0.0  0.0   0.0  0.0     0.0  0.0   0.0      0.0  ...   \n",
       "205   0.0    0.0     0.0  0.0   0.0  0.0     0.0  0.0   0.0      0.0  ...   \n",
       "4011  0.0    0.0     0.0  0.0   0.0  0.0     0.0  0.0   0.0      0.0  ...   \n",
       "410   0.0    0.0     0.0  0.0   0.0  0.0     0.0  0.0   0.0      0.0  ...   \n",
       "1049  0.0    0.0     0.0  0.0   0.0  0.0     0.0  0.0   0.0      0.0  ...   \n",
       "\n",
       "      یکمی  یکپارچگی  یکپارچگیه  یکی  یکیشون  یگانه   یی  ییره  ییشینگی  ییمیز  \n",
       "184    0.0       0.0        0.0  0.0     0.0    0.0  0.0   0.0      0.0    0.0  \n",
       "205    0.0       0.0        0.0  0.0     0.0    0.0  0.0   0.0      0.0    0.0  \n",
       "4011   0.0       0.0        0.0  0.0     0.0    0.0  0.0   0.0      0.0    0.0  \n",
       "410    0.0       0.0        0.0  0.0     0.0    0.0  0.0   0.0      0.0    0.0  \n",
       "1049   0.0       0.0        0.0  0.0     0.0    0.0  0.0   0.0      0.0    0.0  \n",
       "\n",
       "[5 rows x 7592 columns]"
      ]
     },
     "execution_count": 292,
     "metadata": {},
     "output_type": "execute_result"
    }
   ],
   "source": [
    "vectorized_x_train.head()"
   ]
  },
  {
   "cell_type": "code",
   "execution_count": 293,
   "metadata": {},
   "outputs": [
    {
     "data": {
      "text/plain": [
       "(3938, 7592)"
      ]
     },
     "execution_count": 293,
     "metadata": {},
     "output_type": "execute_result"
    }
   ],
   "source": [
    "vectorized_x_train.shape"
   ]
  },
  {
   "cell_type": "code",
   "execution_count": 294,
   "metadata": {},
   "outputs": [
    {
     "data": {
      "text/plain": [
       "(985, 7592)"
      ]
     },
     "execution_count": 294,
     "metadata": {},
     "output_type": "execute_result"
    }
   ],
   "source": [
    "vectorized_x_test.shape"
   ]
  },
  {
   "cell_type": "markdown",
   "metadata": {},
   "source": [
    "# Model Training"
   ]
  },
  {
   "cell_type": "code",
   "execution_count": 295,
   "metadata": {},
   "outputs": [],
   "source": [
    "from sklearn.metrics import f1_score, precision_score, accuracy_score, roc_curve, recall_score, ConfusionMatrixDisplay, confusion_matrix \n",
    "from sklearn.model_selection import GridSearchCV, StratifiedKFold\n",
    "\n",
    "def model_train_test_evaluating(x_train, y_train, x_test, y_test, model, param_grid):\n",
    "    grid_search = GridSearchCV(model, param_grid=param_grid, cv=5, scoring='accuracy')\n",
    "    grid_search.fit(x_train, y_train)\n",
    "    classifier = grid_search.best_estimator_\n",
    "\n",
    "    y_train_pred = classifier.predict(x_train)\n",
    "    y_test_pred = classifier.predict(x_test)\n",
    "\n",
    "    train_accuracy = accuracy_score(y_train, y_train_pred)\n",
    "    test_accuracy = accuracy_score(y_test, y_test_pred)\n",
    "    f1_train = f1_score(y_train, y_train_pred, average='macro')\n",
    "    f1_test = f1_score(y_test, y_test_pred, average='macro') \n",
    "\n",
    "    print('Cross validation scores:')\n",
    "    print(f\"Best parameters: {grid_search.best_params_}\")\n",
    "    print(f\"Best score: {grid_search.best_score_:.4f}\")\n",
    "    \n",
    "    print('train_data report:')\n",
    "    print('Acuuracy: ', end='')\n",
    "    print(train_accuracy)\n",
    "    print('F1_score: ', end='')\n",
    "    print(f1_train)\n",
    "\n",
    "    cm = confusion_matrix(y_train, y_train_pred)\n",
    "    # Plot the confusion matrix\n",
    "    plt.figure(figsize=(8, 6))\n",
    "    disp = ConfusionMatrixDisplay(confusion_matrix=cm)\n",
    "    disp.plot()\n",
    "    plt.title('Confusion Matrix')\n",
    "    plt.xlabel('Predicted Labels')\n",
    "    plt.ylabel('True Labels')\n",
    "    plt.show()\n",
    "\n",
    "    print('test_data report:')\n",
    "    print('Acuuracy: ', end='')\n",
    "    print(test_accuracy)\n",
    "    print('F1_score: ', end='')\n",
    "    print(f1_test)\n",
    "\n",
    "    cm = confusion_matrix(y_test, y_test_pred)\n",
    "    # Plot the confusion matrix\n",
    "    plt.figure(figsize=(8, 6))\n",
    "    disp = ConfusionMatrixDisplay(confusion_matrix=cm)\n",
    "    disp.plot()\n",
    "    plt.title('Confusion Matrix')\n",
    "    plt.xlabel('Predicted Labels')\n",
    "    plt.ylabel('True Labels')\n",
    "    plt.show()"
   ]
  },
  {
   "cell_type": "code",
   "execution_count": 296,
   "metadata": {},
   "outputs": [],
   "source": [
    "from sklearn.preprocessing import LabelEncoder\n",
    "\n",
    "def pipline(train, test, model, param_grid):\n",
    "    # Preproccessing\n",
    "\n",
    "    # column name setting \n",
    "    train = column_name_set(train)\n",
    "    test = column_name_set(test)\n",
    "\n",
    "    # changing ی in the text\n",
    "    train['Sentence'] = train['Sentence'].apply(normalize_yeh)\n",
    "    test['Sentence'] = test['Sentence'].apply(normalize_yeh)\n",
    "    # convert number to English\n",
    "    train['Sentence'] = train['Sentence'].apply(number_convertor)\n",
    "    test['Sentence'] = test['Sentence'].apply(number_convertor)\n",
    "\n",
    "    # normalize and tokenize the text\n",
    "    train = text_normalizer(train)\n",
    "    train = word_tokenizer(train)\n",
    "    test = text_normalizer(test)\n",
    "    test = word_tokenizer(test)\n",
    "\n",
    "    # lemmatizing the text\n",
    "    train = text_lemmatizer(train)\n",
    "    test = text_lemmatizer(test)\n",
    "\n",
    "    # omitting digits\n",
    "    test = num_omitter(test)\n",
    "    test = num_omitter(test)\n",
    "\n",
    "    # target splitting\n",
    "    train_x, train_y, test_x, test_y = target_split(train, test)\n",
    "\n",
    "    # text vectorizing \n",
    "    vectorized_x_train, vectorized_x_test = text_vectorizer(train, test)\n",
    "\n",
    "    #encoding target\n",
    "    label_encoder = LabelEncoder()\n",
    "    train_y_encoded = label_encoder.fit_transform(train_y)\n",
    "    test_y_encoded = label_encoder.transform(test_y)\n",
    "\n",
    "    # Model training\n",
    "    model_train_test_evaluating(vectorized_x_train, train_y_encoded, vectorized_x_test, test_y_encoded, model, param_grid)"
   ]
  },
  {
   "cell_type": "code",
   "execution_count": 297,
   "metadata": {},
   "outputs": [],
   "source": [
    "data = pd.read_excel('train_data.xlsx')"
   ]
  },
  {
   "cell_type": "code",
   "execution_count": 298,
   "metadata": {},
   "outputs": [
    {
     "name": "stdout",
     "output_type": "stream",
     "text": [
      "Cross validation scores:\n",
      "Best parameters: {'max_depth': 30, 'min_samples_leaf': 10}\n",
      "Best score: 0.4911\n",
      "train_data report:\n",
      "Acuuracy: 0.5700863382427628\n",
      "F1_score: 0.5426938227898179\n"
     ]
    },
    {
     "data": {
      "text/plain": [
       "<Figure size 576x432 with 0 Axes>"
      ]
     },
     "metadata": {},
     "output_type": "display_data"
    },
    {
     "data": {
      "image/png": "[encoded data removed]",
      "text/plain": [
       "<Figure size 432x288 with 2 Axes>"
      ]
     },
     "metadata": {
      "needs_background": "light"
     },
     "output_type": "display_data"
    },
    {
     "name": "stdout",
     "output_type": "stream",
     "text": [
      "test_data report:\n",
      "Acuuracy: 0.5147208121827411\n",
      "F1_score: 0.463544538169345\n"
     ]
    },
    {
     "data": {
      "text/plain": [
       "<Figure size 576x432 with 0 Axes>"
      ]
     },
     "metadata": {},
     "output_type": "display_data"
    },
    {
     "data": {
      "image/png": "[encoded data removed]",
      "text/plain": [
       "<Figure size 432x288 with 2 Axes>"
      ]
     },
     "metadata": {
      "needs_background": "light"
     },
     "output_type": "display_data"
    }
   ],
   "source": [
    "from sklearn import tree\n",
    "\n",
    "# Data splitting\n",
    "data1 = data.copy()\n",
    "train_data, test_data = splitter(data1)\n",
    "\n",
    "param_grid=[\n",
    "    {'max_depth': [10, 20, 30], 'min_samples_leaf': [10, 20, 30]}\n",
    "]\n",
    "\n",
    "dt_classifier = tree.DecisionTreeClassifier(random_state=42, criterion='gini')\n",
    "pipline(train_data, test_data, dt_classifier, param_grid)"
   ]
  },
  {
   "cell_type": "code",
   "execution_count": 299,
   "metadata": {},
   "outputs": [
    {
     "name": "stdout",
     "output_type": "stream",
     "text": [
      "Cross validation scores:\n",
      "Best parameters: {'max_depth': 30, 'n_estimators': 50}\n",
      "Best score: 0.5442\n",
      "train_data report:\n",
      "Acuuracy: 0.7559674961909599\n",
      "F1_score: 0.7325360787032803\n"
     ]
    },
    {
     "data": {
      "text/plain": [
       "<Figure size 576x432 with 0 Axes>"
      ]
     },
     "metadata": {},
     "output_type": "display_data"
    },
    {
     "data": {
      "image/png": "[encoded data removed]",
      "text/plain": [
       "<Figure size 432x288 with 2 Axes>"
      ]
     },
     "metadata": {
      "needs_background": "light"
     },
     "output_type": "display_data"
    },
    {
     "name": "stdout",
     "output_type": "stream",
     "text": [
      "test_data report:\n",
      "Acuuracy: 0.5604060913705584\n",
      "F1_score: 0.46213619136039047\n"
     ]
    },
    {
     "data": {
      "text/plain": [
       "<Figure size 576x432 with 0 Axes>"
      ]
     },
     "metadata": {},
     "output_type": "display_data"
    },
    {
     "data": {
      "image/png": "[encoded data removed]",
      "text/plain": [
       "<Figure size 432x288 with 2 Axes>"
      ]
     },
     "metadata": {
      "needs_background": "light"
     },
     "output_type": "display_data"
    }
   ],
   "source": [
    "from sklearn.ensemble import RandomForestClassifier\n",
    "\n",
    "# Data splitting\n",
    "data2 = data.copy()\n",
    "train_data, test_data = splitter(data2)\n",
    "\n",
    "param_grid=[\n",
    "    {'max_depth': [10, 20, 30], 'n_estimators': [30, 40, 50]}\n",
    "]\n",
    "\n",
    "rf_classifier = RandomForestClassifier(random_state=42, criterion='gini')\n",
    "pipline(train_data, test_data, rf_classifier, param_grid)"
   ]
  },
  {
   "cell_type": "code",
   "execution_count": 300,
   "metadata": {},
   "outputs": [
    {
     "name": "stdout",
     "output_type": "stream",
     "text": [
      "Cross validation scores:\n",
      "Best parameters: {'learning_rate': 0.3, 'max_depth': 5}\n",
      "Best score: 0.5843\n",
      "train_data report:\n",
      "Acuuracy: 0.8557643473844592\n",
      "F1_score: 0.859572723613866\n"
     ]
    },
    {
     "data": {
      "text/plain": [
       "<Figure size 576x432 with 0 Axes>"
      ]
     },
     "metadata": {},
     "output_type": "display_data"
    },
    {
     "data": {
      "image/png": "[encoded data removed]",
      "text/plain": [
       "<Figure size 432x288 with 2 Axes>"
      ]
     },
     "metadata": {
      "needs_background": "light"
     },
     "output_type": "display_data"
    },
    {
     "name": "stdout",
     "output_type": "stream",
     "text": [
      "test_data report:\n",
      "Acuuracy: 0.6030456852791878\n",
      "F1_score: 0.5700030787247256\n"
     ]
    },
    {
     "data": {
      "text/plain": [
       "<Figure size 576x432 with 0 Axes>"
      ]
     },
     "metadata": {},
     "output_type": "display_data"
    },
    {
     "data": {
      "image/png": "[encoded data removed]",
      "text/plain": [
       "<Figure size 432x288 with 2 Axes>"
      ]
     },
     "metadata": {
      "needs_background": "light"
     },
     "output_type": "display_data"
    }
   ],
   "source": [
    "from xgboost import XGBClassifier\n",
    "\n",
    "# Data splitting\n",
    "data3 = data.copy()\n",
    "train_data, test_data = splitter(data3)\n",
    "\n",
    "param_grid=[\n",
    "    {'max_depth': [5, 10, 15], 'learning_rate': [0.1, 0.2, 0.3]}\n",
    "]\n",
    "\n",
    "xgboost = XGBClassifier(random_state=42)\n",
    "pipline(train_data, test_data, xgboost, param_grid)"
   ]
  },
  {
   "cell_type": "code",
   "execution_count": 301,
   "metadata": {},
   "outputs": [
    {
     "name": "stderr",
     "output_type": "stream",
     "text": [
      "c:\\Users\\hi\\AppData\\Local\\Programs\\Python\\Python310\\lib\\site-packages\\sklearn\\model_selection\\_validation.py:425: FitFailedWarning: \n",
      "5 fits failed out of a total of 10.\n",
      "The score on these train-test partitions for these parameters will be set to nan.\n",
      "If these failures are not expected, you can try to debug them by setting error_score='raise'.\n",
      "\n",
      "Below are more details about the failures:\n",
      "--------------------------------------------------------------------------------\n",
      "5 fits failed with the following error:\n",
      "Traceback (most recent call last):\n",
      "  File \"c:\\Users\\hi\\AppData\\Local\\Programs\\Python\\Python310\\lib\\site-packages\\sklearn\\model_selection\\_validation.py\", line 732, in _fit_and_score\n",
      "    estimator.fit(X_train, y_train, **fit_params)\n",
      "  File \"c:\\Users\\hi\\AppData\\Local\\Programs\\Python\\Python310\\lib\\site-packages\\sklearn\\base.py\", line 1151, in wrapper\n",
      "    return fit_method(estimator, *args, **kwargs)\n",
      "  File \"c:\\Users\\hi\\AppData\\Local\\Programs\\Python\\Python310\\lib\\site-packages\\sklearn\\linear_model\\_logistic.py\", line 1168, in fit\n",
      "    solver = _check_solver(self.solver, self.penalty, self.dual)\n",
      "  File \"c:\\Users\\hi\\AppData\\Local\\Programs\\Python\\Python310\\lib\\site-packages\\sklearn\\linear_model\\_logistic.py\", line 56, in _check_solver\n",
      "    raise ValueError(\n",
      "ValueError: Solver sag supports only 'l2' or 'none' penalties, got l1 penalty.\n",
      "\n",
      "  warnings.warn(some_fits_failed_message, FitFailedWarning)\n",
      "c:\\Users\\hi\\AppData\\Local\\Programs\\Python\\Python310\\lib\\site-packages\\sklearn\\model_selection\\_search.py:976: UserWarning: One or more of the test scores are non-finite: [       nan 0.60513161]\n",
      "  warnings.warn(\n"
     ]
    },
    {
     "name": "stdout",
     "output_type": "stream",
     "text": [
      "Cross validation scores:\n",
      "Best parameters: {'penalty': 'l2'}\n",
      "Best score: 0.6051\n",
      "train_data report:\n",
      "Acuuracy: 0.8603351955307262\n",
      "F1_score: 0.8295123294600708\n"
     ]
    },
    {
     "data": {
      "text/plain": [
       "<Figure size 576x432 with 0 Axes>"
      ]
     },
     "metadata": {},
     "output_type": "display_data"
    },
    {
     "data": {
      "image/png": "[encoded data removed]",
      "text/plain": [
       "<Figure size 432x288 with 2 Axes>"
      ]
     },
     "metadata": {
      "needs_background": "light"
     },
     "output_type": "display_data"
    },
    {
     "name": "stdout",
     "output_type": "stream",
     "text": [
      "test_data report:\n",
      "Acuuracy: 0.617258883248731\n",
      "F1_score: 0.5766789319725942\n"
     ]
    },
    {
     "data": {
      "text/plain": [
       "<Figure size 576x432 with 0 Axes>"
      ]
     },
     "metadata": {},
     "output_type": "display_data"
    },
    {
     "data": {
      "image/png": "[encoded data removed]",
      "text/plain": [
       "<Figure size 432x288 with 2 Axes>"
      ]
     },
     "metadata": {
      "needs_background": "light"
     },
     "output_type": "display_data"
    }
   ],
   "source": [
    "from sklearn.linear_model import LogisticRegression\n",
    "\n",
    "# Data splitting\n",
    "data4 = data.copy()\n",
    "train_data, test_data = splitter(data4)\n",
    "\n",
    "param_grid=[\n",
    "    {'penalty': ['l1', 'l2']}\n",
    "]\n",
    "\n",
    "logistic_regression = LogisticRegression(random_state=42, solver='sag')\n",
    "pipline(train_data, test_data, logistic_regression, param_grid)"
   ]
  }
 ],
 "metadata": {
  "kernelspec": {
   "display_name": "Python 3",
   "language": "python",
   "name": "python3"
  },
  "language_info": {
   "codemirror_mode": {
    "name": "ipython",
    "version": 3
   },
   "file_extension": ".py",
   "mimetype": "text/x-python",
   "name": "python",
   "nbconvert_exporter": "python",
   "pygments_lexer": "ipython3",
   "version": "3.10.4"
  }
 },
 "nbformat": 4,
 "nbformat_minor": 2
}
