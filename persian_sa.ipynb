{
 "cells": [
  {
   "cell_type": "code",
   "execution_count": 1,
   "metadata": {
    "jupyter": {
     "is_executing": true
    }
   },
   "outputs": [],
   "source": [
    "import pandas as pd\n",
    "import numpy as np \n",
    "import matplotlib.pyplot as plt\n",
    "import seaborn as sns"
   ]
  },
  {
   "cell_type": "code",
   "execution_count": 2,
   "metadata": {},
   "outputs": [
    {
     "data": {
      "text/html": [
       "<div>\n",
       "<style scoped>\n",
       "    .dataframe tbody tr th:only-of-type {\n",
       "        vertical-align: middle;\n",
       "    }\n",
       "\n",
       "    .dataframe tbody tr th {\n",
       "        vertical-align: top;\n",
       "    }\n",
       "\n",
       "    .dataframe thead th {\n",
       "        text-align: right;\n",
       "    }\n",
       "</style>\n",
       "<table border=\"1\" class=\"dataframe\">\n",
       "  <thead>\n",
       "    <tr style=\"text-align: right;\">\n",
       "      <th></th>\n",
       "      <th>Sentence</th>\n",
       "      <th>Emotion</th>\n",
       "    </tr>\n",
       "  </thead>\n",
       "  <tbody>\n",
       "    <tr>\n",
       "      <th>0</th>\n",
       "      <td>کی گفته مرد گریه نمیکنه!؟!؟ سیلم امشب سیل #اصفهان</td>\n",
       "      <td>SAD</td>\n",
       "    </tr>\n",
       "    <tr>\n",
       "      <th>1</th>\n",
       "      <td>عکسی که چند روز پیش گذاشته بودم این فیلم الانش...</td>\n",
       "      <td>OTHER</td>\n",
       "    </tr>\n",
       "    <tr>\n",
       "      <th>2</th>\n",
       "      <td>تنهاییم شبیه تنهاییه ظهرای بچگیم شده وقتی که ه...</td>\n",
       "      <td>SAD</td>\n",
       "    </tr>\n",
       "    <tr>\n",
       "      <th>3</th>\n",
       "      <td>خوبه تمام قسمت‌های گوشی رو محافظت می‌کنه</td>\n",
       "      <td>HAPPY</td>\n",
       "    </tr>\n",
       "    <tr>\n",
       "      <th>4</th>\n",
       "      <td>این خاک مال مردمان است نه حاکمان #ایران #مهسا_...</td>\n",
       "      <td>ANGRY</td>\n",
       "    </tr>\n",
       "  </tbody>\n",
       "</table>\n",
       "</div>"
      ],
      "text/plain": [
       "                                            Sentence Emotion\n",
       "0  کی گفته مرد گریه نمیکنه!؟!؟ سیلم امشب سیل #اصفهان     SAD\n",
       "1  عکسی که چند روز پیش گذاشته بودم این فیلم الانش...   OTHER\n",
       "2  تنهاییم شبیه تنهاییه ظهرای بچگیم شده وقتی که ه...     SAD\n",
       "3           خوبه تمام قسمت‌های گوشی رو محافظت می‌کنه   HAPPY\n",
       "4  این خاک مال مردمان است نه حاکمان #ایران #مهسا_...   ANGRY"
      ]
     },
     "execution_count": 2,
     "metadata": {},
     "output_type": "execute_result"
    }
   ],
   "source": [
    "data = pd.read_excel('train_data.xlsx')\n",
    "data.head()"
   ]
  },
  {
   "cell_type": "code",
   "execution_count": 3,
   "metadata": {},
   "outputs": [],
   "source": [
    "def column_name_set(data):\n",
    "    num_cols = data.shape[1]\n",
    "\n",
    "    if num_cols == 2:\n",
    "        data.columns = ['Sentence', 'Emotion']\n",
    "    else:\n",
    "        data.columns = ['Sentence']\n",
    "        data['Emotion'] = None\n",
    "\n",
    "    return data"
   ]
  },
  {
   "cell_type": "code",
   "execution_count": 4,
   "metadata": {},
   "outputs": [
    {
     "data": {
      "text/html": [
       "<div>\n",
       "<style scoped>\n",
       "    .dataframe tbody tr th:only-of-type {\n",
       "        vertical-align: middle;\n",
       "    }\n",
       "\n",
       "    .dataframe tbody tr th {\n",
       "        vertical-align: top;\n",
       "    }\n",
       "\n",
       "    .dataframe thead th {\n",
       "        text-align: right;\n",
       "    }\n",
       "</style>\n",
       "<table border=\"1\" class=\"dataframe\">\n",
       "  <thead>\n",
       "    <tr style=\"text-align: right;\">\n",
       "      <th></th>\n",
       "      <th>Sentence</th>\n",
       "      <th>Emotion</th>\n",
       "    </tr>\n",
       "  </thead>\n",
       "  <tbody>\n",
       "    <tr>\n",
       "      <th>0</th>\n",
       "      <td>کی گفته مرد گریه نمیکنه!؟!؟ سیلم امشب سیل #اصفهان</td>\n",
       "      <td>SAD</td>\n",
       "    </tr>\n",
       "    <tr>\n",
       "      <th>1</th>\n",
       "      <td>عکسی که چند روز پیش گذاشته بودم این فیلم الانش...</td>\n",
       "      <td>OTHER</td>\n",
       "    </tr>\n",
       "    <tr>\n",
       "      <th>2</th>\n",
       "      <td>تنهاییم شبیه تنهاییه ظهرای بچگیم شده وقتی که ه...</td>\n",
       "      <td>SAD</td>\n",
       "    </tr>\n",
       "    <tr>\n",
       "      <th>3</th>\n",
       "      <td>خوبه تمام قسمت‌های گوشی رو محافظت می‌کنه</td>\n",
       "      <td>HAPPY</td>\n",
       "    </tr>\n",
       "    <tr>\n",
       "      <th>4</th>\n",
       "      <td>این خاک مال مردمان است نه حاکمان #ایران #مهسا_...</td>\n",
       "      <td>ANGRY</td>\n",
       "    </tr>\n",
       "  </tbody>\n",
       "</table>\n",
       "</div>"
      ],
      "text/plain": [
       "                                            Sentence Emotion\n",
       "0  کی گفته مرد گریه نمیکنه!؟!؟ سیلم امشب سیل #اصفهان     SAD\n",
       "1  عکسی که چند روز پیش گذاشته بودم این فیلم الانش...   OTHER\n",
       "2  تنهاییم شبیه تنهاییه ظهرای بچگیم شده وقتی که ه...     SAD\n",
       "3           خوبه تمام قسمت‌های گوشی رو محافظت می‌کنه   HAPPY\n",
       "4  این خاک مال مردمان است نه حاکمان #ایران #مهسا_...   ANGRY"
      ]
     },
     "execution_count": 4,
     "metadata": {},
     "output_type": "execute_result"
    }
   ],
   "source": [
    "data = column_name_set(data)\n",
    "data.head()"
   ]
  },
  {
   "cell_type": "code",
   "execution_count": 5,
   "metadata": {},
   "outputs": [
    {
     "data": {
      "text/html": [
       "<div>\n",
       "<style scoped>\n",
       "    .dataframe tbody tr th:only-of-type {\n",
       "        vertical-align: middle;\n",
       "    }\n",
       "\n",
       "    .dataframe tbody tr th {\n",
       "        vertical-align: top;\n",
       "    }\n",
       "\n",
       "    .dataframe thead th {\n",
       "        text-align: right;\n",
       "    }\n",
       "</style>\n",
       "<table border=\"1\" class=\"dataframe\">\n",
       "  <thead>\n",
       "    <tr style=\"text-align: right;\">\n",
       "      <th></th>\n",
       "      <th>Sentence</th>\n",
       "      <th>Emotion</th>\n",
       "    </tr>\n",
       "  </thead>\n",
       "  <tbody>\n",
       "    <tr>\n",
       "      <th>count</th>\n",
       "      <td>4924</td>\n",
       "      <td>4924</td>\n",
       "    </tr>\n",
       "    <tr>\n",
       "      <th>unique</th>\n",
       "      <td>4924</td>\n",
       "      <td>5</td>\n",
       "    </tr>\n",
       "    <tr>\n",
       "      <th>top</th>\n",
       "      <td>کی گفته مرد گریه نمیکنه!؟!؟ سیلم امشب سیل #اصفهان</td>\n",
       "      <td>HAPPY</td>\n",
       "    </tr>\n",
       "    <tr>\n",
       "      <th>freq</th>\n",
       "      <td>1</td>\n",
       "      <td>1462</td>\n",
       "    </tr>\n",
       "  </tbody>\n",
       "</table>\n",
       "</div>"
      ],
      "text/plain": [
       "                                                 Sentence Emotion\n",
       "count                                                4924    4924\n",
       "unique                                               4924       5\n",
       "top     کی گفته مرد گریه نمیکنه!؟!؟ سیلم امشب سیل #اصفهان   HAPPY\n",
       "freq                                                    1    1462"
      ]
     },
     "execution_count": 5,
     "metadata": {},
     "output_type": "execute_result"
    }
   ],
   "source": [
    "data.describe()"
   ]
  },
  {
   "cell_type": "code",
   "execution_count": 6,
   "metadata": {},
   "outputs": [
    {
     "name": "stdout",
     "output_type": "stream",
     "text": [
      "<class 'pandas.core.frame.DataFrame'>\n",
      "RangeIndex: 4924 entries, 0 to 4923\n",
      "Data columns (total 2 columns):\n",
      " #   Column    Non-Null Count  Dtype \n",
      "---  ------    --------------  ----- \n",
      " 0   Sentence  4924 non-null   object\n",
      " 1   Emotion   4924 non-null   object\n",
      "dtypes: object(2)\n",
      "memory usage: 77.1+ KB\n"
     ]
    }
   ],
   "source": [
    "data.info()"
   ]
  },
  {
   "cell_type": "code",
   "execution_count": 7,
   "metadata": {},
   "outputs": [
    {
     "data": {
      "text/plain": [
       "Sentence    0\n",
       "Emotion     0\n",
       "dtype: int64"
      ]
     },
     "execution_count": 7,
     "metadata": {},
     "output_type": "execute_result"
    }
   ],
   "source": [
    "data.isnull().sum()"
   ]
  },
  {
   "cell_type": "code",
   "execution_count": 8,
   "metadata": {},
   "outputs": [
    {
     "name": "stderr",
     "output_type": "stream",
     "text": [
      "C:\\Users\\hi\\AppData\\Local\\Temp\\ipykernel_23060\\1880826210.py:2: FutureWarning: \n",
      "\n",
      "Passing `palette` without assigning `hue` is deprecated and will be removed in v0.14.0. Assign the `x` variable to `hue` and set `legend=False` for the same effect.\n",
      "\n",
      "  sns.countplot(data=data, x='Emotion', palette='plasma')\n"
     ]
    },
    {
     "data": {
      "text/plain": [
       "<Axes: xlabel='Emotion', ylabel='count'>"
      ]
     },
     "execution_count": 8,
     "metadata": {},
     "output_type": "execute_result"
    },
    {
     "data": {
      "image/png": "[encoded data removed]",
      "text/plain": [
       "<Figure size 864x432 with 1 Axes>"
      ]
     },
     "metadata": {
      "needs_background": "light"
     },
     "output_type": "display_data"
    }
   ],
   "source": [
    "plt.figure(figsize=(12, 6))\n",
    "sns.countplot(data=data, x='Emotion', palette='plasma')"
   ]
  },
  {
   "cell_type": "code",
   "execution_count": 9,
   "metadata": {},
   "outputs": [
    {
     "data": {
      "text/plain": [
       "0"
      ]
     },
     "execution_count": 9,
     "metadata": {},
     "output_type": "execute_result"
    }
   ],
   "source": [
    "data.duplicated().sum()"
   ]
  },
  {
   "cell_type": "markdown",
   "metadata": {},
   "source": [
    "#### The provided data set contains a collection of Persian sentences and the corresponding emotions associated with each sentence. The dataset has two columns: one for the sentence and the other for the emotion of that sentence. Initially, the column names were not provided, so the first step was to set appropriate names for the columns. This was done to ensure clarity and ease of reference when working with the data. After setting the column names, the next step was to check the data for any null values or duplicate rows. Fortunately, the analysis revealed that there were no null values or duplicate rows in the dataset. Finally, to gain a better understanding of the data, a count plot of the target values (emotions) was generated. The result of this analysis showed that the majority of the sentences in the dataset evoke a sense of happiness, while the sentences conveying a sense of fear are the least common."
   ]
  },
  {
   "cell_type": "markdown",
   "metadata": {},
   "source": [
    "# Preproccessing"
   ]
  },
  {
   "cell_type": "code",
   "execution_count": 10,
   "metadata": {},
   "outputs": [],
   "source": [
    "import hazm "
   ]
  },
  {
   "cell_type": "code",
   "execution_count": 11,
   "metadata": {},
   "outputs": [
    {
     "name": "stdout",
     "output_type": "stream",
     "text": [
      "210\n",
      "{'؟', 'ټ', 'غ', '٢', '۵', '☠', '²', '«', '8', '\\u2069', 'َ', '⭕', '‐', '۸', '✍', 'د', 'ذ', '\\u200c', 'ᴇ', '،', '~', 'n', 's', '✨', 'ʏ', 'ب', 'k', 'l', '!', '9', '⊰', 'ہ', 'w', 'f', 'j', '…', '¹', 'ض', '⚽', '⭐', '#', '5', '۲', '0', 'گ', 'ɴ', 'ج', '۶', '“', 'g', 'ك', '۹', 'ص', 'v', 'آ', '❤', 'ت', 'O', 'q', '3', '?', 'م', 'ُ', '☹', 'ر', 'ھ', 'ؤ', '☝', 'V', 'ْ', 'ث', '[', '♀', '*', '\\u200d', 'ى', '٠', 'ط', ' ', 'ق', '⚘', '☘', 'J', 'خ', 'ش', 'ة', 'H', '+', 'b', '❄', 'ه', 'S', '^', 'ظ', '۔', '٫', '7', '=', '۳', '°', 'ن', 'ِ', '.', 'ە', 'K', '_', '☺', '☄', '✌', 'ل', 'و', ':', 'R', 'ً', 'ے', '٣', 'Y', 'ᴏ', 'Q', 'z', 'ٔ', '\\n', 'N', 'c', '٪', 'A', '♥', 'ّ', 'o', 'i', '4', ']', 'ف', '1', 'ا', 'd', '•', 'چ', 'L', '٦', 'y', '’', 'D', '»', '٬', '/', 'E', '&', ',', 'e', 'F', 'U', 'ء', 'Z', 'T', '(', 'P', 'm', '\\u2066', 'x', 'u', 'a', '⛓', 'پ', 'ز', '۰', 'I', '”', ';', '\\u2067', 'M', 'ۀ', ')', 'p', 'r', '6', '✋', 'س', 't', '♂', '-', '️', 'B', '⁉', 'G', '۴', '2', 'ي', '۱', '‘', 'ژ', '}', 'W', '١', '%', 'ع', 'أ', '|', '۷', 'ح', 'ـ', 'ی', 'C', 'ᴛ', 'ئ', '؛', 'h', '✅', 'ک', '⃟'}\n"
     ]
    }
   ],
   "source": [
    "uniqueChars = set(''.join(data['Sentence']))\n",
    "print(len(uniqueChars))\n",
    "print(uniqueChars)"
   ]
  },
  {
   "cell_type": "code",
   "execution_count": 12,
   "metadata": {},
   "outputs": [],
   "source": [
    "def normalize_yeh(text):\n",
    "    yeh_characters = ['ی', 'ي', 'ے', 'ئ', 'ى']\n",
    "    for char in yeh_characters:\n",
    "        text = text.replace(char, 'ی')\n",
    "    return text"
   ]
  },
  {
   "cell_type": "code",
   "execution_count": 13,
   "metadata": {},
   "outputs": [],
   "source": [
    "def lower_case(data):\n",
    "    data['Sentence'] = data['Sentence'].str.lower()\n",
    "    \n",
    "    return data"
   ]
  },
  {
   "cell_type": "code",
   "execution_count": 14,
   "metadata": {},
   "outputs": [
    {
     "name": "stdout",
     "output_type": "stream",
     "text": [
      "185\n",
      "{'؟', 'ټ', 'غ', '٢', '۵', '☠', '²', '«', '8', '\\u2069', 'َ', '⭕', '‐', '۸', '✍', 'د', 'ذ', '\\u200c', 'ᴇ', '،', '~', 'n', 's', '✨', 'ʏ', 'ب', 'k', 'l', '!', '9', '⊰', 'ہ', 'w', 'f', 'j', '…', '¹', 'ض', '⚽', '⭐', '#', '5', '۲', '0', 'گ', 'ɴ', 'ج', '۶', '“', 'g', 'ك', '۹', 'ص', 'v', 'آ', '❤', 'ت', 'q', '3', '?', 'م', 'ُ', '☹', 'ر', 'ھ', 'ؤ', '☝', 'ْ', 'ث', '[', '♀', '*', '\\u200d', 'ى', '٠', 'ط', ' ', 'ق', '⚘', '☘', 'خ', 'ش', 'ة', '+', 'b', '❄', 'ه', '^', 'ظ', '۔', '٫', '7', '=', '۳', '°', 'ن', 'ِ', '.', 'ە', '_', '☺', '☄', '✌', 'ل', 'و', ':', 'ً', 'ے', '٣', 'ᴏ', 'z', 'ٔ', '\\n', 'c', '٪', '♥', 'ّ', 'o', 'i', '4', ']', 'ف', '1', 'ا', 'd', '•', 'چ', '٦', 'y', '’', '»', '٬', '/', '&', ',', 'e', 'ء', '(', 'm', '\\u2066', 'x', 'u', 'a', '⛓', 'پ', 'ز', '۰', '”', ';', '\\u2067', 'ۀ', ')', 'p', 'r', '6', '✋', 'س', 't', '♂', '-', '️', '⁉', '2', '۴', '‘', 'ي', '۱', '}', 'ژ', '١', '%', 'ع', 'أ', '|', '۷', 'ح', 'ـ', 'ی', 'ᴛ', 'ئ', '؛', 'h', '✅', 'ک', '⃟'}\n"
     ]
    }
   ],
   "source": [
    "data = lower_case(data)\n",
    "uniqueChars = set(''.join(data['Sentence']))\n",
    "print(len(uniqueChars))\n",
    "print(uniqueChars)"
   ]
  },
  {
   "cell_type": "code",
   "execution_count": 15,
   "metadata": {},
   "outputs": [],
   "source": [
    "def number_convertor(text):\n",
    "    persian_digits = '۰۱۲۳۴۵۶۷۸۹٦'\n",
    "    english_digits = '01234567896'\n",
    "    translation_table = str.maketrans(persian_digits, english_digits)\n",
    "    return text.translate(translation_table)"
   ]
  },
  {
   "cell_type": "code",
   "execution_count": 16,
   "metadata": {},
   "outputs": [
    {
     "name": "stdout",
     "output_type": "stream",
     "text": [
      "174\n",
      "{'؟', 'ټ', 'غ', '٢', '☠', '²', '«', '8', '\\u2069', 'َ', '⭕', '‐', '✍', 'د', 'ذ', '\\u200c', 'ᴇ', '،', '~', 'n', 's', '✨', 'ʏ', 'ب', 'k', 'l', '!', '9', '⊰', 'ہ', 'w', 'f', 'j', '…', '¹', 'ض', '⚽', '⭐', '#', '5', '0', 'گ', 'ɴ', 'ج', '“', 'g', 'ك', 'ص', 'v', 'آ', '❤', 'ت', 'q', '3', '?', 'م', 'ُ', '☹', 'ر', 'ھ', 'ؤ', '☝', 'ْ', 'ث', '[', '♀', '*', '\\u200d', 'ى', '٠', 'ط', ' ', 'ق', '⚘', '☘', 'خ', 'ش', 'ة', '+', 'b', '❄', 'ه', '^', 'ظ', '۔', '٫', '7', '=', '°', 'ن', 'ِ', '.', 'ە', '_', '☺', '☄', '✌', 'ل', 'و', ':', 'ً', 'ے', '٣', 'ᴏ', 'z', 'ٔ', '\\n', 'c', '٪', '♥', 'ّ', 'o', 'i', '4', ']', 'ف', '1', 'ا', 'd', '•', 'چ', 'y', '’', '»', '٬', '/', '&', ',', 'e', 'ء', '(', 'm', '\\u2066', 'x', 'u', 'a', '⛓', 'پ', 'ز', '”', ';', '\\u2067', 'ۀ', ')', 'p', 'r', '6', '✋', 'س', 't', '♂', '-', '️', '⁉', '2', '}', '‘', 'ي', 'ژ', '١', '%', 'ع', 'أ', '|', 'ح', 'ـ', 'ی', 'ᴛ', 'ئ', '؛', 'h', '✅', 'ک', '⃟'}\n"
     ]
    }
   ],
   "source": [
    "data['Sentence'] = data['Sentence'].apply(number_convertor)\n",
    "uniqueChars = set(''.join(data['Sentence']))\n",
    "print(len(uniqueChars))\n",
    "print(uniqueChars)"
   ]
  },
  {
   "cell_type": "code",
   "execution_count": 17,
   "metadata": {},
   "outputs": [
    {
     "name": "stdout",
     "output_type": "stream",
     "text": [
      "170\n",
      "{'؟', 'ټ', 'غ', '٢', '☠', '²', '«', '8', '\\u2069', 'َ', '⭕', '‐', '✍', 'د', 'ذ', '\\u200c', 'ᴇ', '،', '~', 'n', 's', '✨', 'ʏ', 'ب', 'k', 'l', '!', '9', '⊰', 'ہ', 'w', 'f', 'j', '…', '¹', 'ض', '⚽', '⭐', '#', '5', '0', 'گ', 'ɴ', 'ج', '“', 'g', 'ك', 'ص', 'v', 'آ', '❤', 'ت', 'q', '3', '?', 'م', 'ُ', '☹', 'ر', 'ھ', 'ؤ', '☝', 'ْ', 'ث', '[', '♀', '*', '\\u200d', '٠', 'ط', ' ', 'ق', '⚘', '☘', 'خ', 'ش', 'ة', '+', 'b', '❄', 'ه', '^', 'ظ', '۔', '٫', '7', '=', '°', 'ن', 'ِ', '.', 'ە', '_', '☺', '☄', '✌', 'ل', 'و', ':', 'ً', '٣', 'ᴏ', 'z', 'ٔ', '\\n', 'c', '٪', '♥', 'ّ', 'o', 'i', '4', ']', 'ف', '1', 'ا', 'd', '•', 'چ', 'y', '’', '»', '٬', '/', '&', ',', 'e', 'ء', '(', 'm', '\\u2066', 'x', 'u', 'a', '⛓', 'پ', 'ز', '”', ';', '\\u2067', 'ۀ', ')', 'p', 'r', '6', '✋', 'س', 't', '♂', '-', '️', '⁉', '2', '}', '‘', 'ژ', '١', '%', 'ع', 'أ', '|', 'ح', 'ـ', 'ی', 'ᴛ', '؛', 'h', '✅', 'ک', '⃟'}\n"
     ]
    }
   ],
   "source": [
    "data['Sentence'] = data['Sentence'].apply(normalize_yeh)\n",
    "uniqueChars = set(''.join(data['Sentence']))\n",
    "print(len(uniqueChars))\n",
    "print(uniqueChars)"
   ]
  },
  {
   "cell_type": "code",
   "execution_count": 18,
   "metadata": {},
   "outputs": [],
   "source": [
    "def text_normalizer(data):\n",
    "    normalizer = hazm.Normalizer()\n",
    "    data['Sentence'] = data['Sentence'].apply(normalizer.normalize)\n",
    "    return data"
   ]
  },
  {
   "cell_type": "code",
   "execution_count": 19,
   "metadata": {},
   "outputs": [
    {
     "data": {
      "text/html": [
       "<div>\n",
       "<style scoped>\n",
       "    .dataframe tbody tr th:only-of-type {\n",
       "        vertical-align: middle;\n",
       "    }\n",
       "\n",
       "    .dataframe tbody tr th {\n",
       "        vertical-align: top;\n",
       "    }\n",
       "\n",
       "    .dataframe thead th {\n",
       "        text-align: right;\n",
       "    }\n",
       "</style>\n",
       "<table border=\"1\" class=\"dataframe\">\n",
       "  <thead>\n",
       "    <tr style=\"text-align: right;\">\n",
       "      <th></th>\n",
       "      <th>Sentence</th>\n",
       "      <th>Emotion</th>\n",
       "    </tr>\n",
       "  </thead>\n",
       "  <tbody>\n",
       "    <tr>\n",
       "      <th>0</th>\n",
       "      <td>کی گفته مرد گریه نمیکنه!؟!؟ سیلم امشب سیل #اصفهان</td>\n",
       "      <td>SAD</td>\n",
       "    </tr>\n",
       "    <tr>\n",
       "      <th>1</th>\n",
       "      <td>عکسی که چند روز پیش گذاشته بودم این فیلم الانش...</td>\n",
       "      <td>OTHER</td>\n",
       "    </tr>\n",
       "    <tr>\n",
       "      <th>2</th>\n",
       "      <td>تنهاییم شبیه تنهاییه ظهرای بچگیم شده وقتی‌که ه...</td>\n",
       "      <td>SAD</td>\n",
       "    </tr>\n",
       "    <tr>\n",
       "      <th>3</th>\n",
       "      <td>خوبه تمام قسمت‌های گوشی رو محافظت می‌کنه</td>\n",
       "      <td>HAPPY</td>\n",
       "    </tr>\n",
       "    <tr>\n",
       "      <th>4</th>\n",
       "      <td>این خاک‌مال مردمان است نه حاکمان #ایران #مهسا_...</td>\n",
       "      <td>ANGRY</td>\n",
       "    </tr>\n",
       "  </tbody>\n",
       "</table>\n",
       "</div>"
      ],
      "text/plain": [
       "                                            Sentence Emotion\n",
       "0  کی گفته مرد گریه نمیکنه!؟!؟ سیلم امشب سیل #اصفهان     SAD\n",
       "1  عکسی که چند روز پیش گذاشته بودم این فیلم الانش...   OTHER\n",
       "2  تنهاییم شبیه تنهاییه ظهرای بچگیم شده وقتی‌که ه...     SAD\n",
       "3           خوبه تمام قسمت‌های گوشی رو محافظت می‌کنه   HAPPY\n",
       "4  این خاک‌مال مردمان است نه حاکمان #ایران #مهسا_...   ANGRY"
      ]
     },
     "execution_count": 19,
     "metadata": {},
     "output_type": "execute_result"
    }
   ],
   "source": [
    "data = text_normalizer(data)\n",
    "data.head()"
   ]
  },
  {
   "cell_type": "code",
   "execution_count": 20,
   "metadata": {},
   "outputs": [],
   "source": [
    "def word_tokenizer(data):\n",
    "    data['Sentence'] = data['Sentence'].apply(hazm.word_tokenize)\n",
    "    return data"
   ]
  },
  {
   "cell_type": "code",
   "execution_count": 21,
   "metadata": {},
   "outputs": [
    {
     "data": {
      "text/html": [
       "<div>\n",
       "<style scoped>\n",
       "    .dataframe tbody tr th:only-of-type {\n",
       "        vertical-align: middle;\n",
       "    }\n",
       "\n",
       "    .dataframe tbody tr th {\n",
       "        vertical-align: top;\n",
       "    }\n",
       "\n",
       "    .dataframe thead th {\n",
       "        text-align: right;\n",
       "    }\n",
       "</style>\n",
       "<table border=\"1\" class=\"dataframe\">\n",
       "  <thead>\n",
       "    <tr style=\"text-align: right;\">\n",
       "      <th></th>\n",
       "      <th>Sentence</th>\n",
       "      <th>Emotion</th>\n",
       "    </tr>\n",
       "  </thead>\n",
       "  <tbody>\n",
       "    <tr>\n",
       "      <th>0</th>\n",
       "      <td>[کی, گفته, مرد, گریه, نمیکنه, !؟!؟, سیلم, امشب...</td>\n",
       "      <td>SAD</td>\n",
       "    </tr>\n",
       "    <tr>\n",
       "      <th>1</th>\n",
       "      <td>[عکسی, که, چند, روز, پیش, گذاشته_بودم, این, فی...</td>\n",
       "      <td>OTHER</td>\n",
       "    </tr>\n",
       "    <tr>\n",
       "      <th>2</th>\n",
       "      <td>[تنهاییم, شبیه, تنهاییه, ظهرای, بچگیم, شده, وق...</td>\n",
       "      <td>SAD</td>\n",
       "    </tr>\n",
       "    <tr>\n",
       "      <th>3</th>\n",
       "      <td>[خوبه, تمام, قسمت‌های, گوشی, رو, محافظت, می‌کنه]</td>\n",
       "      <td>HAPPY</td>\n",
       "    </tr>\n",
       "    <tr>\n",
       "      <th>4</th>\n",
       "      <td>[این, خاک‌مال, مردمان, است, نه, حاکمان, #ایران...</td>\n",
       "      <td>ANGRY</td>\n",
       "    </tr>\n",
       "  </tbody>\n",
       "</table>\n",
       "</div>"
      ],
      "text/plain": [
       "                                            Sentence Emotion\n",
       "0  [کی, گفته, مرد, گریه, نمیکنه, !؟!؟, سیلم, امشب...     SAD\n",
       "1  [عکسی, که, چند, روز, پیش, گذاشته_بودم, این, فی...   OTHER\n",
       "2  [تنهاییم, شبیه, تنهاییه, ظهرای, بچگیم, شده, وق...     SAD\n",
       "3   [خوبه, تمام, قسمت‌های, گوشی, رو, محافظت, می‌کنه]   HAPPY\n",
       "4  [این, خاک‌مال, مردمان, است, نه, حاکمان, #ایران...   ANGRY"
      ]
     },
     "execution_count": 21,
     "metadata": {},
     "output_type": "execute_result"
    }
   ],
   "source": [
    "data = word_tokenizer(data)\n",
    "data.head()"
   ]
  },
  {
   "cell_type": "code",
   "execution_count": 22,
   "metadata": {},
   "outputs": [],
   "source": [
    "def text_lemmatizer(data):\n",
    "    lemmatizer = hazm.Lemmatizer()\n",
    "    data['Sentence'] = data['Sentence'].apply(lambda x: ' '.join([lemmatizer.lemmatize(word) for word in x]))\n",
    "    return data"
   ]
  },
  {
   "cell_type": "code",
   "execution_count": 23,
   "metadata": {},
   "outputs": [
    {
     "data": {
      "text/html": [
       "<div>\n",
       "<style scoped>\n",
       "    .dataframe tbody tr th:only-of-type {\n",
       "        vertical-align: middle;\n",
       "    }\n",
       "\n",
       "    .dataframe tbody tr th {\n",
       "        vertical-align: top;\n",
       "    }\n",
       "\n",
       "    .dataframe thead th {\n",
       "        text-align: right;\n",
       "    }\n",
       "</style>\n",
       "<table border=\"1\" class=\"dataframe\">\n",
       "  <thead>\n",
       "    <tr style=\"text-align: right;\">\n",
       "      <th></th>\n",
       "      <th>Sentence</th>\n",
       "      <th>Emotion</th>\n",
       "    </tr>\n",
       "  </thead>\n",
       "  <tbody>\n",
       "    <tr>\n",
       "      <th>0</th>\n",
       "      <td>کی گفته مرد گریه نمیکنه !؟!؟ سیل امشب سیل #اصفهان</td>\n",
       "      <td>SAD</td>\n",
       "    </tr>\n",
       "    <tr>\n",
       "      <th>1</th>\n",
       "      <td>عکس که چند روز پیش گذاشت#گذار این فیلم الانشه ...</td>\n",
       "      <td>OTHER</td>\n",
       "    </tr>\n",
       "    <tr>\n",
       "      <th>2</th>\n",
       "      <td>تن شبیه تنهاییه ظهرای بچگیم شده وقتی‌که همه می...</td>\n",
       "      <td>SAD</td>\n",
       "    </tr>\n",
       "    <tr>\n",
       "      <th>3</th>\n",
       "      <td>خوبه تمام قسمت گوشید#گوش رو محافظت می‌کنه</td>\n",
       "      <td>HAPPY</td>\n",
       "    </tr>\n",
       "    <tr>\n",
       "      <th>4</th>\n",
       "      <td>این خاک‌مال مردمان است نه حاکمان #ایران #مهسا_...</td>\n",
       "      <td>ANGRY</td>\n",
       "    </tr>\n",
       "  </tbody>\n",
       "</table>\n",
       "</div>"
      ],
      "text/plain": [
       "                                            Sentence Emotion\n",
       "0  کی گفته مرد گریه نمیکنه !؟!؟ سیل امشب سیل #اصفهان     SAD\n",
       "1  عکس که چند روز پیش گذاشت#گذار این فیلم الانشه ...   OTHER\n",
       "2  تن شبیه تنهاییه ظهرای بچگیم شده وقتی‌که همه می...     SAD\n",
       "3          خوبه تمام قسمت گوشید#گوش رو محافظت می‌کنه   HAPPY\n",
       "4  این خاک‌مال مردمان است نه حاکمان #ایران #مهسا_...   ANGRY"
      ]
     },
     "execution_count": 23,
     "metadata": {},
     "output_type": "execute_result"
    }
   ],
   "source": [
    "data = text_lemmatizer(data)\n",
    "data.head()"
   ]
  },
  {
   "cell_type": "code",
   "execution_count": 24,
   "metadata": {},
   "outputs": [
    {
     "name": "stdout",
     "output_type": "stream",
     "text": [
      "148\n",
      "{'؟', 'غ', '۵', '☠', '²', '«', '\\u2069', '⭕', '‐', '۸', '✍', 'د', 'ذ', '\\u200c', 'ᴇ', '،', '~', 'n', 's', '✨', 'ʏ', 'ب', 'k', 'l', '!', '⊰', 'w', 'f', 'j', '…', '¹', 'ض', '⚽', '⭐', '#', '۲', 'گ', 'ɴ', 'ج', '۶', 'g', '۹', 'ص', 'v', 'آ', '❤', 'ت', 'q', '?', 'م', '☝', '☹', 'ر', 'ؤ', 'ث', '[', '♀', '*', '\\u200d', 'ط', ' ', 'ق', '⚘', '☘', 'خ', 'ش', 'ة', '+', 'b', '❄', 'ه', '^', 'ظ', '\"', '٫', '=', '۳', '°', 'ن', '.', '_', '☺', '☄', '✌', 'ل', 'و', ':', 'ᴏ', 'z', 'c', '٪', '♥', 'o', 'i', ']', 'ف', 'ا', 'd', '•', 'چ', 'y', '’', '»', '٬', '/', '&', ',', 'e', 'ء', '(', 'm', '\\u2066', 'x', 'u', 'a', '⛓', 'پ', 'ز', '۰', ';', '\\u2067', ')', 'p', 'r', '✋', 'س', 't', '♂', '-', '️', '⁉', '۴', '‘', '۱', '}', 'ژ', 'ع', 'أ', '|', '۷', 'ح', 'ی', 'ᴛ', '؛', 'h', '✅', 'ک', '⃟'}\n"
     ]
    }
   ],
   "source": [
    "uniqueChars = set(''.join(data['Sentence']))\n",
    "print(len(uniqueChars))\n",
    "print(uniqueChars)"
   ]
  },
  {
   "cell_type": "markdown",
   "metadata": {},
   "source": [
    "#### In this part, we have performed some preprocessing on the data using the Hazm library, which is designed to process Persian text and data. The texts were consisting of both english and persian words and letters. So, we made all the texts lower case because of that. First, we discovered that there are five different types of the letter \"yeh\" in our text, so we converted all of them to a specific, standardized form. This helps ensure consistency in the representation of the text. Next, we noticed that the text contained both Persian and English digits. We converted all digits to their English equivalents. The next step in the preprocessing was to normalize the text using the Hazm library. Normalizing text in the context of natural language processing (NLP) refers to the process of transforming text into a standardized format or representation. This typically involves tasks such as converting all text to lowercase, removing stop words (common words that do not carry significant meaning), and other similar operations. After normalizing the text, we used a word tokenizer to separate the words into individual tokens. This is an important step for many NLP tasks, as it allows us to work with the text at the word level. The next step was lemmatization, which uses linguistic knowledge to convert words to their base or dictionary form. This helps to reduce the dimensionality of the text and can improve the performance of various NLP models. Finally, as the last step, we omitted all the digits from the text, as they were not deemed relevant for the sentiment analysis task."
   ]
  },
  {
   "cell_type": "markdown",
   "metadata": {},
   "source": [
    "# Data Splitting"
   ]
  },
  {
   "cell_type": "code",
   "execution_count": 25,
   "metadata": {},
   "outputs": [],
   "source": [
    "from sklearn.model_selection import train_test_split\n",
    "\n",
    "def splitter(data):\n",
    "    train_data, test_data = train_test_split(data, random_state=42, test_size=0.2)\n",
    "\n",
    "    return train_data, test_data"
   ]
  },
  {
   "cell_type": "code",
   "execution_count": 26,
   "metadata": {},
   "outputs": [],
   "source": [
    "train_data, test_data = splitter(data)"
   ]
  },
  {
   "cell_type": "code",
   "execution_count": 27,
   "metadata": {},
   "outputs": [
    {
     "name": "stderr",
     "output_type": "stream",
     "text": [
      "C:\\Users\\hi\\AppData\\Local\\Temp\\ipykernel_23060\\1392288644.py:2: FutureWarning: \n",
      "\n",
      "Passing `palette` without assigning `hue` is deprecated and will be removed in v0.14.0. Assign the `x` variable to `hue` and set `legend=False` for the same effect.\n",
      "\n",
      "  sns.countplot(data=train_data, x='Emotion', palette='plasma')\n"
     ]
    },
    {
     "data": {
      "text/plain": [
       "<Axes: xlabel='Emotion', ylabel='count'>"
      ]
     },
     "execution_count": 27,
     "metadata": {},
     "output_type": "execute_result"
    },
    {
     "data": {
      "image/png": "[encoded data removed]",
      "text/plain": [
       "<Figure size 864x432 with 1 Axes>"
      ]
     },
     "metadata": {
      "needs_background": "light"
     },
     "output_type": "display_data"
    }
   ],
   "source": [
    "plt.figure(figsize=(12, 6))\n",
    "sns.countplot(data=train_data, x='Emotion', palette='plasma')"
   ]
  },
  {
   "cell_type": "code",
   "execution_count": 28,
   "metadata": {},
   "outputs": [
    {
     "name": "stdout",
     "output_type": "stream",
     "text": [
      "(3939, 2)\n",
      "(985, 2)\n"
     ]
    }
   ],
   "source": [
    "print(train_data.shape)\n",
    "print(test_data.shape)"
   ]
  },
  {
   "cell_type": "code",
   "execution_count": 29,
   "metadata": {},
   "outputs": [],
   "source": [
    "def target_split(train_data, test_data):\n",
    "    train_x = pd.DataFrame(train_data['Sentence'], columns=['Sentence'], index=train_data.index)\n",
    "    train_y = train_data['Emotion']\n",
    "\n",
    "    test_x = pd.DataFrame(test_data['Sentence'], columns=['Sentence'], index=test_data.index)\n",
    "    test_y = test_data['Emotion']\n",
    "\n",
    "    return train_x, train_y, test_x, test_y"
   ]
  },
  {
   "cell_type": "code",
   "execution_count": 30,
   "metadata": {},
   "outputs": [],
   "source": [
    "train_x, train_y, test_x, test_y = target_split(train_data, test_data)"
   ]
  },
  {
   "cell_type": "markdown",
   "metadata": {},
   "source": [
    "# Feature engineering"
   ]
  },
  {
   "cell_type": "code",
   "execution_count": 31,
   "metadata": {},
   "outputs": [],
   "source": [
    "from sklearn.feature_extraction.text import TfidfVectorizer\n",
    "\n",
    "def text_vectorizer(train_x, test_x):\n",
    "\n",
    "    vectorizer = TfidfVectorizer()\n",
    "    vector = vectorizer.fit_transform(train_x['Sentence'])\n",
    "    vectorized_x_train = pd.DataFrame(vector.toarray(), columns=vectorizer.get_feature_names_out(), index=train_x.index)\n",
    "\n",
    "    vector2 = vectorizer.transform(test_x['Sentence'])\n",
    "    vectorized_x_test = pd.DataFrame(vector2.toarray(), columns=vectorizer.get_feature_names_out(), index=test_x.index)\n",
    "\n",
    "    return vectorized_x_train, vectorized_x_test"
   ]
  },
  {
   "cell_type": "code",
   "execution_count": 32,
   "metadata": {},
   "outputs": [],
   "source": [
    "vectorized_x_train, vectorized_x_test = text_vectorizer(train_x, test_x)"
   ]
  },
  {
   "cell_type": "code",
   "execution_count": 33,
   "metadata": {},
   "outputs": [
    {
     "data": {
      "text/html": [
       "<div>\n",
       "<style scoped>\n",
       "    .dataframe tbody tr th:only-of-type {\n",
       "        vertical-align: middle;\n",
       "    }\n",
       "\n",
       "    .dataframe tbody tr th {\n",
       "        vertical-align: top;\n",
       "    }\n",
       "\n",
       "    .dataframe thead th {\n",
       "        text-align: right;\n",
       "    }\n",
       "</style>\n",
       "<table border=\"1\" class=\"dataframe\">\n",
       "  <thead>\n",
       "    <tr style=\"text-align: right;\">\n",
       "      <th></th>\n",
       "      <th>__</th>\n",
       "      <th>_اسنپ</th>\n",
       "      <th>_ای</th>\n",
       "      <th>_جام</th>\n",
       "      <th>_دی</th>\n",
       "      <th>_و_</th>\n",
       "      <th>_پول</th>\n",
       "      <th>_ژانویه</th>\n",
       "      <th>and</th>\n",
       "      <th>baekhyun_hla</th>\n",
       "      <th>...</th>\n",
       "      <th>۸۰</th>\n",
       "      <th>۸۵</th>\n",
       "      <th>۸۸</th>\n",
       "      <th>۹۰</th>\n",
       "      <th>۹۵</th>\n",
       "      <th>۹۶</th>\n",
       "      <th>۹۷</th>\n",
       "      <th>۹۸</th>\n",
       "      <th>۹۹</th>\n",
       "      <th>ᴇxᴏᴇɴᴛʏ</th>\n",
       "    </tr>\n",
       "  </thead>\n",
       "  <tbody>\n",
       "    <tr>\n",
       "      <th>1808</th>\n",
       "      <td>0.0</td>\n",
       "      <td>0.0</td>\n",
       "      <td>0.0</td>\n",
       "      <td>0.0</td>\n",
       "      <td>0.0</td>\n",
       "      <td>0.0</td>\n",
       "      <td>0.0</td>\n",
       "      <td>0.0</td>\n",
       "      <td>0.0</td>\n",
       "      <td>0.0</td>\n",
       "      <td>...</td>\n",
       "      <td>0.0</td>\n",
       "      <td>0.0</td>\n",
       "      <td>0.0</td>\n",
       "      <td>0.0</td>\n",
       "      <td>0.0</td>\n",
       "      <td>0.0</td>\n",
       "      <td>0.0</td>\n",
       "      <td>0.0</td>\n",
       "      <td>0.0</td>\n",
       "      <td>0.0</td>\n",
       "    </tr>\n",
       "    <tr>\n",
       "      <th>184</th>\n",
       "      <td>0.0</td>\n",
       "      <td>0.0</td>\n",
       "      <td>0.0</td>\n",
       "      <td>0.0</td>\n",
       "      <td>0.0</td>\n",
       "      <td>0.0</td>\n",
       "      <td>0.0</td>\n",
       "      <td>0.0</td>\n",
       "      <td>0.0</td>\n",
       "      <td>0.0</td>\n",
       "      <td>...</td>\n",
       "      <td>0.0</td>\n",
       "      <td>0.0</td>\n",
       "      <td>0.0</td>\n",
       "      <td>0.0</td>\n",
       "      <td>0.0</td>\n",
       "      <td>0.0</td>\n",
       "      <td>0.0</td>\n",
       "      <td>0.0</td>\n",
       "      <td>0.0</td>\n",
       "      <td>0.0</td>\n",
       "    </tr>\n",
       "    <tr>\n",
       "      <th>205</th>\n",
       "      <td>0.0</td>\n",
       "      <td>0.0</td>\n",
       "      <td>0.0</td>\n",
       "      <td>0.0</td>\n",
       "      <td>0.0</td>\n",
       "      <td>0.0</td>\n",
       "      <td>0.0</td>\n",
       "      <td>0.0</td>\n",
       "      <td>0.0</td>\n",
       "      <td>0.0</td>\n",
       "      <td>...</td>\n",
       "      <td>0.0</td>\n",
       "      <td>0.0</td>\n",
       "      <td>0.0</td>\n",
       "      <td>0.0</td>\n",
       "      <td>0.0</td>\n",
       "      <td>0.0</td>\n",
       "      <td>0.0</td>\n",
       "      <td>0.0</td>\n",
       "      <td>0.0</td>\n",
       "      <td>0.0</td>\n",
       "    </tr>\n",
       "    <tr>\n",
       "      <th>4700</th>\n",
       "      <td>0.0</td>\n",
       "      <td>0.0</td>\n",
       "      <td>0.0</td>\n",
       "      <td>0.0</td>\n",
       "      <td>0.0</td>\n",
       "      <td>0.0</td>\n",
       "      <td>0.0</td>\n",
       "      <td>0.0</td>\n",
       "      <td>0.0</td>\n",
       "      <td>0.0</td>\n",
       "      <td>...</td>\n",
       "      <td>0.0</td>\n",
       "      <td>0.0</td>\n",
       "      <td>0.0</td>\n",
       "      <td>0.0</td>\n",
       "      <td>0.0</td>\n",
       "      <td>0.0</td>\n",
       "      <td>0.0</td>\n",
       "      <td>0.0</td>\n",
       "      <td>0.0</td>\n",
       "      <td>0.0</td>\n",
       "    </tr>\n",
       "    <tr>\n",
       "      <th>410</th>\n",
       "      <td>0.0</td>\n",
       "      <td>0.0</td>\n",
       "      <td>0.0</td>\n",
       "      <td>0.0</td>\n",
       "      <td>0.0</td>\n",
       "      <td>0.0</td>\n",
       "      <td>0.0</td>\n",
       "      <td>0.0</td>\n",
       "      <td>0.0</td>\n",
       "      <td>0.0</td>\n",
       "      <td>...</td>\n",
       "      <td>0.0</td>\n",
       "      <td>0.0</td>\n",
       "      <td>0.0</td>\n",
       "      <td>0.0</td>\n",
       "      <td>0.0</td>\n",
       "      <td>0.0</td>\n",
       "      <td>0.0</td>\n",
       "      <td>0.0</td>\n",
       "      <td>0.0</td>\n",
       "      <td>0.0</td>\n",
       "    </tr>\n",
       "  </tbody>\n",
       "</table>\n",
       "<p>5 rows × 7655 columns</p>\n",
       "</div>"
      ],
      "text/plain": [
       "       __  _اسنپ  _ای  _جام  _دی  _و_  _پول  _ژانویه  and  baekhyun_hla  ...  \\\n",
       "1808  0.0    0.0  0.0   0.0  0.0  0.0   0.0      0.0  0.0           0.0  ...   \n",
       "184   0.0    0.0  0.0   0.0  0.0  0.0   0.0      0.0  0.0           0.0  ...   \n",
       "205   0.0    0.0  0.0   0.0  0.0  0.0   0.0      0.0  0.0           0.0  ...   \n",
       "4700  0.0    0.0  0.0   0.0  0.0  0.0   0.0      0.0  0.0           0.0  ...   \n",
       "410   0.0    0.0  0.0   0.0  0.0  0.0   0.0      0.0  0.0           0.0  ...   \n",
       "\n",
       "       ۸۰   ۸۵   ۸۸   ۹۰   ۹۵   ۹۶   ۹۷   ۹۸   ۹۹  ᴇxᴏᴇɴᴛʏ  \n",
       "1808  0.0  0.0  0.0  0.0  0.0  0.0  0.0  0.0  0.0      0.0  \n",
       "184   0.0  0.0  0.0  0.0  0.0  0.0  0.0  0.0  0.0      0.0  \n",
       "205   0.0  0.0  0.0  0.0  0.0  0.0  0.0  0.0  0.0      0.0  \n",
       "4700  0.0  0.0  0.0  0.0  0.0  0.0  0.0  0.0  0.0      0.0  \n",
       "410   0.0  0.0  0.0  0.0  0.0  0.0  0.0  0.0  0.0      0.0  \n",
       "\n",
       "[5 rows x 7655 columns]"
      ]
     },
     "execution_count": 33,
     "metadata": {},
     "output_type": "execute_result"
    }
   ],
   "source": [
    "vectorized_x_train.head()"
   ]
  },
  {
   "cell_type": "code",
   "execution_count": 34,
   "metadata": {},
   "outputs": [
    {
     "data": {
      "text/plain": [
       "(3939, 7655)"
      ]
     },
     "execution_count": 34,
     "metadata": {},
     "output_type": "execute_result"
    }
   ],
   "source": [
    "vectorized_x_train.shape"
   ]
  },
  {
   "cell_type": "code",
   "execution_count": 35,
   "metadata": {},
   "outputs": [
    {
     "data": {
      "text/plain": [
       "(985, 7655)"
      ]
     },
     "execution_count": 35,
     "metadata": {},
     "output_type": "execute_result"
    }
   ],
   "source": [
    "vectorized_x_test.shape"
   ]
  },
  {
   "cell_type": "code",
   "execution_count": 36,
   "metadata": {},
   "outputs": [],
   "source": [
    "from imblearn.over_sampling import SMOTE\n",
    "\n",
    "def sampler(train_X, train_y):\n",
    "    train_x, train_y = SMOTE().fit_resample(train_X, train_y)\n",
    "\n",
    "    return train_x, train_y"
   ]
  },
  {
   "cell_type": "code",
   "execution_count": 37,
   "metadata": {},
   "outputs": [],
   "source": [
    "vectorized_x_train, train_y = sampler(vectorized_x_train, train_y)"
   ]
  },
  {
   "cell_type": "code",
   "execution_count": 39,
   "metadata": {},
   "outputs": [
    {
     "name": "stderr",
     "output_type": "stream",
     "text": [
      "C:\\Users\\hi\\AppData\\Local\\Temp\\ipykernel_23060\\2820838922.py:2: FutureWarning: \n",
      "\n",
      "Passing `palette` without assigning `hue` is deprecated and will be removed in v0.14.0. Assign the `x` variable to `hue` and set `legend=False` for the same effect.\n",
      "\n",
      "  sns.countplot(x=train_y, palette='plasma')\n"
     ]
    },
    {
     "data": {
      "image/png": "[encoded data removed]",
      "text/plain": [
       "<Figure size 864x432 with 1 Axes>"
      ]
     },
     "metadata": {
      "needs_background": "light"
     },
     "output_type": "display_data"
    }
   ],
   "source": [
    "plt.figure(figsize=(12, 6))\n",
    "sns.countplot(x=train_y, palette='plasma')\n",
    "plt.xticks(np.arange(0, 5), rotation=45)\n",
    "plt.show()"
   ]
  },
  {
   "cell_type": "markdown",
   "metadata": {},
   "source": [
    "#### As it is clear, it is impossible to train a machine learning model on data that consists solely of text and words. This is because models require numerical inputs that they can interpret and process, rather than raw text data. Therefore, we need to convert the textual data into numerical representations that the model can understand.\n",
    "#### One common technique for this is called TF-IDF (Term Frequency-Inverse Document Frequency). TF-IDF is a method that assigns a numerical value to each word in a text corpus, based on the word's frequency within a document and across the entire corpus.\n",
    "\n",
    "$$ \\text{TF} = \\frac{\\text{Number\\: of\\, times\\: a\\: word\\: \"X\"\\: appeares\\: in\\: a\\: Document}}{\\text{Number\\: of\\: words\\: present\\: in\\: a\\: Document}} $$\n",
    "$$ \\text{IDF} = \\log(\\frac{\\text{Number\\: of\\, Document\\: presents\\: in\\: a\\: Corpus}}{\\text{Number\\: of\\: Documents\\: Where\\: word\\: \"X\"\\: has\\: appeared}}) $$\n",
    "$$ \\text{TF-IDF} = \\text{TF} \\times \\text{IDF} $$\n",
    "\n",
    "#### The data seemed to be imbalanced, meaning one class (target variable) had significantly fewer samples compared to the other class(es). To address this imbalance, the SMOTE (Synthetic Minority Over-sampling Technique) method from the scikit-learn (sklearn) library was used as the last step in the feature engineering process. SMOTE is a popular oversampling technique used to handle imbalanced data. It generates synthetic samples of the minority class, effectively increasing the number of samples in the underrepresented class. This helps to balance the dataset, reducing the bias towards the majority class and improving the performance of the machine learning model."
   ]
  },
  {
   "cell_type": "markdown",
   "metadata": {},
   "source": [
    "# Model Training"
   ]
  },
  {
   "cell_type": "code",
   "execution_count": 271,
   "metadata": {},
   "outputs": [],
   "source": [
    "from sklearn.metrics import f1_score, accuracy_score, roc_curve, ConfusionMatrixDisplay, confusion_matrix, auc \n",
    "from sklearn.model_selection import GridSearchCV, StratifiedKFold\n",
    "\n",
    "def model_train_test_evaluating(x_train, y_train, x_test, y_test, model, param_grid):\n",
    "    grid_search = GridSearchCV(model, param_grid=param_grid, cv=5, scoring='f1_macro')\n",
    "    grid_search.fit(x_train, y_train)\n",
    "    classifier = grid_search.best_estimator_\n",
    "\n",
    "    y_train_pred = classifier.predict(x_train)\n",
    "    y_test_pred = classifier.predict(x_test)\n",
    "\n",
    "    train_accuracy = accuracy_score(y_train, y_train_pred)\n",
    "    f1_train = f1_score(y_train, y_train_pred, average='macro')\n",
    "    if not y_test.isnull().all():\n",
    "        test_accuracy = accuracy_score(y_test, y_test_pred)\n",
    "        f1_test = f1_score(y_test, y_test_pred, average='macro') \n",
    "\n",
    "    print('Cross validation scores:')\n",
    "    print(f\"Best parameters: {grid_search.best_params_}\")\n",
    "    print(f\"Best score: {grid_search.best_score_:.4f}\")\n",
    "    \n",
    "    print('train_data report:')\n",
    "    print('Acuuracy: ', end='')\n",
    "    print(train_accuracy)\n",
    "    print('F1_score: ', end='')\n",
    "    print(f1_train)\n",
    "\n",
    "    cm = confusion_matrix(y_train, y_train_pred)\n",
    "    # Plot the confusion matrix\n",
    "    plt.figure(figsize=(8, 6))\n",
    "    disp = ConfusionMatrixDisplay(confusion_matrix=cm)\n",
    "    disp.plot()\n",
    "    plt.title('Confusion Matrix')\n",
    "    plt.xlabel('Predicted Labels')\n",
    "    plt.ylabel('True Labels')\n",
    "    plt.show()\n",
    "\n",
    "    if not y_test.isnull().all():\n",
    "        print('test_data report:')\n",
    "        print('Acuuracy: ', end='')\n",
    "        print(test_accuracy)\n",
    "        print('F1_score: ', end='')\n",
    "        print(f1_test)\n",
    "\n",
    "        cm = confusion_matrix(y_test, y_test_pred)\n",
    "        # Plot the confusion matrix\n",
    "        plt.figure(figsize=(8, 6))\n",
    "        disp = ConfusionMatrixDisplay(confusion_matrix=cm)\n",
    "        disp.plot()\n",
    "        plt.title('Confusion Matrix')\n",
    "        plt.xlabel('Predicted Labels')\n",
    "        plt.ylabel('True Labels')\n",
    "        plt.show()\n",
    "\n",
    "    return y_test_pred"
   ]
  },
  {
   "cell_type": "code",
   "execution_count": 272,
   "metadata": {},
   "outputs": [],
   "source": [
    "from sklearn.preprocessing import LabelEncoder\n",
    "\n",
    "def pipline(train, test, model, param_grid):\n",
    "    # Preproccessing\n",
    "\n",
    "    # column name setting \n",
    "    train = column_name_set(train)\n",
    "    test = column_name_set(test)\n",
    "\n",
    "    # make lower_case\n",
    "    train = lower_case(train)\n",
    "    test = lower_case(test)\n",
    "\n",
    "    # changing ی in the text\n",
    "    train['Sentence'] = train['Sentence'].apply(normalize_yeh)\n",
    "    test['Sentence'] = test['Sentence'].apply(normalize_yeh)\n",
    "    # convert number to English\n",
    "    train['Sentence'] = train['Sentence'].apply(number_convertor)\n",
    "    test['Sentence'] = test['Sentence'].apply(number_convertor)\n",
    "\n",
    "    # normalize and tokenize the text\n",
    "    train = text_normalizer(train)\n",
    "    train = word_tokenizer(train)\n",
    "    test = text_normalizer(test)\n",
    "    test = word_tokenizer(test)\n",
    "\n",
    "    # lemmatizing the text\n",
    "    train = text_lemmatizer(train)\n",
    "    test = text_lemmatizer(test)\n",
    "\n",
    "    # target splitting\n",
    "    train_x, train_y, test_x, test_y = target_split(train, test)\n",
    "\n",
    "    # text vectorizing \n",
    "    vectorized_x_train, vectorized_x_test = text_vectorizer(train_x, test_x) \n",
    "\n",
    "    #encoding target\n",
    "    label_encoder = LabelEncoder()\n",
    "    train_y_encoded = label_encoder.fit_transform(train_y)\n",
    "    if not test_y.isnull().all():\n",
    "        test_y_encoded = pd.Series(label_encoder.transform(test_y))\n",
    "    else:\n",
    "        test_y_encoded = pd.Series(test_y)\n",
    "\n",
    "    # Model training\n",
    "    y_pred = model_train_test_evaluating(vectorized_x_train, train_y_encoded, vectorized_x_test, test_y_encoded, model, param_grid)\n",
    "    y_pred = label_encoder.inverse_transform(y_pred)\n",
    "\n",
    "    return y_pred"
   ]
  },
  {
   "cell_type": "code",
   "execution_count": 273,
   "metadata": {},
   "outputs": [],
   "source": [
    "data = pd.read_excel('train_data.xlsx')"
   ]
  },
  {
   "cell_type": "code",
   "execution_count": 274,
   "metadata": {},
   "outputs": [
    {
     "name": "stdout",
     "output_type": "stream",
     "text": [
      "Cross validation scores:\n",
      "Best parameters: {'max_depth': 30, 'min_samples_leaf': 10}\n",
      "Best score: 0.4468\n",
      "train_data report:\n",
      "Acuuracy: 0.5755267834475756\n",
      "F1_score: 0.5505541072240024\n"
     ]
    },
    {
     "data": {
      "text/plain": [
       "<Figure size 576x432 with 0 Axes>"
      ]
     },
     "metadata": {},
     "output_type": "display_data"
    },
    {
     "data": {
      "image/png": "[encoded data removed]",
      "text/plain": [
       "<Figure size 432x288 with 2 Axes>"
      ]
     },
     "metadata": {
      "needs_background": "light"
     },
     "output_type": "display_data"
    },
    {
     "name": "stdout",
     "output_type": "stream",
     "text": [
      "test_data report:\n",
      "Acuuracy: 0.4781725888324873\n",
      "F1_score: 0.44996294155979316\n"
     ]
    },
    {
     "data": {
      "text/plain": [
       "<Figure size 576x432 with 0 Axes>"
      ]
     },
     "metadata": {},
     "output_type": "display_data"
    },
    {
     "data": {
      "image/png": "[encoded data removed]",
      "text/plain": [
       "<Figure size 432x288 with 2 Axes>"
      ]
     },
     "metadata": {
      "needs_background": "light"
     },
     "output_type": "display_data"
    }
   ],
   "source": [
    "from sklearn import tree\n",
    "\n",
    "# Data splitting\n",
    "data1 = data.copy()\n",
    "train_data, test_data = splitter(data1)\n",
    "\n",
    "param_grid=[\n",
    "    {'max_depth': [10, 20, 30], 'min_samples_leaf': [10, 20, 30]}\n",
    "]\n",
    "\n",
    "dt_classifier = tree.DecisionTreeClassifier(random_state=42, criterion='gini')\n",
    "y_pred = pipline(train_data, test_data, dt_classifier, param_grid)"
   ]
  },
  {
   "cell_type": "code",
   "execution_count": 275,
   "metadata": {},
   "outputs": [
    {
     "name": "stdout",
     "output_type": "stream",
     "text": [
      "Cross validation scores:\n",
      "Best parameters: {'n_estimators': 50}\n",
      "Best score: 0.5329\n",
      "train_data report:\n",
      "Acuuracy: 0.9987306422949987\n",
      "F1_score: 0.9986219416455209\n"
     ]
    },
    {
     "data": {
      "text/plain": [
       "<Figure size 576x432 with 0 Axes>"
      ]
     },
     "metadata": {},
     "output_type": "display_data"
    },
    {
     "data": {
      "image/png": "[encoded data removed]",
      "text/plain": [
       "<Figure size 432x288 with 2 Axes>"
      ]
     },
     "metadata": {
      "needs_background": "light"
     },
     "output_type": "display_data"
    },
    {
     "name": "stdout",
     "output_type": "stream",
     "text": [
      "test_data report:\n",
      "Acuuracy: 0.5736040609137056\n",
      "F1_score: 0.5283232853506392\n"
     ]
    },
    {
     "data": {
      "text/plain": [
       "<Figure size 576x432 with 0 Axes>"
      ]
     },
     "metadata": {},
     "output_type": "display_data"
    },
    {
     "data": {
      "image/png": "[encoded data removed]",
      "text/plain": [
       "<Figure size 432x288 with 2 Axes>"
      ]
     },
     "metadata": {
      "needs_background": "light"
     },
     "output_type": "display_data"
    }
   ],
   "source": [
    "from sklearn.ensemble import RandomForestClassifier\n",
    "\n",
    "# Data splitting\n",
    "data2 = data.copy()\n",
    "train_data, test_data = splitter(data2)\n",
    "\n",
    "param_grid=[\n",
    "    {'n_estimators': [30, 40, 50]}\n",
    "]\n",
    "\n",
    "rf_classifier = RandomForestClassifier(random_state=42, criterion='gini')\n",
    "y_pred = pipline(train_data, test_data, rf_classifier, param_grid)"
   ]
  },
  {
   "cell_type": "code",
   "execution_count": 276,
   "metadata": {},
   "outputs": [
    {
     "name": "stdout",
     "output_type": "stream",
     "text": [
      "Cross validation scores:\n",
      "Best parameters: {'learning_rate': 0.3}\n",
      "Best score: 0.5517\n",
      "train_data report:\n",
      "Acuuracy: 0.8928662096978929\n",
      "F1_score: 0.897360404610294\n"
     ]
    },
    {
     "data": {
      "text/plain": [
       "<Figure size 576x432 with 0 Axes>"
      ]
     },
     "metadata": {},
     "output_type": "display_data"
    },
    {
     "data": {
      "image/png": "[encoded data removed]",
      "text/plain": [
       "<Figure size 432x288 with 2 Axes>"
      ]
     },
     "metadata": {
      "needs_background": "light"
     },
     "output_type": "display_data"
    },
    {
     "name": "stdout",
     "output_type": "stream",
     "text": [
      "test_data report:\n",
      "Acuuracy: 0.6030456852791878\n",
      "F1_score: 0.5677547954072021\n"
     ]
    },
    {
     "data": {
      "text/plain": [
       "<Figure size 576x432 with 0 Axes>"
      ]
     },
     "metadata": {},
     "output_type": "display_data"
    },
    {
     "data": {
      "image/png": "[encoded data removed]",
      "text/plain": [
       "<Figure size 432x288 with 2 Axes>"
      ]
     },
     "metadata": {
      "needs_background": "light"
     },
     "output_type": "display_data"
    }
   ],
   "source": [
    "from xgboost import XGBClassifier\n",
    "\n",
    "# Data splitting\n",
    "data3 = data.copy()\n",
    "train_data, test_data = splitter(data3)\n",
    "\n",
    "param_grid=[\n",
    "    {'learning_rate': [0.1, 0.2, 0.3]}\n",
    "]\n",
    "\n",
    "xgboost = XGBClassifier(random_state=42)\n",
    "y_pred = pipline(train_data, test_data, xgboost, param_grid)"
   ]
  },
  {
   "cell_type": "code",
   "execution_count": 277,
   "metadata": {},
   "outputs": [
    {
     "name": "stderr",
     "output_type": "stream",
     "text": [
      "c:\\Users\\hi\\AppData\\Local\\Programs\\Python\\Python310\\lib\\site-packages\\sklearn\\linear_model\\_sag.py:350: ConvergenceWarning: The max_iter was reached which means the coef_ did not converge\n",
      "  warnings.warn(\n",
      "c:\\Users\\hi\\AppData\\Local\\Programs\\Python\\Python310\\lib\\site-packages\\sklearn\\linear_model\\_sag.py:350: ConvergenceWarning: The max_iter was reached which means the coef_ did not converge\n",
      "  warnings.warn(\n",
      "c:\\Users\\hi\\AppData\\Local\\Programs\\Python\\Python310\\lib\\site-packages\\sklearn\\linear_model\\_sag.py:350: ConvergenceWarning: The max_iter was reached which means the coef_ did not converge\n",
      "  warnings.warn(\n",
      "c:\\Users\\hi\\AppData\\Local\\Programs\\Python\\Python310\\lib\\site-packages\\sklearn\\linear_model\\_sag.py:350: ConvergenceWarning: The max_iter was reached which means the coef_ did not converge\n",
      "  warnings.warn(\n",
      "c:\\Users\\hi\\AppData\\Local\\Programs\\Python\\Python310\\lib\\site-packages\\sklearn\\linear_model\\_sag.py:350: ConvergenceWarning: The max_iter was reached which means the coef_ did not converge\n",
      "  warnings.warn(\n"
     ]
    },
    {
     "name": "stdout",
     "output_type": "stream",
     "text": [
      "Cross validation scores:\n",
      "Best parameters: {'penalty': 'l2'}\n",
      "Best score: 0.5724\n",
      "train_data report:\n",
      "Acuuracy: 0.8629093678598629\n",
      "F1_score: 0.8359541363048872\n"
     ]
    },
    {
     "data": {
      "text/plain": [
       "<Figure size 576x432 with 0 Axes>"
      ]
     },
     "metadata": {},
     "output_type": "display_data"
    },
    {
     "data": {
      "image/png": "[encoded data removed]",
      "text/plain": [
       "<Figure size 432x288 with 2 Axes>"
      ]
     },
     "metadata": {
      "needs_background": "light"
     },
     "output_type": "display_data"
    },
    {
     "name": "stdout",
     "output_type": "stream",
     "text": [
      "test_data report:\n",
      "Acuuracy: 0.617258883248731\n",
      "F1_score: 0.5719488221625294\n"
     ]
    },
    {
     "data": {
      "text/plain": [
       "<Figure size 576x432 with 0 Axes>"
      ]
     },
     "metadata": {},
     "output_type": "display_data"
    },
    {
     "data": {
      "image/png": "[encoded data removed]",
      "text/plain": [
       "<Figure size 432x288 with 2 Axes>"
      ]
     },
     "metadata": {
      "needs_background": "light"
     },
     "output_type": "display_data"
    }
   ],
   "source": [
    "from sklearn.linear_model import LogisticRegression\n",
    "\n",
    "# Data splitting\n",
    "data4 = data.copy()\n",
    "train_data, test_data = splitter(data4)\n",
    "\n",
    "param_grid=[\n",
    "    {'penalty': ['l1', 'l2']}\n",
    "]\n",
    "\n",
    "logistic_regression = LogisticRegression(random_state=42, solver='saga')\n",
    "y_pred = pipline(train_data, test_data, logistic_regression, param_grid)"
   ]
  },
  {
   "cell_type": "code",
   "execution_count": 278,
   "metadata": {},
   "outputs": [
    {
     "name": "stdout",
     "output_type": "stream",
     "text": [
      "Cross validation scores:\n",
      "Best parameters: {'kernel': 'linear'}\n",
      "Best score: 0.5440\n",
      "train_data report:\n",
      "Acuuracy: 0.783955318608784\n",
      "F1_score: 0.7572826489570051\n"
     ]
    },
    {
     "data": {
      "text/plain": [
       "<Figure size 576x432 with 0 Axes>"
      ]
     },
     "metadata": {},
     "output_type": "display_data"
    },
    {
     "data": {
      "image/png": "[encoded data removed]",
      "text/plain": [
       "<Figure size 432x288 with 2 Axes>"
      ]
     },
     "metadata": {
      "needs_background": "light"
     },
     "output_type": "display_data"
    },
    {
     "name": "stdout",
     "output_type": "stream",
     "text": [
      "test_data report:\n",
      "Acuuracy: 0.6294416243654822\n",
      "F1_score: 0.5893384141378879\n"
     ]
    },
    {
     "data": {
      "text/plain": [
       "<Figure size 576x432 with 0 Axes>"
      ]
     },
     "metadata": {},
     "output_type": "display_data"
    },
    {
     "data": {
      "image/png": "[encoded data removed]",
      "text/plain": [
       "<Figure size 432x288 with 2 Axes>"
      ]
     },
     "metadata": {
      "needs_background": "light"
     },
     "output_type": "display_data"
    }
   ],
   "source": [
    "from sklearn.svm import SVC\n",
    "\n",
    "# Data splitting\n",
    "data5 = data.copy()\n",
    "train_data, test_data = splitter(data5)\n",
    "\n",
    "param_grid=[\n",
    "    {'kernel': ['linear','poly', 'rbf']}\n",
    "]\n",
    "\n",
    "svm = SVC(C=0.5, kernel='linear')\n",
    "y_pred = pipline(train_data, test_data, svm, param_grid)"
   ]
  },
  {
   "cell_type": "markdown",
   "metadata": {},
   "source": [
    "#### Finally, in this section, we focused on training models with our dataset and evaluating their performance through 5-fold cross-validation. To achieve this, we constructed a function pipeline that streamlines the training and evaluation process by taking in training and testing datasets, a machine learning model, and a set of parameters. Within this pipeline, we ensured that all the previously mentioned data preprocessing steps were systematically applied. The core functionality of the pipeline involves performing a grid search for hyperparameter tuning. (Since using sampling techniques to balance the data actually worsened the results, we decided not to use the sampler function that we had previously implemented to make the data more balanced in our pipeline function.) Grid search systematically works through multiple combinations of parameter values, cross-validating each combination to determine which provides the best performance. We implemented this using 5-fold cross-validation, meaning that the training data is split into five subsets. The model is trained on four subsets and validated on the fifth. This process is repeated five times, each time with a different subset as the validation set. By doing so, the model’s performance is assessed comprehensively, which minimizes the risk of overfitting and ensures that the model generalizes well to unseen data.Through this meticulous approach, the pipeline identifies the best parameters by finding the combination that consistently provides the highest performance across all folds. Once these optimal parameters are determined, the best model parameters are selected, and the final model is trained on the entire training dataset. Its performance is then evaluated on the test dataset.\n",
    "\n",
    "#### The models which we trained include some tree-based models such as DecisionTreeClassifier, RandomForestClassifier, and XGBoost. We also trained Support Vector Machines (SVM) and Logistic Regression. It is obvious that the non-tree based models, such as SVM and Logistic Regression, have performed significantly better than the tree-based models. Among the tree-based models, the ensemble learning models, like RandomForest and XGBoost, have had better results compared to the single DecisionTreeClassifier model. Ensemble methods, such as Random Forest and XGBoost, combine multiple decision trees to create a more robust and accurate model, which helps to overcome the limitations of individual decision trees and improves the overall performance. The superior performance of the non-tree based models, such as SVM and Logistic Regression, suggests that the underlying data and problem at hand may be better suited for these types of algorithms compared to the tree-based models."
   ]
  },
  {
   "cell_type": "code",
   "execution_count": 279,
   "metadata": {},
   "outputs": [],
   "source": [
    "tr_data = pd.read_excel('train_data.xlsx')\n",
    "ts_data = pd.read_csv('3rdHW_test.csv')"
   ]
  },
  {
   "cell_type": "code",
   "execution_count": 281,
   "metadata": {},
   "outputs": [
    {
     "data": {
      "text/html": [
       "<div>\n",
       "<style scoped>\n",
       "    .dataframe tbody tr th:only-of-type {\n",
       "        vertical-align: middle;\n",
       "    }\n",
       "\n",
       "    .dataframe tbody tr th {\n",
       "        vertical-align: top;\n",
       "    }\n",
       "\n",
       "    .dataframe thead th {\n",
       "        text-align: right;\n",
       "    }\n",
       "</style>\n",
       "<table border=\"1\" class=\"dataframe\">\n",
       "  <thead>\n",
       "    <tr style=\"text-align: right;\">\n",
       "      <th></th>\n",
       "      <th>Sentence</th>\n",
       "    </tr>\n",
       "  </thead>\n",
       "  <tbody>\n",
       "    <tr>\n",
       "      <th>0</th>\n",
       "      <td>صعب روزی، بوالعجب کاری، پریشان عالمی</td>\n",
       "    </tr>\n",
       "    <tr>\n",
       "      <th>1</th>\n",
       "      <td>بسیار نرم و لطیف بوده و کیفیت بالایی داره.</td>\n",
       "    </tr>\n",
       "    <tr>\n",
       "      <th>2</th>\n",
       "      <td>اصلا رنگش با چیزی که تو عکس بود خیلی فرق داشت</td>\n",
       "    </tr>\n",
       "    <tr>\n",
       "      <th>3</th>\n",
       "      <td>خیلی زیبا و ب اندازه و با دقت طراحی شده</td>\n",
       "    </tr>\n",
       "    <tr>\n",
       "      <th>4</th>\n",
       "      <td>سبزی پلو با ماهی مال عید نوروزه، امشب سوشی میخ...</td>\n",
       "    </tr>\n",
       "  </tbody>\n",
       "</table>\n",
       "</div>"
      ],
      "text/plain": [
       "                                            Sentence\n",
       "0               صعب روزی، بوالعجب کاری، پریشان عالمی\n",
       "1         بسیار نرم و لطیف بوده و کیفیت بالایی داره.\n",
       "2      اصلا رنگش با چیزی که تو عکس بود خیلی فرق داشت\n",
       "3            خیلی زیبا و ب اندازه و با دقت طراحی شده\n",
       "4  سبزی پلو با ماهی مال عید نوروزه، امشب سوشی میخ..."
      ]
     },
     "execution_count": 281,
     "metadata": {},
     "output_type": "execute_result"
    }
   ],
   "source": [
    "ts_data.head()"
   ]
  },
  {
   "cell_type": "code",
   "execution_count": 282,
   "metadata": {},
   "outputs": [
    {
     "name": "stdout",
     "output_type": "stream",
     "text": [
      "<class 'pandas.core.frame.DataFrame'>\n",
      "RangeIndex: 548 entries, 0 to 547\n",
      "Data columns (total 1 columns):\n",
      " #   Column    Non-Null Count  Dtype \n",
      "---  ------    --------------  ----- \n",
      " 0   Sentence  548 non-null    object\n",
      "dtypes: object(1)\n",
      "memory usage: 4.4+ KB\n"
     ]
    }
   ],
   "source": [
    "ts_data.info()"
   ]
  },
  {
   "cell_type": "code",
   "execution_count": 283,
   "metadata": {},
   "outputs": [
    {
     "name": "stdout",
     "output_type": "stream",
     "text": [
      "Cross validation scores:\n",
      "Best parameters: {'kernel': 'linear'}\n",
      "Best score: 0.5550\n",
      "train_data report:\n",
      "Acuuracy: 0.7889926888708367\n",
      "F1_score: 0.7596031507842171\n"
     ]
    },
    {
     "data": {
      "text/plain": [
       "<Figure size 576x432 with 0 Axes>"
      ]
     },
     "metadata": {},
     "output_type": "display_data"
    },
    {
     "data": {
      "image/png": "[encoded data removed]",
      "text/plain": [
       "<Figure size 432x288 with 2 Axes>"
      ]
     },
     "metadata": {
      "needs_background": "light"
     },
     "output_type": "display_data"
    }
   ],
   "source": [
    "param_grid=[\n",
    "    {'kernel': ['linear','poly', 'rbf']}\n",
    "]\n",
    "\n",
    "svm = SVC(C=0.5)\n",
    "y_pred = pipline(tr_data, ts_data.copy(), svm, param_grid)"
   ]
  },
  {
   "cell_type": "code",
   "execution_count": 284,
   "metadata": {},
   "outputs": [],
   "source": [
    "ts_data['Emotion'] = y_pred\n",
    "final_data = ts_data.copy()"
   ]
  },
  {
   "cell_type": "code",
   "execution_count": 285,
   "metadata": {},
   "outputs": [
    {
     "data": {
      "text/html": [
       "<div>\n",
       "<style scoped>\n",
       "    .dataframe tbody tr th:only-of-type {\n",
       "        vertical-align: middle;\n",
       "    }\n",
       "\n",
       "    .dataframe tbody tr th {\n",
       "        vertical-align: top;\n",
       "    }\n",
       "\n",
       "    .dataframe thead th {\n",
       "        text-align: right;\n",
       "    }\n",
       "</style>\n",
       "<table border=\"1\" class=\"dataframe\">\n",
       "  <thead>\n",
       "    <tr style=\"text-align: right;\">\n",
       "      <th></th>\n",
       "      <th>Sentence</th>\n",
       "      <th>Emotion</th>\n",
       "    </tr>\n",
       "  </thead>\n",
       "  <tbody>\n",
       "    <tr>\n",
       "      <th>0</th>\n",
       "      <td>صعب روزی، بوالعجب کاری، پریشان عالمی</td>\n",
       "      <td>OTHER</td>\n",
       "    </tr>\n",
       "    <tr>\n",
       "      <th>1</th>\n",
       "      <td>بسیار نرم و لطیف بوده و کیفیت بالایی داره.</td>\n",
       "      <td>HAPPY</td>\n",
       "    </tr>\n",
       "    <tr>\n",
       "      <th>2</th>\n",
       "      <td>اصلا رنگش با چیزی که تو عکس بود خیلی فرق داشت</td>\n",
       "      <td>ANGRY</td>\n",
       "    </tr>\n",
       "    <tr>\n",
       "      <th>3</th>\n",
       "      <td>خیلی زیبا و ب اندازه و با دقت طراحی شده</td>\n",
       "      <td>HAPPY</td>\n",
       "    </tr>\n",
       "    <tr>\n",
       "      <th>4</th>\n",
       "      <td>سبزی پلو با ماهی مال عید نوروزه، امشب سوشی میخ...</td>\n",
       "      <td>OTHER</td>\n",
       "    </tr>\n",
       "    <tr>\n",
       "      <th>...</th>\n",
       "      <td>...</td>\n",
       "      <td>...</td>\n",
       "    </tr>\n",
       "    <tr>\n",
       "      <th>543</th>\n",
       "      <td>سرخط خبرهای ۶ عصر، پنجشنبه ۲۹ جدی ۱۴۰۱</td>\n",
       "      <td>OTHER</td>\n",
       "    </tr>\n",
       "    <tr>\n",
       "      <th>544</th>\n",
       "      <td>بوی عالی  ماندگاری خوب خیلی خوشم امدش مرسی دیجی</td>\n",
       "      <td>HAPPY</td>\n",
       "    </tr>\n",
       "    <tr>\n",
       "      <th>545</th>\n",
       "      <td>گاز که نداریم اینترنت هم روش? #وطن</td>\n",
       "      <td>ANGRY</td>\n",
       "    </tr>\n",
       "    <tr>\n",
       "      <th>546</th>\n",
       "      <td>من چندتاشو برا مغازه گرفتم باطریاشون کلا خرابن!</td>\n",
       "      <td>HAPPY</td>\n",
       "    </tr>\n",
       "    <tr>\n",
       "      <th>547</th>\n",
       "      <td>خیلی بی کیفیت \\nحتی بچه ها هم باهاش بازی نمیکنن</td>\n",
       "      <td>ANGRY</td>\n",
       "    </tr>\n",
       "  </tbody>\n",
       "</table>\n",
       "<p>548 rows × 2 columns</p>\n",
       "</div>"
      ],
      "text/plain": [
       "                                              Sentence Emotion\n",
       "0                 صعب روزی، بوالعجب کاری، پریشان عالمی   OTHER\n",
       "1           بسیار نرم و لطیف بوده و کیفیت بالایی داره.   HAPPY\n",
       "2        اصلا رنگش با چیزی که تو عکس بود خیلی فرق داشت   ANGRY\n",
       "3              خیلی زیبا و ب اندازه و با دقت طراحی شده   HAPPY\n",
       "4    سبزی پلو با ماهی مال عید نوروزه، امشب سوشی میخ...   OTHER\n",
       "..                                                 ...     ...\n",
       "543            سرخط خبرهای ۶ عصر، پنجشنبه ۲۹ جدی ۱۴۰۱    OTHER\n",
       "544    بوی عالی  ماندگاری خوب خیلی خوشم امدش مرسی دیجی   HAPPY\n",
       "545                 گاز که نداریم اینترنت هم روش? #وطن   ANGRY\n",
       "546    من چندتاشو برا مغازه گرفتم باطریاشون کلا خرابن!   HAPPY\n",
       "547    خیلی بی کیفیت \\nحتی بچه ها هم باهاش بازی نمیکنن   ANGRY\n",
       "\n",
       "[548 rows x 2 columns]"
      ]
     },
     "execution_count": 285,
     "metadata": {},
     "output_type": "execute_result"
    }
   ],
   "source": [
    "final_data"
   ]
  },
  {
   "cell_type": "code",
   "execution_count": 286,
   "metadata": {},
   "outputs": [],
   "source": [
    "final_data.columns = ['X', 'Y']"
   ]
  },
  {
   "cell_type": "code",
   "execution_count": 287,
   "metadata": {},
   "outputs": [],
   "source": [
    "final_data.to_csv('final_data.csv', index=False)"
   ]
  },
  {
   "cell_type": "code",
   "execution_count": null,
   "metadata": {},
   "outputs": [],
   "source": []
  }
 ],
 "metadata": {
  "kernelspec": {
   "display_name": "Python 3",
   "language": "python",
   "name": "python3"
  },
  "language_info": {
   "codemirror_mode": {
    "name": "ipython",
    "version": 3
   },
   "file_extension": ".py",
   "mimetype": "text/x-python",
   "name": "python",
   "nbconvert_exporter": "python",
   "pygments_lexer": "ipython3",
   "version": "3.10.4"
  }
 },
 "nbformat": 4,
 "nbformat_minor": 2
}
