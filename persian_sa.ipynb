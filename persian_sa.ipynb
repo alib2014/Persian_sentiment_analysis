{
 "cells": [
  {
   "cell_type": "code",
   "execution_count": 204,
   "metadata": {
    "jupyter": {
     "is_executing": true
    }
   },
   "outputs": [],
   "source": [
    "import pandas as pd\n",
    "import numpy as np \n",
    "import matplotlib.pyplot as plt\n",
    "import seaborn as sns"
   ]
  },
  {
   "cell_type": "code",
   "execution_count": 205,
   "metadata": {},
   "outputs": [
    {
     "data": {
      "text/html": [
       "<div>\n",
       "<style scoped>\n",
       "    .dataframe tbody tr th:only-of-type {\n",
       "        vertical-align: middle;\n",
       "    }\n",
       "\n",
       "    .dataframe tbody tr th {\n",
       "        vertical-align: top;\n",
       "    }\n",
       "\n",
       "    .dataframe thead th {\n",
       "        text-align: right;\n",
       "    }\n",
       "</style>\n",
       "<table border=\"1\" class=\"dataframe\">\n",
       "  <thead>\n",
       "    <tr style=\"text-align: right;\">\n",
       "      <th></th>\n",
       "      <th>کی گفته مرد گریه نمیکنه!؟!؟ سیلم امشب سیل #اصفهان</th>\n",
       "      <th>SAD</th>\n",
       "    </tr>\n",
       "  </thead>\n",
       "  <tbody>\n",
       "    <tr>\n",
       "      <th>0</th>\n",
       "      <td>عکسی که چند روز پیش گذاشته بودم این فیلم الانش...</td>\n",
       "      <td>OTHER</td>\n",
       "    </tr>\n",
       "    <tr>\n",
       "      <th>1</th>\n",
       "      <td>تنهاییم شبیه تنهاییه ظهرای بچگیم شده وقتی که ه...</td>\n",
       "      <td>SAD</td>\n",
       "    </tr>\n",
       "    <tr>\n",
       "      <th>2</th>\n",
       "      <td>خوبه تمام قسمت‌های گوشی رو محافظت می‌کنه</td>\n",
       "      <td>HAPPY</td>\n",
       "    </tr>\n",
       "    <tr>\n",
       "      <th>3</th>\n",
       "      <td>این خاک مال مردمان است نه حاکمان #ایران #مهسا_...</td>\n",
       "      <td>ANGRY</td>\n",
       "    </tr>\n",
       "    <tr>\n",
       "      <th>4</th>\n",
       "      <td>اگه تو بغلت بودم حالم خیلی بهتر میشد</td>\n",
       "      <td>SAD</td>\n",
       "    </tr>\n",
       "  </tbody>\n",
       "</table>\n",
       "</div>"
      ],
      "text/plain": [
       "   کی گفته مرد گریه نمیکنه!؟!؟ سیلم امشب سیل #اصفهان    SAD\n",
       "0  عکسی که چند روز پیش گذاشته بودم این فیلم الانش...  OTHER\n",
       "1  تنهاییم شبیه تنهاییه ظهرای بچگیم شده وقتی که ه...    SAD\n",
       "2           خوبه تمام قسمت‌های گوشی رو محافظت می‌کنه  HAPPY\n",
       "3  این خاک مال مردمان است نه حاکمان #ایران #مهسا_...  ANGRY\n",
       "4               اگه تو بغلت بودم حالم خیلی بهتر میشد    SAD"
      ]
     },
     "execution_count": 205,
     "metadata": {},
     "output_type": "execute_result"
    }
   ],
   "source": [
    "data = pd.read_excel('train_data.xlsx')\n",
    "data.head()"
   ]
  },
  {
   "cell_type": "code",
   "execution_count": 206,
   "metadata": {},
   "outputs": [
    {
     "data": {
      "text/html": [
       "<div>\n",
       "<style scoped>\n",
       "    .dataframe tbody tr th:only-of-type {\n",
       "        vertical-align: middle;\n",
       "    }\n",
       "\n",
       "    .dataframe tbody tr th {\n",
       "        vertical-align: top;\n",
       "    }\n",
       "\n",
       "    .dataframe thead th {\n",
       "        text-align: right;\n",
       "    }\n",
       "</style>\n",
       "<table border=\"1\" class=\"dataframe\">\n",
       "  <thead>\n",
       "    <tr style=\"text-align: right;\">\n",
       "      <th></th>\n",
       "      <th>Sentence</th>\n",
       "      <th>Emotion</th>\n",
       "    </tr>\n",
       "  </thead>\n",
       "  <tbody>\n",
       "    <tr>\n",
       "      <th>0</th>\n",
       "      <td>عکسی که چند روز پیش گذاشته بودم این فیلم الانش...</td>\n",
       "      <td>OTHER</td>\n",
       "    </tr>\n",
       "    <tr>\n",
       "      <th>1</th>\n",
       "      <td>تنهاییم شبیه تنهاییه ظهرای بچگیم شده وقتی که ه...</td>\n",
       "      <td>SAD</td>\n",
       "    </tr>\n",
       "    <tr>\n",
       "      <th>2</th>\n",
       "      <td>خوبه تمام قسمت‌های گوشی رو محافظت می‌کنه</td>\n",
       "      <td>HAPPY</td>\n",
       "    </tr>\n",
       "    <tr>\n",
       "      <th>3</th>\n",
       "      <td>این خاک مال مردمان است نه حاکمان #ایران #مهسا_...</td>\n",
       "      <td>ANGRY</td>\n",
       "    </tr>\n",
       "    <tr>\n",
       "      <th>4</th>\n",
       "      <td>اگه تو بغلت بودم حالم خیلی بهتر میشد</td>\n",
       "      <td>SAD</td>\n",
       "    </tr>\n",
       "  </tbody>\n",
       "</table>\n",
       "</div>"
      ],
      "text/plain": [
       "                                            Sentence Emotion\n",
       "0  عکسی که چند روز پیش گذاشته بودم این فیلم الانش...   OTHER\n",
       "1  تنهاییم شبیه تنهاییه ظهرای بچگیم شده وقتی که ه...     SAD\n",
       "2           خوبه تمام قسمت‌های گوشی رو محافظت می‌کنه   HAPPY\n",
       "3  این خاک مال مردمان است نه حاکمان #ایران #مهسا_...   ANGRY\n",
       "4               اگه تو بغلت بودم حالم خیلی بهتر میشد     SAD"
      ]
     },
     "execution_count": 206,
     "metadata": {},
     "output_type": "execute_result"
    }
   ],
   "source": [
    "data.columns = ['Sentence', 'Emotion']\n",
    "data.head()"
   ]
  },
  {
   "cell_type": "code",
   "execution_count": 207,
   "metadata": {},
   "outputs": [
    {
     "data": {
      "text/html": [
       "<div>\n",
       "<style scoped>\n",
       "    .dataframe tbody tr th:only-of-type {\n",
       "        vertical-align: middle;\n",
       "    }\n",
       "\n",
       "    .dataframe tbody tr th {\n",
       "        vertical-align: top;\n",
       "    }\n",
       "\n",
       "    .dataframe thead th {\n",
       "        text-align: right;\n",
       "    }\n",
       "</style>\n",
       "<table border=\"1\" class=\"dataframe\">\n",
       "  <thead>\n",
       "    <tr style=\"text-align: right;\">\n",
       "      <th></th>\n",
       "      <th>Sentence</th>\n",
       "      <th>Emotion</th>\n",
       "    </tr>\n",
       "  </thead>\n",
       "  <tbody>\n",
       "    <tr>\n",
       "      <th>count</th>\n",
       "      <td>4923</td>\n",
       "      <td>4923</td>\n",
       "    </tr>\n",
       "    <tr>\n",
       "      <th>unique</th>\n",
       "      <td>4923</td>\n",
       "      <td>5</td>\n",
       "    </tr>\n",
       "    <tr>\n",
       "      <th>top</th>\n",
       "      <td>عکسی که چند روز پیش گذاشته بودم این فیلم الانش...</td>\n",
       "      <td>HAPPY</td>\n",
       "    </tr>\n",
       "    <tr>\n",
       "      <th>freq</th>\n",
       "      <td>1</td>\n",
       "      <td>1462</td>\n",
       "    </tr>\n",
       "  </tbody>\n",
       "</table>\n",
       "</div>"
      ],
      "text/plain": [
       "                                                 Sentence Emotion\n",
       "count                                                4923    4923\n",
       "unique                                               4923       5\n",
       "top     عکسی که چند روز پیش گذاشته بودم این فیلم الانش...   HAPPY\n",
       "freq                                                    1    1462"
      ]
     },
     "execution_count": 207,
     "metadata": {},
     "output_type": "execute_result"
    }
   ],
   "source": [
    "data.describe()"
   ]
  },
  {
   "cell_type": "code",
   "execution_count": 208,
   "metadata": {},
   "outputs": [
    {
     "name": "stdout",
     "output_type": "stream",
     "text": [
      "<class 'pandas.core.frame.DataFrame'>\n",
      "RangeIndex: 4923 entries, 0 to 4922\n",
      "Data columns (total 2 columns):\n",
      " #   Column    Non-Null Count  Dtype \n",
      "---  ------    --------------  ----- \n",
      " 0   Sentence  4923 non-null   object\n",
      " 1   Emotion   4923 non-null   object\n",
      "dtypes: object(2)\n",
      "memory usage: 77.0+ KB\n"
     ]
    }
   ],
   "source": [
    "data.info()"
   ]
  },
  {
   "cell_type": "code",
   "execution_count": 209,
   "metadata": {},
   "outputs": [
    {
     "data": {
      "text/plain": [
       "Sentence    0\n",
       "Emotion     0\n",
       "dtype: int64"
      ]
     },
     "execution_count": 209,
     "metadata": {},
     "output_type": "execute_result"
    }
   ],
   "source": [
    "data.isnull().sum()"
   ]
  },
  {
   "cell_type": "code",
   "execution_count": 210,
   "metadata": {},
   "outputs": [
    {
     "name": "stderr",
     "output_type": "stream",
     "text": [
      "C:\\Users\\hi\\AppData\\Local\\Temp\\ipykernel_5544\\1880826210.py:2: FutureWarning: \n",
      "\n",
      "Passing `palette` without assigning `hue` is deprecated and will be removed in v0.14.0. Assign the `x` variable to `hue` and set `legend=False` for the same effect.\n",
      "\n",
      "  sns.countplot(data=data, x='Emotion', palette='plasma')\n"
     ]
    },
    {
     "data": {
      "text/plain": [
       "<Axes: xlabel='Emotion', ylabel='count'>"
      ]
     },
     "execution_count": 210,
     "metadata": {},
     "output_type": "execute_result"
    },
    {
     "data": {
      "image/png": "[encoded data removed]",
      "text/plain": [
       "<Figure size 864x432 with 1 Axes>"
      ]
     },
     "metadata": {
      "needs_background": "light"
     },
     "output_type": "display_data"
    }
   ],
   "source": [
    "plt.figure(figsize=(12, 6))\n",
    "sns.countplot(data=data, x='Emotion', palette='plasma')"
   ]
  },
  {
   "cell_type": "code",
   "execution_count": 211,
   "metadata": {},
   "outputs": [
    {
     "data": {
      "text/plain": [
       "0"
      ]
     },
     "execution_count": 211,
     "metadata": {},
     "output_type": "execute_result"
    }
   ],
   "source": [
    "data.duplicated().sum()"
   ]
  },
  {
   "cell_type": "markdown",
   "metadata": {},
   "source": [
    "# Preproccessing"
   ]
  },
  {
   "cell_type": "code",
   "execution_count": 212,
   "metadata": {},
   "outputs": [],
   "source": [
    "import hazm \n",
    "import nltk"
   ]
  },
  {
   "cell_type": "code",
   "execution_count": 213,
   "metadata": {},
   "outputs": [
    {
     "name": "stdout",
     "output_type": "stream",
     "text": [
      "210\n",
      "{'#', 'س', 'د', '_', 'ذ', '1', '7', '⭕', 'ٔ', '-', '♂', 'T', 'n', 's', '۰', '٬', '⚽', 'd', 'ِ', 'ᴏ', '/', 'ج', 'e', '؛', 'o', 'H', 'پ', '%', '⭐', 'ك', '[', 'F', '☺', '،', '’', ',', '⚘', '…', 'G', '\\n', '۱', ')', 'y', 'ْ', 'ټ', 'L', '!', 'ـ', 'آ', '♀', 'أ', 'P', '۹', '5', '٠', 'چ', '‐', 'Z', '9', 'ف', 't', '٣', '•', 'ل', '²', 'ؤ', 'ژ', '✍', 'v', 'ە', '=', 'ى', '٦', 'x', '✌', '3', '&', '⁉', 'ᴛ', 'ۀ', '‘', 'ً', '۶', '⃟', 'ّ', 'ɴ', '0', 'K', 'q', 'ئ', '8', '2', ']', 'ʏ', 'ز', 'z', 'I', 'D', '۸', 'k', '(', 'خ', 'Y', 'ض', '4', 'W', '♥', '6', '\\u2067', '~', '|', 'و', '؟', '?', '❤', '✅', 'م', 'S', '☠', '۲', '\\u200c', 'ᴇ', 'گ', 'ص', ':', 'ة', 'U', 'J', 'Q', '☘', '☝', 'ي', '۳', 'ع', '}', 'l', 'h', 'j', 'N', '٢', 'E', 'ھ', 'َ', '✋', '\\u200d', 'ر', 'b', '۷', 'A', ';', 'غ', 'u', '٪', 'i', '✨', 'g', 'B', '❄', 'ا', 'ث', '۔', '^', '»', '۴', 'M', 'ن', 'ہ', 'C', 'ت', 'ے', 'ک', 'w', 'ه', '۵', '\\u2069', ' ', '*', 'V', '+', 'c', 'ح', 'ش', '⛓', 'R', '⊰', '“', 'ء', '”', '️', '☹', '☄', 'ب', 'ی', 'ق', 'ُ', 'a', 'f', '١', 'ظ', '.', '°', '\\u2066', 'ط', '٫', '«', 'm', 'r', 'p', 'O', '¹'}\n"
     ]
    }
   ],
   "source": [
    "uniqueChars = set(''.join(data['Sentence']))\n",
    "print(len(uniqueChars))\n",
    "print(uniqueChars)"
   ]
  },
  {
   "cell_type": "code",
   "execution_count": 214,
   "metadata": {},
   "outputs": [],
   "source": [
    "def normalize_yeh(text):\n",
    "    yeh_characters = ['ی', 'ي', 'ے', 'ئ', 'ى']\n",
    "    for char in yeh_characters:\n",
    "        text = text.replace(char, 'ی')\n",
    "    return text\n",
    "\n",
    "def number_convertor(text):\n",
    "    persian_digits = '۰۱۲۳۴۵۶۷۸۹٦'\n",
    "    english_digits = '01234567896'\n",
    "    translation_table = str.maketrans(persian_digits, english_digits)\n",
    "    return text.translate(translation_table)"
   ]
  },
  {
   "cell_type": "code",
   "execution_count": 215,
   "metadata": {},
   "outputs": [
    {
     "name": "stdout",
     "output_type": "stream",
     "text": [
      "199\n",
      "{'#', 'س', 'د', '_', 'ذ', '1', '7', '⭕', 'ٔ', '-', '♂', 'T', 's', 'n', '٬', '⚽', 'd', 'ِ', 'ᴏ', '/', 'ج', 'e', '؛', 'o', 'H', 'پ', '%', '⭐', 'ك', '[', 'F', '☺', '،', '’', ',', '⚘', '…', 'G', '\\n', ')', 'y', 'ْ', 'ټ', 'L', '!', 'ـ', 'آ', '♀', 'أ', 'P', '5', '٠', 'چ', '‐', 'Z', '9', 'ف', 't', '٣', '•', 'ل', '²', 'ؤ', 'ژ', '✍', 'v', 'ە', '=', 'ى', 'x', '✌', '3', '&', '⁉', 'ᴛ', 'ۀ', '‘', 'ً', '⃟', 'ّ', 'ɴ', '0', 'K', 'q', 'ئ', '8', '2', ']', 'ʏ', 'ز', 'z', 'I', 'D', 'k', '(', 'خ', 'Y', '4', 'ض', 'W', '♥', '6', '\\u2067', '~', '|', 'و', '؟', '?', '❤', '✅', 'م', 'S', '☠', '\\u200c', 'ᴇ', 'گ', 'ص', ':', 'ة', 'U', 'J', 'Q', '☘', '☝', 'ي', 'ع', '}', 'l', 'h', 'j', 'N', '٢', 'E', 'ھ', 'َ', '✋', '\\u200d', 'ر', 'b', ';', 'A', '٪', 'غ', 'u', 'i', '✨', 'g', 'B', '❄', 'ا', 'ث', '۔', '^', '»', 'M', 'ہ', 'ن', 'C', 'ت', 'ے', 'ک', 'w', 'ه', '\\u2069', ' ', '*', 'V', '+', 'c', 'ح', 'ش', '⛓', 'R', '⊰', '“', 'ء', '”', '️', '☹', '☄', 'ب', 'ی', 'ق', 'ُ', 'a', 'f', '١', 'ظ', '.', '°', '\\u2066', 'ط', '٫', '«', 'm', 'r', 'p', 'O', '¹'}\n",
      "195\n",
      "{'#', 'س', 'د', '_', 'ذ', '1', '7', '⭕', 'ٔ', '-', '♂', 'T', 's', 'n', '٬', '⚽', 'd', 'ِ', 'ᴏ', '/', 'ج', 'e', '؛', 'o', 'H', 'پ', '%', '⭐', 'ك', '[', 'F', '☺', '،', '’', ',', '⚘', '…', 'G', '\\n', ')', 'y', 'ْ', 'ټ', 'L', '!', 'ـ', 'آ', '♀', 'أ', 'P', '5', '٠', 'چ', '‐', 'Z', '9', 'ف', 't', '٣', '•', 'ل', '²', 'ؤ', 'ژ', '✍', 'v', 'ە', '=', 'x', '✌', '3', '&', '⁉', 'ᴛ', 'ۀ', '‘', 'ً', '⃟', 'ّ', 'ɴ', '0', 'K', 'q', '8', '2', ']', 'ʏ', 'ز', 'z', 'I', 'D', 'k', '(', 'خ', 'Y', '4', 'ض', 'W', '♥', '6', '\\u2067', '~', '|', 'و', '؟', '?', '❤', '✅', 'م', 'S', '☠', '\\u200c', 'ᴇ', 'گ', 'ص', ':', 'ة', 'U', 'J', 'Q', '☘', '☝', 'ع', '}', 'l', 'h', 'j', 'N', '٢', 'E', 'ھ', 'َ', '✋', '\\u200d', 'ر', 'b', ';', 'A', '٪', 'غ', 'u', 'i', '✨', 'g', 'B', '❄', 'ا', 'ث', '۔', '^', '»', 'M', 'ہ', 'ن', 'C', 'ت', 'ک', 'w', 'ه', '\\u2069', ' ', '*', 'V', '+', 'c', 'ح', 'ش', '⛓', 'R', '⊰', '“', 'ء', '”', '️', '☹', '☄', 'ب', 'ی', 'ق', 'ُ', 'a', 'f', '١', 'ظ', '.', '°', '\\u2066', 'ط', '٫', '«', 'm', 'r', 'p', 'O', '¹'}\n"
     ]
    }
   ],
   "source": [
    "data['Sentence'] = data['Sentence'].apply(number_convertor)\n",
    "uniqueChars = set(''.join(data['Sentence']))\n",
    "print(len(uniqueChars))\n",
    "print(uniqueChars)\n",
    "\n",
    "data['Sentence'] = data['Sentence'].apply(normalize_yeh)\n",
    "uniqueChars = set(''.join(data['Sentence']))\n",
    "print(len(uniqueChars))\n",
    "print(uniqueChars)"
   ]
  },
  {
   "cell_type": "code",
   "execution_count": 216,
   "metadata": {},
   "outputs": [],
   "source": [
    "normalizer = hazm.Normalizer()\n",
    "\n",
    "data['Sentence'] = data['Sentence'].apply(normalizer.normalize)"
   ]
  },
  {
   "cell_type": "code",
   "execution_count": 217,
   "metadata": {},
   "outputs": [
    {
     "data": {
      "text/html": [
       "<div>\n",
       "<style scoped>\n",
       "    .dataframe tbody tr th:only-of-type {\n",
       "        vertical-align: middle;\n",
       "    }\n",
       "\n",
       "    .dataframe tbody tr th {\n",
       "        vertical-align: top;\n",
       "    }\n",
       "\n",
       "    .dataframe thead th {\n",
       "        text-align: right;\n",
       "    }\n",
       "</style>\n",
       "<table border=\"1\" class=\"dataframe\">\n",
       "  <thead>\n",
       "    <tr style=\"text-align: right;\">\n",
       "      <th></th>\n",
       "      <th>Sentence</th>\n",
       "      <th>Emotion</th>\n",
       "    </tr>\n",
       "  </thead>\n",
       "  <tbody>\n",
       "    <tr>\n",
       "      <th>0</th>\n",
       "      <td>[عکسی, که, چند, روز, پیش, گذاشته_بودم, این, فی...</td>\n",
       "      <td>OTHER</td>\n",
       "    </tr>\n",
       "    <tr>\n",
       "      <th>1</th>\n",
       "      <td>[تنهاییم, شبیه, تنهاییه, ظهرای, بچگیم, شده, وق...</td>\n",
       "      <td>SAD</td>\n",
       "    </tr>\n",
       "    <tr>\n",
       "      <th>2</th>\n",
       "      <td>[خوبه, تمام, قسمت‌های, گوشی, رو, محافظت, می‌کنه]</td>\n",
       "      <td>HAPPY</td>\n",
       "    </tr>\n",
       "    <tr>\n",
       "      <th>3</th>\n",
       "      <td>[این, خاک‌مال, مردمان, است, نه, حاکمان, #ایران...</td>\n",
       "      <td>ANGRY</td>\n",
       "    </tr>\n",
       "    <tr>\n",
       "      <th>4</th>\n",
       "      <td>[اگه, تو, بغلت, بودم, حالم, خیلی, بهتر, می‌شد]</td>\n",
       "      <td>SAD</td>\n",
       "    </tr>\n",
       "  </tbody>\n",
       "</table>\n",
       "</div>"
      ],
      "text/plain": [
       "                                            Sentence Emotion\n",
       "0  [عکسی, که, چند, روز, پیش, گذاشته_بودم, این, فی...   OTHER\n",
       "1  [تنهاییم, شبیه, تنهاییه, ظهرای, بچگیم, شده, وق...     SAD\n",
       "2   [خوبه, تمام, قسمت‌های, گوشی, رو, محافظت, می‌کنه]   HAPPY\n",
       "3  [این, خاک‌مال, مردمان, است, نه, حاکمان, #ایران...   ANGRY\n",
       "4     [اگه, تو, بغلت, بودم, حالم, خیلی, بهتر, می‌شد]     SAD"
      ]
     },
     "execution_count": 217,
     "metadata": {},
     "output_type": "execute_result"
    }
   ],
   "source": [
    "data['Sentence'] = data['Sentence'].apply(hazm.word_tokenize)\n",
    "data.head()"
   ]
  },
  {
   "cell_type": "code",
   "execution_count": 218,
   "metadata": {},
   "outputs": [
    {
     "data": {
      "text/html": [
       "<div>\n",
       "<style scoped>\n",
       "    .dataframe tbody tr th:only-of-type {\n",
       "        vertical-align: middle;\n",
       "    }\n",
       "\n",
       "    .dataframe tbody tr th {\n",
       "        vertical-align: top;\n",
       "    }\n",
       "\n",
       "    .dataframe thead th {\n",
       "        text-align: right;\n",
       "    }\n",
       "</style>\n",
       "<table border=\"1\" class=\"dataframe\">\n",
       "  <thead>\n",
       "    <tr style=\"text-align: right;\">\n",
       "      <th></th>\n",
       "      <th>Sentence</th>\n",
       "      <th>Emotion</th>\n",
       "    </tr>\n",
       "  </thead>\n",
       "  <tbody>\n",
       "    <tr>\n",
       "      <th>0</th>\n",
       "      <td>عکس که چند روز پیش گذاشت#گذار این فیلم الانشه ...</td>\n",
       "      <td>OTHER</td>\n",
       "    </tr>\n",
       "    <tr>\n",
       "      <th>1</th>\n",
       "      <td>تن شبیه تنهاییه ظهرای بچگیم شده وقتی‌که همه می...</td>\n",
       "      <td>SAD</td>\n",
       "    </tr>\n",
       "    <tr>\n",
       "      <th>2</th>\n",
       "      <td>خوبه تمام قسمت گوشید#گوش رو محافظت می‌کنه</td>\n",
       "      <td>HAPPY</td>\n",
       "    </tr>\n",
       "    <tr>\n",
       "      <th>3</th>\n",
       "      <td>این خاک‌مال مردمان است نه حاکمان #ایران #مهسا_...</td>\n",
       "      <td>ANGRY</td>\n",
       "    </tr>\n",
       "    <tr>\n",
       "      <th>4</th>\n",
       "      <td>اگه تو بغل بود#است حالم خیلی بهتر شد#شو</td>\n",
       "      <td>SAD</td>\n",
       "    </tr>\n",
       "  </tbody>\n",
       "</table>\n",
       "</div>"
      ],
      "text/plain": [
       "                                            Sentence Emotion\n",
       "0  عکس که چند روز پیش گذاشت#گذار این فیلم الانشه ...   OTHER\n",
       "1  تن شبیه تنهاییه ظهرای بچگیم شده وقتی‌که همه می...     SAD\n",
       "2          خوبه تمام قسمت گوشید#گوش رو محافظت می‌کنه   HAPPY\n",
       "3  این خاک‌مال مردمان است نه حاکمان #ایران #مهسا_...   ANGRY\n",
       "4            اگه تو بغل بود#است حالم خیلی بهتر شد#شو     SAD"
      ]
     },
     "execution_count": 218,
     "metadata": {},
     "output_type": "execute_result"
    }
   ],
   "source": [
    "lemmatizer = hazm.Lemmatizer()\n",
    "data['Sentence'] = data['Sentence'].apply(lambda x: ' '.join([lemmatizer.lemmatize(word) for word in x]))\n",
    "data.head()"
   ]
  },
  {
   "cell_type": "code",
   "execution_count": 219,
   "metadata": {},
   "outputs": [
    {
     "data": {
      "text/html": [
       "<div>\n",
       "<style scoped>\n",
       "    .dataframe tbody tr th:only-of-type {\n",
       "        vertical-align: middle;\n",
       "    }\n",
       "\n",
       "    .dataframe tbody tr th {\n",
       "        vertical-align: top;\n",
       "    }\n",
       "\n",
       "    .dataframe thead th {\n",
       "        text-align: right;\n",
       "    }\n",
       "</style>\n",
       "<table border=\"1\" class=\"dataframe\">\n",
       "  <thead>\n",
       "    <tr style=\"text-align: right;\">\n",
       "      <th></th>\n",
       "      <th>Sentence</th>\n",
       "      <th>Emotion</th>\n",
       "    </tr>\n",
       "  </thead>\n",
       "  <tbody>\n",
       "    <tr>\n",
       "      <th>0</th>\n",
       "      <td>عکس که چند روز پیش گذاشت#گذار این فیلم الانشه ...</td>\n",
       "      <td>OTHER</td>\n",
       "    </tr>\n",
       "    <tr>\n",
       "      <th>1</th>\n",
       "      <td>تن شبیه تنهاییه ظهرای بچگیم شده وقتی‌که همه می...</td>\n",
       "      <td>SAD</td>\n",
       "    </tr>\n",
       "    <tr>\n",
       "      <th>2</th>\n",
       "      <td>خوبه تمام قسمت گوشید#گوش رو محافظت می‌کنه</td>\n",
       "      <td>HAPPY</td>\n",
       "    </tr>\n",
       "    <tr>\n",
       "      <th>3</th>\n",
       "      <td>این خاک‌مال مردمان است نه حاکمان #ایران #مهسا_...</td>\n",
       "      <td>ANGRY</td>\n",
       "    </tr>\n",
       "    <tr>\n",
       "      <th>4</th>\n",
       "      <td>اگه تو بغل بود#است حالم خیلی بهتر شد#شو</td>\n",
       "      <td>SAD</td>\n",
       "    </tr>\n",
       "  </tbody>\n",
       "</table>\n",
       "</div>"
      ],
      "text/plain": [
       "                                            Sentence Emotion\n",
       "0  عکس که چند روز پیش گذاشت#گذار این فیلم الانشه ...   OTHER\n",
       "1  تن شبیه تنهاییه ظهرای بچگیم شده وقتی‌که همه می...     SAD\n",
       "2          خوبه تمام قسمت گوشید#گوش رو محافظت می‌کنه   HAPPY\n",
       "3  این خاک‌مال مردمان است نه حاکمان #ایران #مهسا_...   ANGRY\n",
       "4            اگه تو بغل بود#است حالم خیلی بهتر شد#شو     SAD"
      ]
     },
     "execution_count": 219,
     "metadata": {},
     "output_type": "execute_result"
    }
   ],
   "source": [
    "import re\n",
    "data['Sentence'] = data['Sentence'].apply(lambda x: re.sub(r'\\d+', '', x))\n",
    "data.head()"
   ]
  },
  {
   "cell_type": "code",
   "execution_count": 220,
   "metadata": {},
   "outputs": [
    {
     "name": "stdout",
     "output_type": "stream",
     "text": [
      "163\n",
      "{'#', 'س', 'د', '_', 'ذ', '⭕', '-', '♂', 'T', 's', 'n', '٬', '⚽', 'd', 'ᴏ', '/', 'ج', 'e', '؛', 'o', 'H', 'پ', '⭐', '[', 'F', '☺', '،', '’', ',', '⚘', '…', 'G', ')', 'y', 'L', '!', 'آ', '♀', 'أ', 'P', 'چ', '‐', 'Z', 'ف', 't', '•', 'ل', '²', 'ؤ', 'ژ', '✍', 'v', '=', 'x', '✌', '&', '⁉', 'ᴛ', '‘', '⃟', 'ɴ', 'K', 'q', ']', 'ʏ', 'ز', 'z', 'I', 'D', 'k', '(', 'خ', 'Y', 'ض', 'W', '♥', '\\u2067', '~', '|', 'و', '؟', '?', '❤', '✅', 'م', 'S', '☠', '\\u200c', 'ᴇ', 'گ', 'ص', ':', 'ة', 'U', 'J', 'Q', '☘', '☝', 'ع', '}', 'l', 'h', 'j', 'N', 'E', '\"', '✋', '\\u200d', 'ر', 'b', ';', 'A', '٪', 'غ', 'u', 'i', '✨', 'g', 'B', '❄', 'ا', 'ث', '^', '»', 'M', 'ن', 'C', 'ت', 'ک', 'w', 'ه', '\\u2069', ' ', '*', 'V', '+', 'c', 'ح', 'ش', '⛓', 'R', '⊰', 'ء', '☄', '️', '☹', 'ب', 'ی', 'ق', 'a', 'f', 'ظ', '.', '°', '\\u2066', 'ط', '٫', '«', 'm', 'r', 'p', 'O', '¹'}\n"
     ]
    }
   ],
   "source": [
    "uniqueChars = set(''.join(data['Sentence']))\n",
    "print(len(uniqueChars))\n",
    "print(uniqueChars)"
   ]
  },
  {
   "cell_type": "markdown",
   "metadata": {},
   "source": [
    "# Data Splitting"
   ]
  },
  {
   "cell_type": "code",
   "execution_count": 221,
   "metadata": {},
   "outputs": [],
   "source": [
    "from sklearn.model_selection import train_test_split\n",
    "\n",
    "train_data, test_data = train_test_split(data, random_state=42, test_size=0.2)"
   ]
  },
  {
   "cell_type": "code",
   "execution_count": 222,
   "metadata": {},
   "outputs": [
    {
     "name": "stderr",
     "output_type": "stream",
     "text": [
      "C:\\Users\\hi\\AppData\\Local\\Temp\\ipykernel_5544\\1392288644.py:2: FutureWarning: \n",
      "\n",
      "Passing `palette` without assigning `hue` is deprecated and will be removed in v0.14.0. Assign the `x` variable to `hue` and set `legend=False` for the same effect.\n",
      "\n",
      "  sns.countplot(data=train_data, x='Emotion', palette='plasma')\n"
     ]
    },
    {
     "data": {
      "text/plain": [
       "<Axes: xlabel='Emotion', ylabel='count'>"
      ]
     },
     "execution_count": 222,
     "metadata": {},
     "output_type": "execute_result"
    },
    {
     "data": {
      "image/png": "[encoded data removed]",
      "text/plain": [
       "<Figure size 864x432 with 1 Axes>"
      ]
     },
     "metadata": {
      "needs_background": "light"
     },
     "output_type": "display_data"
    }
   ],
   "source": [
    "plt.figure(figsize=(12, 6))\n",
    "sns.countplot(data=train_data, x='Emotion', palette='plasma')"
   ]
  },
  {
   "cell_type": "code",
   "execution_count": 223,
   "metadata": {},
   "outputs": [
    {
     "name": "stdout",
     "output_type": "stream",
     "text": [
      "(3938, 2)\n",
      "(985, 2)\n"
     ]
    }
   ],
   "source": [
    "print(train_data.shape)\n",
    "print(test_data.shape)"
   ]
  },
  {
   "cell_type": "code",
   "execution_count": 224,
   "metadata": {},
   "outputs": [],
   "source": [
    "train_x = pd.DataFrame(train_data['Sentence'], columns=['Sentence'], index=train_data.index)\n",
    "train_y = train_data['Emotion']\n",
    "\n",
    "test_x = pd.DataFrame(test_data['Sentence'], columns=['Sentence'], index=test_data.index)\n",
    "test_y = test_data['Emotion']"
   ]
  },
  {
   "cell_type": "markdown",
   "metadata": {},
   "source": [
    "# Feature engineering"
   ]
  },
  {
   "cell_type": "code",
   "execution_count": 225,
   "metadata": {},
   "outputs": [],
   "source": [
    "from sklearn.feature_extraction.text import TfidfVectorizer\n",
    "\n",
    "vectorizer = TfidfVectorizer()\n",
    "vector = vectorizer.fit_transform(train_x['Sentence'])\n",
    "vectorized_x_train = pd.DataFrame(vector.toarray(), columns=vectorizer.get_feature_names_out(), index=train_data.index)\n",
    "\n",
    "vector2 = vectorizer.transform(test_x['Sentence'])\n",
    "vectorized_x_test = pd.DataFrame(vector2.toarray(), columns=vectorizer.get_feature_names_out(), index=test_data.index)"
   ]
  },
  {
   "cell_type": "code",
   "execution_count": 226,
   "metadata": {},
   "outputs": [
    {
     "data": {
      "text/html": [
       "<div>\n",
       "<style scoped>\n",
       "    .dataframe tbody tr th:only-of-type {\n",
       "        vertical-align: middle;\n",
       "    }\n",
       "\n",
       "    .dataframe tbody tr th {\n",
       "        vertical-align: top;\n",
       "    }\n",
       "\n",
       "    .dataframe thead th {\n",
       "        text-align: right;\n",
       "    }\n",
       "</style>\n",
       "<table border=\"1\" class=\"dataframe\">\n",
       "  <thead>\n",
       "    <tr style=\"text-align: right;\">\n",
       "      <th></th>\n",
       "      <th>__</th>\n",
       "      <th>_اسنپ</th>\n",
       "      <th>_امینی</th>\n",
       "      <th>_ای</th>\n",
       "      <th>_جام</th>\n",
       "      <th>_دی</th>\n",
       "      <th>_زلزله</th>\n",
       "      <th>_و_</th>\n",
       "      <th>_پول</th>\n",
       "      <th>_ژانویه</th>\n",
       "      <th>...</th>\n",
       "      <th>یکمی</th>\n",
       "      <th>یکپارچگی</th>\n",
       "      <th>یکپارچگیه</th>\n",
       "      <th>یکی</th>\n",
       "      <th>یکیشون</th>\n",
       "      <th>یگانه</th>\n",
       "      <th>یی</th>\n",
       "      <th>ییره</th>\n",
       "      <th>ییشینگی</th>\n",
       "      <th>ییمیز</th>\n",
       "    </tr>\n",
       "  </thead>\n",
       "  <tbody>\n",
       "    <tr>\n",
       "      <th>184</th>\n",
       "      <td>0.0</td>\n",
       "      <td>0.0</td>\n",
       "      <td>0.0</td>\n",
       "      <td>0.0</td>\n",
       "      <td>0.0</td>\n",
       "      <td>0.0</td>\n",
       "      <td>0.0</td>\n",
       "      <td>0.0</td>\n",
       "      <td>0.0</td>\n",
       "      <td>0.0</td>\n",
       "      <td>...</td>\n",
       "      <td>0.0</td>\n",
       "      <td>0.0</td>\n",
       "      <td>0.0</td>\n",
       "      <td>0.0</td>\n",
       "      <td>0.0</td>\n",
       "      <td>0.0</td>\n",
       "      <td>0.0</td>\n",
       "      <td>0.0</td>\n",
       "      <td>0.0</td>\n",
       "      <td>0.0</td>\n",
       "    </tr>\n",
       "    <tr>\n",
       "      <th>205</th>\n",
       "      <td>0.0</td>\n",
       "      <td>0.0</td>\n",
       "      <td>0.0</td>\n",
       "      <td>0.0</td>\n",
       "      <td>0.0</td>\n",
       "      <td>0.0</td>\n",
       "      <td>0.0</td>\n",
       "      <td>0.0</td>\n",
       "      <td>0.0</td>\n",
       "      <td>0.0</td>\n",
       "      <td>...</td>\n",
       "      <td>0.0</td>\n",
       "      <td>0.0</td>\n",
       "      <td>0.0</td>\n",
       "      <td>0.0</td>\n",
       "      <td>0.0</td>\n",
       "      <td>0.0</td>\n",
       "      <td>0.0</td>\n",
       "      <td>0.0</td>\n",
       "      <td>0.0</td>\n",
       "      <td>0.0</td>\n",
       "    </tr>\n",
       "    <tr>\n",
       "      <th>4011</th>\n",
       "      <td>0.0</td>\n",
       "      <td>0.0</td>\n",
       "      <td>0.0</td>\n",
       "      <td>0.0</td>\n",
       "      <td>0.0</td>\n",
       "      <td>0.0</td>\n",
       "      <td>0.0</td>\n",
       "      <td>0.0</td>\n",
       "      <td>0.0</td>\n",
       "      <td>0.0</td>\n",
       "      <td>...</td>\n",
       "      <td>0.0</td>\n",
       "      <td>0.0</td>\n",
       "      <td>0.0</td>\n",
       "      <td>0.0</td>\n",
       "      <td>0.0</td>\n",
       "      <td>0.0</td>\n",
       "      <td>0.0</td>\n",
       "      <td>0.0</td>\n",
       "      <td>0.0</td>\n",
       "      <td>0.0</td>\n",
       "    </tr>\n",
       "    <tr>\n",
       "      <th>410</th>\n",
       "      <td>0.0</td>\n",
       "      <td>0.0</td>\n",
       "      <td>0.0</td>\n",
       "      <td>0.0</td>\n",
       "      <td>0.0</td>\n",
       "      <td>0.0</td>\n",
       "      <td>0.0</td>\n",
       "      <td>0.0</td>\n",
       "      <td>0.0</td>\n",
       "      <td>0.0</td>\n",
       "      <td>...</td>\n",
       "      <td>0.0</td>\n",
       "      <td>0.0</td>\n",
       "      <td>0.0</td>\n",
       "      <td>0.0</td>\n",
       "      <td>0.0</td>\n",
       "      <td>0.0</td>\n",
       "      <td>0.0</td>\n",
       "      <td>0.0</td>\n",
       "      <td>0.0</td>\n",
       "      <td>0.0</td>\n",
       "    </tr>\n",
       "    <tr>\n",
       "      <th>1049</th>\n",
       "      <td>0.0</td>\n",
       "      <td>0.0</td>\n",
       "      <td>0.0</td>\n",
       "      <td>0.0</td>\n",
       "      <td>0.0</td>\n",
       "      <td>0.0</td>\n",
       "      <td>0.0</td>\n",
       "      <td>0.0</td>\n",
       "      <td>0.0</td>\n",
       "      <td>0.0</td>\n",
       "      <td>...</td>\n",
       "      <td>0.0</td>\n",
       "      <td>0.0</td>\n",
       "      <td>0.0</td>\n",
       "      <td>0.0</td>\n",
       "      <td>0.0</td>\n",
       "      <td>0.0</td>\n",
       "      <td>0.0</td>\n",
       "      <td>0.0</td>\n",
       "      <td>0.0</td>\n",
       "      <td>0.0</td>\n",
       "    </tr>\n",
       "  </tbody>\n",
       "</table>\n",
       "<p>5 rows × 7592 columns</p>\n",
       "</div>"
      ],
      "text/plain": [
       "       __  _اسنپ  _امینی  _ای  _جام  _دی  _زلزله  _و_  _پول  _ژانویه  ...  \\\n",
       "184   0.0    0.0     0.0  0.0   0.0  0.0     0.0  0.0   0.0      0.0  ...   \n",
       "205   0.0    0.0     0.0  0.0   0.0  0.0     0.0  0.0   0.0      0.0  ...   \n",
       "4011  0.0    0.0     0.0  0.0   0.0  0.0     0.0  0.0   0.0      0.0  ...   \n",
       "410   0.0    0.0     0.0  0.0   0.0  0.0     0.0  0.0   0.0      0.0  ...   \n",
       "1049  0.0    0.0     0.0  0.0   0.0  0.0     0.0  0.0   0.0      0.0  ...   \n",
       "\n",
       "      یکمی  یکپارچگی  یکپارچگیه  یکی  یکیشون  یگانه   یی  ییره  ییشینگی  ییمیز  \n",
       "184    0.0       0.0        0.0  0.0     0.0    0.0  0.0   0.0      0.0    0.0  \n",
       "205    0.0       0.0        0.0  0.0     0.0    0.0  0.0   0.0      0.0    0.0  \n",
       "4011   0.0       0.0        0.0  0.0     0.0    0.0  0.0   0.0      0.0    0.0  \n",
       "410    0.0       0.0        0.0  0.0     0.0    0.0  0.0   0.0      0.0    0.0  \n",
       "1049   0.0       0.0        0.0  0.0     0.0    0.0  0.0   0.0      0.0    0.0  \n",
       "\n",
       "[5 rows x 7592 columns]"
      ]
     },
     "execution_count": 226,
     "metadata": {},
     "output_type": "execute_result"
    }
   ],
   "source": [
    "vectorized_x_train.head()"
   ]
  },
  {
   "cell_type": "code",
   "execution_count": 228,
   "metadata": {},
   "outputs": [
    {
     "data": {
      "text/plain": [
       "(3938, 7592)"
      ]
     },
     "execution_count": 228,
     "metadata": {},
     "output_type": "execute_result"
    }
   ],
   "source": [
    "vectorized_x_train.shape"
   ]
  },
  {
   "cell_type": "code",
   "execution_count": 229,
   "metadata": {},
   "outputs": [
    {
     "data": {
      "text/plain": [
       "(985, 7592)"
      ]
     },
     "execution_count": 229,
     "metadata": {},
     "output_type": "execute_result"
    }
   ],
   "source": [
    "vectorized_x_test.shape"
   ]
  },
  {
   "cell_type": "markdown",
   "metadata": {},
   "source": [
    "# Model Training"
   ]
  },
  {
   "cell_type": "code",
   "execution_count": 230,
   "metadata": {},
   "outputs": [],
   "source": [
    "from sklearn.metrics import f1_score, precision_score, accuracy_score, confusion_matrix, roc_curve, recall_score, roc_auc_score, ConfusionMatrixDisplay, RocCurveDisplay, auc\n",
    "from sklearn.model_selection import GridSearchCV, StratifiedKFold\n",
    "\n",
    "def model_train_test_evaluating(x_train, y_train, x_test, y_test, model, param_grid, model_name):\n",
    "    grid_search = GridSearchCV(model, param_grid=param_grid, cv=5, scoring='accuracy')\n",
    "    grid_search.fit(x_train, y_train)\n",
    "    classifier = grid_search.best_estimator_\n",
    "\n",
    "    y_train_pred = classifier.predict(x_train)\n",
    "    y_test_pred = classifier.predict(x_test)\n",
    "\n",
    "    train_accuracy = accuracy_score(y_train, y_train_pred)\n",
    "    test_accuracy = accuracy_score(y_test, y_test_pred)\n",
    "    f1_train = f1_score(y_train, y_train_pred, average='macro')\n",
    "    f1_test = f1_score(y_test, y_test_pred, average='macro') \n",
    "\n",
    "    print('Cross validation scores:')\n",
    "    print(f\"Best parameters: {grid_search.best_params_}\")\n",
    "    print(f\"Best score: {grid_search.best_score_:.4f}\")\n",
    "    print(f\"Accuracy: {accuracy_score(train_y, y_train_pred):.4f}\")\n",
    "\n",
    "    print('test_data report:')\n",
    "    print('Acuuracy: ', end='')\n",
    "    print(test_accuracy)\n",
    "    print('F1_score: ', end='')\n",
    "    print(f1_test)"
   ]
  },
  {
   "cell_type": "code",
   "execution_count": 231,
   "metadata": {},
   "outputs": [
    {
     "name": "stdout",
     "output_type": "stream",
     "text": [
      "Cross validation scores:\n",
      "Best parameters: {'max_depth': 30, 'min_samples_leaf': 20}\n",
      "Best score: 0.4916\n",
      "Accuracy: 0.5470\n",
      "test_data report:\n",
      "Acuuracy: 0.5025380710659898\n",
      "F1_score: 0.45420335367070697\n"
     ]
    }
   ],
   "source": [
    "from sklearn.model_selection import GridSearchCV, StratifiedKFold\n",
    "from sklearn import tree\n",
    "\n",
    "param_grid=[\n",
    "    {'max_depth': [10, 20, 30], 'min_samples_leaf': [10, 20, 30]}\n",
    "]\n",
    "\n",
    "dt_classifier = tree.DecisionTreeClassifier(random_state=42, criterion='gini')\n",
    "model_train_test_evaluating(vectorized_x_train, train_y, vectorized_x_test, test_y, dt_classifier, param_grid, 'Decision Tree')"
   ]
  },
  {
   "cell_type": "code",
   "execution_count": 234,
   "metadata": {},
   "outputs": [
    {
     "name": "stdout",
     "output_type": "stream",
     "text": [
      "Cross validation scores:\n",
      "Best parameters: {'max_depth': 30, 'n_estimators': 50}\n",
      "Best score: 0.5353\n",
      "Accuracy: 0.7514\n",
      "test_data report:\n",
      "Acuuracy: 0.550253807106599\n",
      "F1_score: 0.4511215129692614\n"
     ]
    }
   ],
   "source": [
    "from sklearn.ensemble import RandomForestClassifier\n",
    "\n",
    "param_grid=[\n",
    "    {'max_depth': [10, 20, 30], 'n_estimators': [30, 40, 50]}\n",
    "]\n",
    "\n",
    "rf_classifier = RandomForestClassifier(random_state=42, criterion='gini')\n",
    "model_train_test_evaluating(vectorized_x_train, train_y, vectorized_x_test, test_y, rf_classifier, param_grid, 'Decision Tree')"
   ]
  },
  {
   "cell_type": "code",
   "execution_count": 236,
   "metadata": {},
   "outputs": [
    {
     "name": "stdout",
     "output_type": "stream",
     "text": [
      "Cross validation scores:\n",
      "Best parameters: {'learning_rate': 0.3, 'max_depth': 5}\n",
      "Best score: 0.5879\n",
      "Accuracy: 0.0000\n",
      "test_data report:\n",
      "Acuuracy: 0.6\n",
      "F1_score: 0.566544810954752\n"
     ]
    }
   ],
   "source": [
    "from sklearn.preprocessing import LabelEncoder\n",
    "from xgboost import XGBClassifier\n",
    "\n",
    "label_encoder = LabelEncoder()\n",
    "train_y_encoded = label_encoder.fit_transform(train_y)\n",
    "test_y_encoded = label_encoder.transform(test_y)\n",
    "\n",
    "\n",
    "param_grid=[\n",
    "    {'max_depth': [5, 10, 15], 'learning_rate': [0.1, 0.2, 0.3]}\n",
    "]\n",
    "\n",
    "xgboost = XGBClassifier(random_state=42)\n",
    "model_train_test_evaluating(vectorized_x_train, train_y_encoded, vectorized_x_test, test_y_encoded, xgboost, param_grid, 'Decision Tree')"
   ]
  },
  {
   "cell_type": "code",
   "execution_count": null,
   "metadata": {},
   "outputs": [],
   "source": []
  }
 ],
 "metadata": {
  "kernelspec": {
   "display_name": "Python 3",
   "language": "python",
   "name": "python3"
  },
  "language_info": {
   "codemirror_mode": {
    "name": "ipython",
    "version": 3
   },
   "file_extension": ".py",
   "mimetype": "text/x-python",
   "name": "python",
   "nbconvert_exporter": "python",
   "pygments_lexer": "ipython3",
   "version": "3.10.4"
  }
 },
 "nbformat": 4,
 "nbformat_minor": 2
}
